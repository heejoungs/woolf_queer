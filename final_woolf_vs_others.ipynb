{
 "cells": [
  {
   "cell_type": "markdown",
   "metadata": {},
   "source": [
    "# Is \"queer\" more positive for Woolf than for male modernists?\n",
    "\n",
    "A notebook demonstrating how you could confirm your answer to that question statistically and with confidence.\n",
    "\n",
    "Short version: yes, you were right."
   ]
  },
  {
   "cell_type": "code",
   "execution_count": 1,
   "metadata": {},
   "outputs": [],
   "source": [
    "from gensim.utils import simple_preprocess\n",
    "from smart_open import smart_open\n",
    "import os\n",
    "from gensim import corpora\n",
    "from pprint import pprint"
   ]
  },
  {
   "cell_type": "code",
   "execution_count": 2,
   "metadata": {},
   "outputs": [],
   "source": [
    "from random import choices\n",
    "from scipy.spatial.distance import cosine\n",
    "import numpy as np"
   ]
  },
  {
   "cell_type": "markdown",
   "metadata": {},
   "source": [
    "### Bootstrap sample \"paragraphs\" from Woolf\n",
    "\n",
    "Instead of paragraphs, we're really going to be using sentence triplets.\n",
    "\n",
    "I'm grouping sentences because I don't know how much the word2vec training runs across sentence boundaries. If it does, randomizing sentences one by one might lose some information."
   ]
  },
  {
   "cell_type": "code",
   "execution_count": 3,
   "metadata": {},
   "outputs": [],
   "source": [
    "with open('C:\\\\Users\\\\Heejoung Shin\\\\Documents\\\\Heejoung Files\\\\UIUC MSLIS\\\\IS417-Data Science in the Humanities\\\\Research Paper\\\\Data\\\\woolfcorpus.txt', encoding = 'latin-1') as f:\n",
    "    woolflines = f.readlines()"
   ]
  },
  {
   "cell_type": "code",
   "execution_count": 4,
   "metadata": {},
   "outputs": [],
   "source": [
    "def paragraphize(linelist): \n",
    "    paragraphlist = []\n",
    "    sentence = []\n",
    "    scount = 0\n",
    "    for line in linelist:\n",
    "        words = line.strip().split()\n",
    "        for w in words:\n",
    "            if not w.endswith('.'):\n",
    "                sentence.append(w)\n",
    "            elif scount < 2:\n",
    "                sentence.append(w)\n",
    "                scount += 1\n",
    "            else:\n",
    "                scount = 0\n",
    "                sentence.append(w)\n",
    "                stext = ' '.join(sentence)\n",
    "                sentence = []\n",
    "                paragraphlist.append(stext)\n",
    "    print(len(linelist), len(paragraphlist))\n",
    "    \n",
    "    return paragraphlist"
   ]
  },
  {
   "cell_type": "code",
   "execution_count": 5,
   "metadata": {},
   "outputs": [
    {
     "data": {
      "text/plain": [
       "'chair.  The curious gleam which had come into all their eyes when\\n'"
      ]
     },
     "execution_count": 5,
     "metadata": {},
     "output_type": "execute_result"
    }
   ],
   "source": [
    "woolflines[57]"
   ]
  },
  {
   "cell_type": "code",
   "execution_count": 6,
   "metadata": {},
   "outputs": [
    {
     "name": "stdout",
     "output_type": "stream",
     "text": [
      "166559 31471\n"
     ]
    }
   ],
   "source": [
    "paragraphlist = paragraphize(woolflines)"
   ]
  },
  {
   "cell_type": "code",
   "execution_count": 7,
   "metadata": {},
   "outputs": [
    {
     "data": {
      "text/plain": [
       "\"The curious gleam which had come into all their eyes when Major Elkin began his story had faded completely from Colonel Pargiter's face. He sat staring ahead of him with bright blue eyes that seemed a little screwed up, as if the glare of the East were still in them; and puckered at the corners as if the dust were still in them. Some thought had struck him that made what the others were saying of no interest to him; indeed, it was disagreeable to him.\""
      ]
     },
     "execution_count": 7,
     "metadata": {},
     "output_type": "execute_result"
    }
   ],
   "source": [
    "paragraphlist[10]"
   ]
  },
  {
   "cell_type": "code",
   "execution_count": 8,
   "metadata": {},
   "outputs": [],
   "source": [
    "import gensim\n",
    "import gensim.models\n",
    "from gensim.test.utils import datapath\n",
    "from gensim import utils\n",
    "from gensim.parsing.preprocessing import remove_stopwords, preprocess_string"
   ]
  },
  {
   "cell_type": "markdown",
   "metadata": {},
   "source": [
    "### Lists of positive and negative words\n",
    "\n",
    "There are many such lists in circulation. We happen to be using a list created by Bing Liu, available at\n",
    "\n",
    "https://urldefense.com/v3/__https://ptrckprry.com/course/ssd/data/positive-words.txt*5Cn__;JQ!!DZ3fjg!ocdPDmxGKI3cM5KWMy4Lk5CvwWUKaVGNHHq7NmKxe-bnlu7HeocNyT0goglSyzLN$ \n",
    "https://urldefense.com/v3/__https://ptrckprry.com/course/ssd/data/negative-words.txt*5Cn__;JQ!!DZ3fjg!ocdPDmxGKI3cM5KWMy4Lk5CvwWUKaVGNHHq7NmKxe-bnlu7HeocNyT0gony6LFX4$ \n",
    "citation:\n",
    "\n",
    "Bing Liu, Minqing Hu and Junsheng Cheng. \"Opinion Observer: Analyzing and Comparing Opinions on the Web.\" Proceedings of the 14th International World Wide Web conference (WWW-2005), May 10-14, 2005, Chiba, Japan."
   ]
  },
  {
   "cell_type": "code",
   "execution_count": 9,
   "metadata": {},
   "outputs": [],
   "source": [
    "with open('C:\\\\Users\\\\Heejoung Shin\\\\Documents\\\\Heejoung Files\\\\UIUC MSLIS\\\\IS417-Data Science in the Humanities\\\\Research Paper\\\\Data\\\\liunegative.txt', encoding = 'utf-8') as f:\n",
    "    negative_words = [x.strip() for x in f.readlines()]\n",
    "    \n",
    "with open('C:\\\\Users\\\\Heejoung Shin\\\\Documents\\\\Heejoung Files\\\\UIUC MSLIS\\\\IS417-Data Science in the Humanities\\\\Research Paper\\\\Data\\\\liupositive.txt', encoding = 'utf-8') as f:\n",
    "    positive_words = [x.strip() for x in f.readlines()]"
   ]
  },
  {
   "cell_type": "code",
   "execution_count": 10,
   "metadata": {},
   "outputs": [],
   "source": [
    "def get_vector(wordlist, model): \n",
    "    vectors = []\n",
    "    \n",
    "    for ex in wordlist:    # for each word in a wordlist\n",
    "        if ex in model.wv:\n",
    "            vec = model.wv[ex]    # get its vector\n",
    "            vectorlength = np.linalg.norm(vec, ord = 2)     # normalize length\n",
    "            vectors.append(vec / vectorlength)              # and save it in a list\n",
    "        \n",
    "    thesum = np.sum(vectors, axis = 0)                  # then add all the vectors\n",
    "    vectorlength = np.linalg.norm(thesum, ord = 2)      # normalize length again\n",
    "    \n",
    "    return thesum / vectorlength\n"
   ]
  },
  {
   "cell_type": "markdown",
   "metadata": {},
   "source": [
    "### Create multiple Woolf models\n",
    "\n",
    "We're interested in assessing the stability of the thesis that Woolf uses \"queer\" in a more positive sense than Joyce, Fitzgerald, and Lawrence.\n",
    "\n",
    "Can we assert that statement generally? Is it highly dependent on one or two passages, or does it really hold together across the oeuvre of the authors in question?\n",
    "\n",
    "One way to assess this is to run multiple models on different subsamples of both corpora. In each case we can measure the distance from \"queer\" to positive words, and negative words, and the difference between the distances. \n",
    "\n",
    "Since we're measuring distance rather than similarity, the positivity of \"queer\" can be assessed as\n",
    "\n",
    "    negative_distance - positive_distance\n",
    "\n",
    "If we run, say, five models for each corpus, do we see any stable pattern?"
   ]
  },
  {
   "cell_type": "code",
   "execution_count": 45,
   "metadata": {},
   "outputs": [
    {
     "name": "stdout",
     "output_type": "stream",
     "text": [
      "0 0.02984565496444702\n",
      "1 0.04312220215797424\n",
      "2 0.030261218547821045\n",
      "3 0.017677471041679382\n",
      "4 0.03118079900741577\n",
      "5 0.028796449303627014\n",
      "6 0.04449121654033661\n",
      "7 0.0338318794965744\n",
      "8 0.06414829194545746\n",
      "9 0.020061522722244263\n"
     ]
    }
   ],
   "source": [
    "woolf_sims = []\n",
    "pos_distances = []\n",
    "neg_distances = []\n",
    "woolf_net_positive = []\n",
    "\n",
    "\n",
    "for i in range (10):\n",
    "    woolfsample = choices(paragraphlist, k = len(paragraphlist))\n",
    "\n",
    "    # random.choices samples with repetition.\n",
    "    # So each time we run this, we're creating a different bootstrap sample of\n",
    "    # \"paragraphs\" from the sentence list.\n",
    "\n",
    "    #loading txt file and turning it into courpus\n",
    "    class MyCorpus:\n",
    "        def __iter__(self):\n",
    "            global woolfsample    \n",
    "            for line in woolfsample:\n",
    "                yield gensim.utils.simple_preprocess(line)\n",
    "\n",
    "    sentences = MyCorpus()\n",
    "\n",
    "    model = gensim.models.Word2Vec(sentences, iter=10)\n",
    "\n",
    "    sims = model.wv.most_similar('queer', topn=100)  # get other similar words\n",
    "    woolf_sims.append(sims)\n",
    "\n",
    "    pos_vector = get_vector(positive_words, model)\n",
    "    neg_vector = get_vector(negative_words, model)\n",
    "    vec_queer = model.wv['queer']\n",
    "    \n",
    "    pos_dist = cosine(vec_queer, pos_vector)\n",
    "    neg_dist = cosine(vec_queer, neg_vector)\n",
    "    pos_distances.append(pos_dist)\n",
    "    neg_distances.append(neg_dist)\n",
    "    \n",
    "    net_positive_queer = neg_dist - pos_dist\n",
    "    \n",
    "    print(i, net_positive_queer)\n",
    "    \n",
    "    woolf_net_positive.append(net_positive_queer)\n"
   ]
  },
  {
   "cell_type": "markdown",
   "metadata": {},
   "source": [
    "The output above tells us, in short, that \"queer\" is always more positive than negative for Woolf. It's not a giant difference, and it varies a lot in size. But there's usually a lean toward the positive.\n",
    "\n",
    "We can also look at the specific distances involved for each run of the model:"
   ]
  },
  {
   "cell_type": "code",
   "execution_count": 14,
   "metadata": {},
   "outputs": [
    {
     "name": "stdout",
     "output_type": "stream",
     "text": [
      "0.8297 0.8152\n",
      "0.7734 0.7407\n",
      "0.8058 0.7807\n",
      "0.774 0.7231\n",
      "0.7545 0.7338\n"
     ]
    }
   ],
   "source": [
    "for i in range(5):\n",
    "    print(round(neg_distances[i], 4), round(pos_distances[i], 4))"
   ]
  },
  {
   "cell_type": "markdown",
   "metadata": {},
   "source": [
    "### Now run multiple models for Joyce, Fitzgerald, and Lawrence\n",
    "\n",
    "We'll just repeat the same steps. First load and paragraphize the corpus:"
   ]
  },
  {
   "cell_type": "code",
   "execution_count": 15,
   "metadata": {},
   "outputs": [],
   "source": [
    "with open('C:\\\\Users\\\\Heejoung Shin\\\\Documents\\\\Heejoung Files\\\\UIUC MSLIS\\\\IS417-Data Science in the Humanities\\\\Research Paper\\\\Data\\\\joyce_fitzgerald_lawrence_corpus.txt', encoding = 'latin-1') as f:\n",
    "    jfllines = f.readlines()"
   ]
  },
  {
   "cell_type": "code",
   "execution_count": 16,
   "metadata": {},
   "outputs": [
    {
     "name": "stdout",
     "output_type": "stream",
     "text": [
      "410809 75300\n"
     ]
    }
   ],
   "source": [
    "jflparagraphs = paragraphize(jfllines)"
   ]
  },
  {
   "cell_type": "markdown",
   "metadata": {},
   "source": [
    "Then run five models and measure net positivity in each case."
   ]
  },
  {
   "cell_type": "code",
   "execution_count": 17,
   "metadata": {},
   "outputs": [
    {
     "name": "stdout",
     "output_type": "stream",
     "text": [
      "0 -0.010129541158676147\n",
      "1 -0.035021230578422546\n",
      "2 -0.016061559319496155\n",
      "3 -0.025298237800598145\n",
      "4 -0.03434884548187256\n",
      "5 -0.012533366680145264\n",
      "6 -0.0475660115480423\n",
      "7 -0.03012832999229431\n",
      "8 -0.015756577253341675\n",
      "9 -0.014452427625656128\n"
     ]
    }
   ],
   "source": [
    "jfl_sims = []\n",
    "jfl_pos_distances = []\n",
    "jfl_neg_distances = []\n",
    "jfl_net_positive = []\n",
    "\n",
    "for i in range(10):\n",
    "    jflsample = choices(jflparagraphs, k = len(jflparagraphs))\n",
    "\n",
    "    # random.choices samples with repetition.\n",
    "    # So each time we run this, we're creating a different bootstrap sample of\n",
    "    # \"paragraphs\" from the sentence list.\n",
    "\n",
    "    #loading txt file and turning it into courpus\n",
    "    class MyCorpus:\n",
    "        def __iter__(self):\n",
    "            global jflsample    \n",
    "            for line in jflsample:\n",
    "                yield gensim.utils.simple_preprocess(line)\n",
    "\n",
    "    sentences = MyCorpus()\n",
    "\n",
    "    model = gensim.models.Word2Vec(sentences, iter=10)\n",
    "\n",
    "    sims = model.wv.most_similar('queer', topn=100)  # get other similar words\n",
    "    jfl_sims.append(sims)\n",
    "\n",
    "    pos_vector = get_vector(positive_words, model)\n",
    "    neg_vector = get_vector(negative_words, model)\n",
    "    vec_queer = model.wv['queer']\n",
    "    \n",
    "    pos_dist = cosine(vec_queer, pos_vector)\n",
    "    neg_dist = cosine(vec_queer, neg_vector)\n",
    "    jfl_pos_distances.append(pos_dist)\n",
    "    jfl_neg_distances.append(neg_dist)\n",
    "    \n",
    "    net_positive_queer = neg_dist - pos_dist\n",
    "    jfl_net_positive.append(net_positive_queer)\n",
    "    \n",
    "    print(i, net_positive_queer)\n",
    "\n"
   ]
  },
  {
   "cell_type": "markdown",
   "metadata": {},
   "source": [
    "We can see that for these authors, the word \"queer\" is usually slightly more negative than positive. It's not always true! There's one positive number, which does overlap slightly with a couple of Woolf's models. But it looks like the central tendency here is pretty different from the tendency for Woolf.\n",
    "\n",
    "Let's confirm that formally, using [a T test.](https://urldefense.com/v3/__https://www.scribbr.com/statistics/t-test/__;!!DZ3fjg!ocdPDmxGKI3cM5KWMy4Lk5CvwWUKaVGNHHq7NmKxe-bnlu7HeocNyT0goouiEOj9$ )"
   ]
  },
  {
   "cell_type": "code",
   "execution_count": 18,
   "metadata": {},
   "outputs": [],
   "source": [
    "from scipy.stats import ttest_ind"
   ]
  },
  {
   "cell_type": "code",
   "execution_count": 19,
   "metadata": {},
   "outputs": [
    {
     "data": {
      "text/plain": [
       "Ttest_indResult(statistic=8.809998941246375, pvalue=6.044038017650719e-08)"
      ]
     },
     "execution_count": 19,
     "metadata": {},
     "output_type": "execute_result"
    }
   ],
   "source": [
    "ttest_ind(woolf_net_positive, jfl_net_positive)"
   ]
  },
  {
   "cell_type": "markdown",
   "metadata": {},
   "source": [
    "The p value there tells us that the difference of means between these samples would not be very likely to occur by chance if these samples were drawn from populations that actually had the same mean value.\n",
    "\n",
    "You can say confidently that this word is more positive for Woolf than it is for Joyce, Fitzgerald, and Lawrence (considered collectively). How far this holds for each of those three authors individually would be a separate question — but that's also probably much further than you need to go in this project."
   ]
  },
  {
   "cell_type": "code",
   "execution_count": 20,
   "metadata": {},
   "outputs": [],
   "source": [
    "import seaborn as sns\n",
    "import pandas as pd\n",
    "from matplotlib import pyplot as plt"
   ]
  },
  {
   "cell_type": "code",
   "execution_count": 58,
   "metadata": {},
   "outputs": [],
   "source": [
    "boxplotdata = pd.DataFrame({'net_positivity': woolf_net_positive + jfl_net_positive, 'author': ['Woolf'] * 10 + ['JFL'] * 10})"
   ]
  },
  {
   "cell_type": "code",
   "execution_count": 59,
   "metadata": {},
   "outputs": [
    {
     "data": {
      "image/png": "[encoded data removed]",
      "text/plain": [
       "<Figure size 432x576 with 1 Axes>"
      ]
     },
     "metadata": {},
     "output_type": "display_data"
    }
   ],
   "source": [
    "sns.set(rc={'figure.figsize':(6, 8)})\n",
    "sns_plot = sns.boxplot(x = 'author', y = 'net_positivity', data = boxplotdata)\n",
    "fig = sns_plot.get_figure()\n",
    "plt.title(\"Stability Test for Woolf and JFL\")\n",
    "fig.savefig(\"boxplot_woolf_jfl.png\")\n",
    "plt.show()"
   ]
  },
  {
   "cell_type": "markdown",
   "metadata": {},
   "source": [
    "### This time, let's get individual male authors. Let's start with Joyce."
   ]
  },
  {
   "cell_type": "code",
   "execution_count": 23,
   "metadata": {},
   "outputs": [],
   "source": [
    "with open('C:\\\\Users\\\\Heejoung Shin\\\\Documents\\\\Heejoung Files\\\\UIUC MSLIS\\\\IS417-Data Science in the Humanities\\\\Research Paper\\\\Data\\\\joycecorpus.txt', encoding = 'latin-1') as f:\n",
    "    jfllines = f.readlines()"
   ]
  },
  {
   "cell_type": "code",
   "execution_count": 24,
   "metadata": {},
   "outputs": [
    {
     "name": "stdout",
     "output_type": "stream",
     "text": [
      "33647 9609\n"
     ]
    }
   ],
   "source": [
    "jparagraphs = paragraphize(jlines)"
   ]
  },
  {
   "cell_type": "code",
   "execution_count": 40,
   "metadata": {},
   "outputs": [
    {
     "name": "stdout",
     "output_type": "stream",
     "text": [
      "0 0.020460307598114014\n",
      "1 0.029211580753326416\n",
      "2 0.025097906589508057\n",
      "3 0.02371448278427124\n",
      "4 0.030085742473602295\n",
      "5 0.020095348358154297\n",
      "6 0.03134411573410034\n",
      "7 0.02500760555267334\n",
      "8 0.027004480361938477\n",
      "9 0.0049713850021362305\n"
     ]
    }
   ],
   "source": [
    "j_sims = []\n",
    "j_pos_distances = []\n",
    "j_neg_distances = []\n",
    "j_net_positive = []\n",
    "\n",
    "for i in range(10):\n",
    "    jsample = choices(jparagraphs, k = len(jparagraphs))\n",
    "\n",
    "    # random.choices samples with repetition.\n",
    "    # So each time we run this, we're creating a different bootstrap sample of\n",
    "    # \"paragraphs\" from the sentence list.\n",
    "\n",
    "    #loading txt file and turning it into courpus\n",
    "    class MyCorpus:\n",
    "        def __iter__(self):\n",
    "            global jsample    \n",
    "            for line in jsample:\n",
    "                yield gensim.utils.simple_preprocess(line)\n",
    "\n",
    "    sentences = MyCorpus()\n",
    "\n",
    "    model = gensim.models.Word2Vec(sentences, iter=10)\n",
    "\n",
    "    sims = model.wv.most_similar('queer', topn=100)  # get other similar words\n",
    "    j_sims.append(sims)\n",
    "\n",
    "    pos_vector = get_vector(positive_words, model)\n",
    "    neg_vector = get_vector(negative_words, model)\n",
    "    vec_queer = model.wv['queer']\n",
    "    \n",
    "    pos_dist = cosine(vec_queer, pos_vector)\n",
    "    neg_dist = cosine(vec_queer, neg_vector)\n",
    "    j_pos_distances.append(pos_dist)\n",
    "    j_neg_distances.append(neg_dist)\n",
    "    \n",
    "    net_positive_queer = neg_dist - pos_dist\n",
    "    j_net_positive.append(net_positive_queer)\n",
    "    \n",
    "    print(i, net_positive_queer)\n",
    "\n"
   ]
  },
  {
   "cell_type": "code",
   "execution_count": 25,
   "metadata": {},
   "outputs": [],
   "source": [
    "from scipy.stats import ttest_ind"
   ]
  },
  {
   "cell_type": "code",
   "execution_count": 50,
   "metadata": {},
   "outputs": [
    {
     "data": {
      "text/plain": [
       "Ttest_indResult(statistic=2.179211606525822, pvalue=0.042844310720461895)"
      ]
     },
     "execution_count": 50,
     "metadata": {},
     "output_type": "execute_result"
    }
   ],
   "source": [
    "ttest_ind(woolf_net_positive, j_net_positive)"
   ]
  },
  {
   "cell_type": "markdown",
   "metadata": {},
   "source": [
    "### Now it is Fitzgerald's turn."
   ]
  },
  {
   "cell_type": "code",
   "execution_count": 26,
   "metadata": {},
   "outputs": [],
   "source": [
    "with open('C:\\\\Users\\\\Heejoung Shin\\\\Documents\\\\Heejoung Files\\\\UIUC MSLIS\\\\IS417-Data Science in the Humanities\\\\Research Paper\\\\Data\\\\fitzgeraldcorpus.txt', encoding = 'latin-1') as f:\n",
    "    flines = f.readlines()"
   ]
  },
  {
   "cell_type": "code",
   "execution_count": 27,
   "metadata": {},
   "outputs": [
    {
     "name": "stdout",
     "output_type": "stream",
     "text": [
      "83012 11290\n"
     ]
    }
   ],
   "source": [
    "fparagraphs = paragraphize(flines)"
   ]
  },
  {
   "cell_type": "code",
   "execution_count": 29,
   "metadata": {},
   "outputs": [
    {
     "name": "stdout",
     "output_type": "stream",
     "text": [
      "0 0.01885199546813965\n",
      "1 0.003959298133850098\n",
      "2 0.02892845869064331\n",
      "3 0.023720979690551758\n",
      "4 0.0244901180267334\n",
      "5 0.04531586170196533\n",
      "6 0.012361705303192139\n",
      "7 0.01324915885925293\n",
      "8 0.047923147678375244\n",
      "9 0.02302372455596924\n"
     ]
    }
   ],
   "source": [
    "f_sims = []\n",
    "f_pos_distances = []\n",
    "f_neg_distances = []\n",
    "f_net_positive = []\n",
    "\n",
    "for i in range(10):\n",
    "    fsample = choices(fparagraphs, k = len(fparagraphs))\n",
    "\n",
    "    # random.choices samples with repetition.\n",
    "    # So each time we run this, we're creating a different bootstrap sample of\n",
    "    # \"paragraphs\" from the sentence list.\n",
    "\n",
    "    #loading txt file and turning it into courpus\n",
    "    class MyCorpus:\n",
    "        def __iter__(self):\n",
    "            global fsample    \n",
    "            for line in fsample:\n",
    "                yield gensim.utils.simple_preprocess(line)\n",
    "\n",
    "    sentences = MyCorpus()\n",
    "\n",
    "    model = gensim.models.Word2Vec(sentences, iter=10)\n",
    "\n",
    "    sims = model.wv.most_similar('queer', topn=100)  # get other similar words\n",
    "    f_sims.append(sims)\n",
    "\n",
    "    pos_vector = get_vector(positive_words, model)\n",
    "    neg_vector = get_vector(negative_words, model)\n",
    "    vec_queer = model.wv['queer']\n",
    "    \n",
    "    pos_dist = cosine(vec_queer, pos_vector)\n",
    "    neg_dist = cosine(vec_queer, neg_vector)\n",
    "    f_pos_distances.append(pos_dist)\n",
    "    f_neg_distances.append(neg_dist)\n",
    "    \n",
    "    net_positive_queer = neg_dist - pos_dist\n",
    "    f_net_positive.append(net_positive_queer)\n",
    "    \n",
    "    print(i, net_positive_queer)\n",
    "\n"
   ]
  },
  {
   "cell_type": "code",
   "execution_count": 51,
   "metadata": {},
   "outputs": [
    {
     "data": {
      "text/plain": [
       "Ttest_indResult(statistic=1.6629159064004138, pvalue=0.11364325257928456)"
      ]
     },
     "execution_count": 51,
     "metadata": {},
     "output_type": "execute_result"
    }
   ],
   "source": [
    "ttest_ind(woolf_net_positive, f_net_positive)"
   ]
  },
  {
   "cell_type": "code",
   "execution_count": null,
   "metadata": {},
   "outputs": [],
   "source": []
  },
  {
   "cell_type": "markdown",
   "metadata": {},
   "source": [
    "### Finally, let's get Lawrence."
   ]
  },
  {
   "cell_type": "code",
   "execution_count": 30,
   "metadata": {},
   "outputs": [],
   "source": [
    "with open('C:\\\\Users\\\\Heejoung Shin\\\\Documents\\\\Heejoung Files\\\\UIUC MSLIS\\\\IS417-Data Science in the Humanities\\\\Research Paper\\\\Data\\\\lawrencecorpus.txt', encoding = 'latin-1') as f:\n",
    "    llines = f.readlines()"
   ]
  },
  {
   "cell_type": "code",
   "execution_count": 31,
   "metadata": {},
   "outputs": [
    {
     "name": "stdout",
     "output_type": "stream",
     "text": [
      "294149 54401\n"
     ]
    }
   ],
   "source": [
    "lparagraphs = paragraphize(llines)"
   ]
  },
  {
   "cell_type": "code",
   "execution_count": 32,
   "metadata": {},
   "outputs": [
    {
     "name": "stdout",
     "output_type": "stream",
     "text": [
      "0 -0.009097427129745483\n",
      "1 -0.017985999584197998\n",
      "2 -0.02185189723968506\n",
      "3 -0.00016921758651733398\n",
      "4 -0.021677881479263306\n",
      "5 -0.0016668736934661865\n",
      "6 0.014635056257247925\n",
      "7 -0.006867080926895142\n",
      "8 -0.014697492122650146\n",
      "9 0.012068241834640503\n"
     ]
    }
   ],
   "source": [
    "l_sims = []\n",
    "l_pos_distances = []\n",
    "l_neg_distances = []\n",
    "l_net_positive = []\n",
    "\n",
    "for i in range(10):\n",
    "    lsample = choices(lparagraphs, k = len(lparagraphs))\n",
    "\n",
    "    # random.choices samples with repetition.\n",
    "    # So each time we run this, we're creating a different bootstrap sample of\n",
    "    # \"paragraphs\" from the sentence list.\n",
    "\n",
    "    #loading txt file and turning it into courpus\n",
    "    class MyCorpus:\n",
    "        def __iter__(self):\n",
    "            global lsample    \n",
    "            for line in lsample:\n",
    "                yield gensim.utils.simple_preprocess(line)\n",
    "\n",
    "    sentences = MyCorpus()\n",
    "\n",
    "    model = gensim.models.Word2Vec(sentences, iter=10)\n",
    "\n",
    "    sims = model.wv.most_similar('queer', topn=100)  # get other similar words\n",
    "    l_sims.append(sims)\n",
    "\n",
    "    pos_vector = get_vector(positive_words, model)\n",
    "    neg_vector = get_vector(negative_words, model)\n",
    "    vec_queer = model.wv['queer']\n",
    "    \n",
    "    pos_dist = cosine(vec_queer, pos_vector)\n",
    "    neg_dist = cosine(vec_queer, neg_vector)\n",
    "    l_pos_distances.append(pos_dist)\n",
    "    l_neg_distances.append(neg_dist)\n",
    "    \n",
    "    net_positive_queer = neg_dist - pos_dist\n",
    "    l_net_positive.append(net_positive_queer)\n",
    "    \n",
    "    print(i, net_positive_queer)\n",
    "\n"
   ]
  },
  {
   "cell_type": "markdown",
   "metadata": {},
   "source": [
    "For Lawrence, it is worth performing a T-test, as we now know that he is the player who is mainly responsible for associating queer with negative words. Below shows that it is unlikely "
   ]
  },
  {
   "cell_type": "code",
   "execution_count": 34,
   "metadata": {},
   "outputs": [
    {
     "data": {
      "text/plain": [
       "Ttest_indResult(statistic=5.894252453743602, pvalue=1.40052889766125e-05)"
      ]
     },
     "execution_count": 34,
     "metadata": {},
     "output_type": "execute_result"
    }
   ],
   "source": [
    "ttest_ind(woolf_net_positive, l_net_positive)"
   ]
  },
  {
   "cell_type": "code",
   "execution_count": null,
   "metadata": {},
   "outputs": [],
   "source": []
  },
  {
   "cell_type": "code",
   "execution_count": null,
   "metadata": {},
   "outputs": [],
   "source": []
  },
  {
   "cell_type": "markdown",
   "metadata": {},
   "source": [
    "### Now, let's add Joseph Conrad"
   ]
  },
  {
   "cell_type": "code",
   "execution_count": null,
   "metadata": {},
   "outputs": [],
   "source": []
  },
  {
   "cell_type": "code",
   "execution_count": 66,
   "metadata": {},
   "outputs": [],
   "source": [
    "with open('C:\\\\Users\\\\Heejoung Shin\\\\Documents\\\\Heejoung Files\\\\UIUC MSLIS\\\\IS417-Data Science in the Humanities\\\\Research Paper\\\\Data\\\\conradcorpus.txt', encoding = 'latin-1') as f:\n",
    "    clines = f.readlines()"
   ]
  },
  {
   "cell_type": "code",
   "execution_count": 67,
   "metadata": {},
   "outputs": [
    {
     "name": "stdout",
     "output_type": "stream",
     "text": [
      "200460 43875\n"
     ]
    }
   ],
   "source": [
    "cparagraphs = paragraphize(clines)"
   ]
  },
  {
   "cell_type": "code",
   "execution_count": 68,
   "metadata": {},
   "outputs": [
    {
     "name": "stdout",
     "output_type": "stream",
     "text": [
      "0 0.041653066873550415\n",
      "1 0.03466230630874634\n",
      "2 0.027008473873138428\n",
      "3 0.02608388662338257\n",
      "4 0.02556060254573822\n",
      "5 0.00840313732624054\n",
      "6 0.02373473346233368\n",
      "7 0.034248724579811096\n",
      "8 0.002868056297302246\n",
      "9 0.04377853870391846\n"
     ]
    }
   ],
   "source": [
    "c_sims = []\n",
    "c_pos_distances = []\n",
    "c_neg_distances = []\n",
    "c_net_positive = []\n",
    "\n",
    "for i in range(10):\n",
    "    csample = choices(cparagraphs, k = len(cparagraphs))\n",
    "\n",
    "    # random.choices samples with repetition.\n",
    "    # So each time we run this, we're creating a different bootstrap sample of\n",
    "    # \"paragraphs\" from the sentence list.\n",
    "\n",
    "    #loading txt file and turning it into courpus\n",
    "    class MyCorpus:\n",
    "        def __iter__(self):\n",
    "            global csample    \n",
    "            for line in csample:\n",
    "                yield gensim.utils.simple_preprocess(line)\n",
    "\n",
    "    sentences = MyCorpus()\n",
    "\n",
    "    model = gensim.models.Word2Vec(sentences, iter=10)\n",
    "\n",
    "    sims = model.wv.most_similar('queer', topn=100)  # get other similar words\n",
    "    c_sims.append(sims)\n",
    "\n",
    "    pos_vector = get_vector(positive_words, model)\n",
    "    neg_vector = get_vector(negative_words, model)\n",
    "    vec_queer = model.wv['queer']\n",
    "    \n",
    "    pos_dist = cosine(vec_queer, pos_vector)\n",
    "    neg_dist = cosine(vec_queer, neg_vector)\n",
    "    c_pos_distances.append(pos_dist)\n",
    "    c_neg_distances.append(neg_dist)\n",
    "    \n",
    "    net_positive_queer = neg_dist - pos_dist\n",
    "    c_net_positive.append(net_positive_queer)\n",
    "    \n",
    "    print(i, net_positive_queer)\n",
    "\n"
   ]
  },
  {
   "cell_type": "markdown",
   "metadata": {},
   "source": [
    "Conrad t-test"
   ]
  },
  {
   "cell_type": "code",
   "execution_count": 69,
   "metadata": {},
   "outputs": [
    {
     "data": {
      "text/plain": [
       "Ttest_indResult(statistic=1.2693442155432015, pvalue=0.22048577931603436)"
      ]
     },
     "execution_count": 69,
     "metadata": {},
     "output_type": "execute_result"
    }
   ],
   "source": [
    "ttest_ind(woolf_net_positive, c_net_positive)"
   ]
  },
  {
   "cell_type": "code",
   "execution_count": null,
   "metadata": {},
   "outputs": [],
   "source": []
  },
  {
   "cell_type": "code",
   "execution_count": null,
   "metadata": {},
   "outputs": [],
   "source": []
  },
  {
   "cell_type": "code",
   "execution_count": 60,
   "metadata": {},
   "outputs": [],
   "source": [
    "boxplotdata = pd.DataFrame({'net_positivity': woolf_net_positive + j_net_positive + f_net_positive + l_net_positive, 'author': ['Woolf'] * 10 + ['Joyce'] * 10 + ['Fitzgerald'] * 10 + ['Lawrence'] * 10})"
   ]
  },
  {
   "cell_type": "code",
   "execution_count": 61,
   "metadata": {},
   "outputs": [
    {
     "data": {
      "image/png": "[encoded data removed]",
      "text/plain": [
       "<Figure size 1080x576 with 1 Axes>"
      ]
     },
     "metadata": {},
     "output_type": "display_data"
    }
   ],
   "source": [
    "sns.set(rc={'figure.figsize':(15, 8)})\n",
    "sns_plot = sns.boxplot(x = 'author', y = 'net_positivity', data = boxplotdata)\n",
    "fig = sns_plot.get_figure()\n",
    "plt.title(\"Stability Test for All Authors\")\n",
    "fig.savefig(\"boxplot_allauthors4.png\")\n",
    "plt.show()"
   ]
  },
  {
   "cell_type": "code",
   "execution_count": null,
   "metadata": {},
   "outputs": [],
   "source": []
  },
  {
   "cell_type": "code",
   "execution_count": null,
   "metadata": {},
   "outputs": [],
   "source": []
  },
  {
   "cell_type": "code",
   "execution_count": 56,
   "metadata": {},
   "outputs": [],
   "source": [
    "boxplotdata = pd.DataFrame({'net_positivity': woolf_net_positive + j_net_positive + f_net_positive + l_net_positive + jfl_net_positive, 'author': ['Woolf'] * 10 + ['Joyce'] * 10 + ['Fitzgerald'] * 10 + ['Lawrence'] * 10 + ['JFL'] * 10})"
   ]
  },
  {
   "cell_type": "code",
   "execution_count": 57,
   "metadata": {},
   "outputs": [
    {
     "data": {
      "image/png": "[encoded data removed]",
      "text/plain": [
       "<Figure size 1296x576 with 1 Axes>"
      ]
     },
     "metadata": {},
     "output_type": "display_data"
    }
   ],
   "source": [
    "sns.set(rc={'figure.figsize':(18, 8)})\n",
    "sns_plot = sns.boxplot(x = 'author', y = 'net_positivity', data = boxplotdata)\n",
    "fig = sns_plot.get_figure()\n",
    "plt.title(\"Stability Test for All Authors and JFL\")\n",
    "fig.savefig(\"boxplot_allauthors_jfl3.png\")\n",
    "plt.show()"
   ]
  },
  {
   "cell_type": "code",
   "execution_count": null,
   "metadata": {},
   "outputs": [],
   "source": []
  }
 ],
 "metadata": {
  "kernelspec": {
   "display_name": "Python 3",
   "language": "python",
   "name": "python3"
  },
  "language_info": {
   "codemirror_mode": {
    "name": "ipython",
    "version": 3
   },
   "file_extension": ".py",
   "mimetype": "text/x-python",
   "name": "python",
   "nbconvert_exporter": "python",
   "pygments_lexer": "ipython3",
   "version": "3.8.5"
  }
 },
 "nbformat": 4,
 "nbformat_minor": 4
}
