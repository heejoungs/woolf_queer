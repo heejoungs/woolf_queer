{
 "cells": [
  {
   "cell_type": "markdown",
   "metadata": {},
   "source": [
    "# Net Positivity of the Words Closest to \"Queer\" for Each Decade from HistWords"
   ]
  },
  {
   "cell_type": "code",
   "execution_count": 465,
   "metadata": {},
   "outputs": [],
   "source": [
    "import pandas as pd\n",
    "import numpy as np\n",
    "from sklearn.decomposition import PCA\n",
    "import pickle"
   ]
  },
  {
   "cell_type": "markdown",
   "metadata": {},
   "source": [
    "### \"Queer\"'s vector is missing from the 1800s to the 1840s. For this reason, I was able to extract words closest to \"queer\" from the 1950s and onwards. Please see below."
   ]
  },
  {
   "cell_type": "markdown",
   "metadata": {},
   "source": [
    "### Word Embeddings (1800s)"
   ]
  },
  {
   "cell_type": "code",
   "execution_count": 596,
   "metadata": {},
   "outputs": [],
   "source": [
    "hist_embeds_1800 = dict()\n",
    "\n",
    "hist_vocab_1800 = pickle.load(open('C:\\\\Users\\\\Heejoung Shin\\\\Documents\\\\Heejoung Files\\\\UIUC MSLIS\\\\IS417-Data Science in the Humanities\\\\Research Paper\\\\Data\\\\eng-fiction-all_sgns\\\\sgns\\\\1800-vocab.pkl', 'rb'))\n",
    "hist_vectors_1800 = np.load('C:\\\\Users\\\\Heejoung Shin\\\\Documents\\\\Heejoung Files\\\\UIUC MSLIS\\\\IS417-Data Science in the Humanities\\\\Research Paper\\\\Data\\\\eng-fiction-all_sgns\\\\sgns\\\\1800-w.npy')\n",
    "\n",
    "\n",
    "for i in range(len(hist_vocab_1800)):\n",
    "    hist_embeds_1800[hist_vocab_1800[i]] = hist_vectors_1800[i]"
   ]
  },
  {
   "cell_type": "code",
   "execution_count": 597,
   "metadata": {},
   "outputs": [],
   "source": [
    "vec_queer_1800 = hist_embeds_1800['queer']"
   ]
  },
  {
   "cell_type": "code",
   "execution_count": 598,
   "metadata": {},
   "outputs": [
    {
     "data": {
      "text/plain": [
       "array([0., 0., 0., 0., 0., 0., 0., 0., 0., 0., 0., 0., 0., 0., 0., 0., 0.,\n",
       "       0., 0., 0., 0., 0., 0., 0., 0., 0., 0., 0., 0., 0., 0., 0., 0., 0.,\n",
       "       0., 0., 0., 0., 0., 0., 0., 0., 0., 0., 0., 0., 0., 0., 0., 0., 0.,\n",
       "       0., 0., 0., 0., 0., 0., 0., 0., 0., 0., 0., 0., 0., 0., 0., 0., 0.,\n",
       "       0., 0., 0., 0., 0., 0., 0., 0., 0., 0., 0., 0., 0., 0., 0., 0., 0.,\n",
       "       0., 0., 0., 0., 0., 0., 0., 0., 0., 0., 0., 0., 0., 0., 0., 0., 0.,\n",
       "       0., 0., 0., 0., 0., 0., 0., 0., 0., 0., 0., 0., 0., 0., 0., 0., 0.,\n",
       "       0., 0., 0., 0., 0., 0., 0., 0., 0., 0., 0., 0., 0., 0., 0., 0., 0.,\n",
       "       0., 0., 0., 0., 0., 0., 0., 0., 0., 0., 0., 0., 0., 0., 0., 0., 0.,\n",
       "       0., 0., 0., 0., 0., 0., 0., 0., 0., 0., 0., 0., 0., 0., 0., 0., 0.,\n",
       "       0., 0., 0., 0., 0., 0., 0., 0., 0., 0., 0., 0., 0., 0., 0., 0., 0.,\n",
       "       0., 0., 0., 0., 0., 0., 0., 0., 0., 0., 0., 0., 0., 0., 0., 0., 0.,\n",
       "       0., 0., 0., 0., 0., 0., 0., 0., 0., 0., 0., 0., 0., 0., 0., 0., 0.,\n",
       "       0., 0., 0., 0., 0., 0., 0., 0., 0., 0., 0., 0., 0., 0., 0., 0., 0.,\n",
       "       0., 0., 0., 0., 0., 0., 0., 0., 0., 0., 0., 0., 0., 0., 0., 0., 0.,\n",
       "       0., 0., 0., 0., 0., 0., 0., 0., 0., 0., 0., 0., 0., 0., 0., 0., 0.,\n",
       "       0., 0., 0., 0., 0., 0., 0., 0., 0., 0., 0., 0., 0., 0., 0., 0., 0.,\n",
       "       0., 0., 0., 0., 0., 0., 0., 0., 0., 0., 0.])"
      ]
     },
     "execution_count": 598,
     "metadata": {},
     "output_type": "execute_result"
    }
   ],
   "source": [
    "vec_queer_1800 "
   ]
  },
  {
   "cell_type": "code",
   "execution_count": null,
   "metadata": {},
   "outputs": [],
   "source": []
  },
  {
   "cell_type": "markdown",
   "metadata": {},
   "source": [
    "### Word Embeddings (1810s)"
   ]
  },
  {
   "cell_type": "code",
   "execution_count": 593,
   "metadata": {},
   "outputs": [],
   "source": [
    "hist_embeds_1810 = dict()\n",
    "\n",
    "hist_vocab_1810 = pickle.load(open('C:\\\\Users\\\\Heejoung Shin\\\\Documents\\\\Heejoung Files\\\\UIUC MSLIS\\\\IS417-Data Science in the Humanities\\\\Research Paper\\\\Data\\\\eng-fiction-all_sgns\\\\sgns\\\\1810-vocab.pkl', 'rb'))\n",
    "hist_vectors_1810 = np.load('C:\\\\Users\\\\Heejoung Shin\\\\Documents\\\\Heejoung Files\\\\UIUC MSLIS\\\\IS417-Data Science in the Humanities\\\\Research Paper\\\\Data\\\\eng-fiction-all_sgns\\\\sgns\\\\1810-w.npy')\n",
    "\n",
    "\n",
    "for i in range(len(hist_vocab_1810)):\n",
    "    hist_embeds_1810[hist_vocab_1810[i]] = hist_vectors_1810[i]"
   ]
  },
  {
   "cell_type": "code",
   "execution_count": 594,
   "metadata": {},
   "outputs": [],
   "source": [
    "vec_queer_1810 = hist_embeds_1810['queer']"
   ]
  },
  {
   "cell_type": "code",
   "execution_count": 595,
   "metadata": {},
   "outputs": [
    {
     "data": {
      "text/plain": [
       "array([0., 0., 0., 0., 0., 0., 0., 0., 0., 0., 0., 0., 0., 0., 0., 0., 0.,\n",
       "       0., 0., 0., 0., 0., 0., 0., 0., 0., 0., 0., 0., 0., 0., 0., 0., 0.,\n",
       "       0., 0., 0., 0., 0., 0., 0., 0., 0., 0., 0., 0., 0., 0., 0., 0., 0.,\n",
       "       0., 0., 0., 0., 0., 0., 0., 0., 0., 0., 0., 0., 0., 0., 0., 0., 0.,\n",
       "       0., 0., 0., 0., 0., 0., 0., 0., 0., 0., 0., 0., 0., 0., 0., 0., 0.,\n",
       "       0., 0., 0., 0., 0., 0., 0., 0., 0., 0., 0., 0., 0., 0., 0., 0., 0.,\n",
       "       0., 0., 0., 0., 0., 0., 0., 0., 0., 0., 0., 0., 0., 0., 0., 0., 0.,\n",
       "       0., 0., 0., 0., 0., 0., 0., 0., 0., 0., 0., 0., 0., 0., 0., 0., 0.,\n",
       "       0., 0., 0., 0., 0., 0., 0., 0., 0., 0., 0., 0., 0., 0., 0., 0., 0.,\n",
       "       0., 0., 0., 0., 0., 0., 0., 0., 0., 0., 0., 0., 0., 0., 0., 0., 0.,\n",
       "       0., 0., 0., 0., 0., 0., 0., 0., 0., 0., 0., 0., 0., 0., 0., 0., 0.,\n",
       "       0., 0., 0., 0., 0., 0., 0., 0., 0., 0., 0., 0., 0., 0., 0., 0., 0.,\n",
       "       0., 0., 0., 0., 0., 0., 0., 0., 0., 0., 0., 0., 0., 0., 0., 0., 0.,\n",
       "       0., 0., 0., 0., 0., 0., 0., 0., 0., 0., 0., 0., 0., 0., 0., 0., 0.,\n",
       "       0., 0., 0., 0., 0., 0., 0., 0., 0., 0., 0., 0., 0., 0., 0., 0., 0.,\n",
       "       0., 0., 0., 0., 0., 0., 0., 0., 0., 0., 0., 0., 0., 0., 0., 0., 0.,\n",
       "       0., 0., 0., 0., 0., 0., 0., 0., 0., 0., 0., 0., 0., 0., 0., 0., 0.,\n",
       "       0., 0., 0., 0., 0., 0., 0., 0., 0., 0., 0.])"
      ]
     },
     "execution_count": 595,
     "metadata": {},
     "output_type": "execute_result"
    }
   ],
   "source": [
    "vec_queer_1810 "
   ]
  },
  {
   "cell_type": "code",
   "execution_count": null,
   "metadata": {},
   "outputs": [],
   "source": []
  },
  {
   "cell_type": "markdown",
   "metadata": {},
   "source": [
    "### Word Embeddings (1820s)"
   ]
  },
  {
   "cell_type": "code",
   "execution_count": 585,
   "metadata": {},
   "outputs": [],
   "source": [
    "hist_embeds_1820 = dict()\n",
    "\n",
    "hist_vocab_1820 = pickle.load(open('C:\\\\Users\\\\Heejoung Shin\\\\Documents\\\\Heejoung Files\\\\UIUC MSLIS\\\\IS417-Data Science in the Humanities\\\\Research Paper\\\\Data\\\\eng-fiction-all_sgns\\\\sgns\\\\1820-vocab.pkl', 'rb'))\n",
    "hist_vectors_1820 = np.load('C:\\\\Users\\\\Heejoung Shin\\\\Documents\\\\Heejoung Files\\\\UIUC MSLIS\\\\IS417-Data Science in the Humanities\\\\Research Paper\\\\Data\\\\eng-fiction-all_sgns\\\\sgns\\\\1820-w.npy')\n",
    "\n",
    "\n",
    "for i in range(len(hist_vocab_1820)):\n",
    "    hist_embeds_1820[hist_vocab_1820[i]] = hist_vectors_1820[i]"
   ]
  },
  {
   "cell_type": "code",
   "execution_count": 586,
   "metadata": {},
   "outputs": [],
   "source": [
    "vec_queer_1820 = hist_embeds_1820['queer']"
   ]
  },
  {
   "cell_type": "code",
   "execution_count": 587,
   "metadata": {},
   "outputs": [
    {
     "data": {
      "text/plain": [
       "array([0., 0., 0., 0., 0., 0., 0., 0., 0., 0., 0., 0., 0., 0., 0., 0., 0.,\n",
       "       0., 0., 0., 0., 0., 0., 0., 0., 0., 0., 0., 0., 0., 0., 0., 0., 0.,\n",
       "       0., 0., 0., 0., 0., 0., 0., 0., 0., 0., 0., 0., 0., 0., 0., 0., 0.,\n",
       "       0., 0., 0., 0., 0., 0., 0., 0., 0., 0., 0., 0., 0., 0., 0., 0., 0.,\n",
       "       0., 0., 0., 0., 0., 0., 0., 0., 0., 0., 0., 0., 0., 0., 0., 0., 0.,\n",
       "       0., 0., 0., 0., 0., 0., 0., 0., 0., 0., 0., 0., 0., 0., 0., 0., 0.,\n",
       "       0., 0., 0., 0., 0., 0., 0., 0., 0., 0., 0., 0., 0., 0., 0., 0., 0.,\n",
       "       0., 0., 0., 0., 0., 0., 0., 0., 0., 0., 0., 0., 0., 0., 0., 0., 0.,\n",
       "       0., 0., 0., 0., 0., 0., 0., 0., 0., 0., 0., 0., 0., 0., 0., 0., 0.,\n",
       "       0., 0., 0., 0., 0., 0., 0., 0., 0., 0., 0., 0., 0., 0., 0., 0., 0.,\n",
       "       0., 0., 0., 0., 0., 0., 0., 0., 0., 0., 0., 0., 0., 0., 0., 0., 0.,\n",
       "       0., 0., 0., 0., 0., 0., 0., 0., 0., 0., 0., 0., 0., 0., 0., 0., 0.,\n",
       "       0., 0., 0., 0., 0., 0., 0., 0., 0., 0., 0., 0., 0., 0., 0., 0., 0.,\n",
       "       0., 0., 0., 0., 0., 0., 0., 0., 0., 0., 0., 0., 0., 0., 0., 0., 0.,\n",
       "       0., 0., 0., 0., 0., 0., 0., 0., 0., 0., 0., 0., 0., 0., 0., 0., 0.,\n",
       "       0., 0., 0., 0., 0., 0., 0., 0., 0., 0., 0., 0., 0., 0., 0., 0., 0.,\n",
       "       0., 0., 0., 0., 0., 0., 0., 0., 0., 0., 0., 0., 0., 0., 0., 0., 0.,\n",
       "       0., 0., 0., 0., 0., 0., 0., 0., 0., 0., 0.])"
      ]
     },
     "execution_count": 587,
     "metadata": {},
     "output_type": "execute_result"
    }
   ],
   "source": [
    "vec_queer_1820 "
   ]
  },
  {
   "cell_type": "code",
   "execution_count": null,
   "metadata": {},
   "outputs": [],
   "source": []
  },
  {
   "cell_type": "markdown",
   "metadata": {},
   "source": [
    "### Word Embeddings (1830s)"
   ]
  },
  {
   "cell_type": "code",
   "execution_count": 590,
   "metadata": {},
   "outputs": [],
   "source": [
    "hist_embeds_1830 = dict()\n",
    "\n",
    "hist_vocab_1830 = pickle.load(open('C:\\\\Users\\\\Heejoung Shin\\\\Documents\\\\Heejoung Files\\\\UIUC MSLIS\\\\IS417-Data Science in the Humanities\\\\Research Paper\\\\Data\\\\eng-fiction-all_sgns\\\\sgns\\\\1830-vocab.pkl', 'rb'))\n",
    "hist_vectors_1830 = np.load('C:\\\\Users\\\\Heejoung Shin\\\\Documents\\\\Heejoung Files\\\\UIUC MSLIS\\\\IS417-Data Science in the Humanities\\\\Research Paper\\\\Data\\\\eng-fiction-all_sgns\\\\sgns\\\\1830-w.npy')\n",
    "\n",
    "\n",
    "for i in range(len(hist_vocab_1830)):\n",
    "    hist_embeds_1830[hist_vocab_1830[i]] = hist_vectors_1830[i]"
   ]
  },
  {
   "cell_type": "code",
   "execution_count": 591,
   "metadata": {},
   "outputs": [],
   "source": [
    "vec_queer_1830 = hist_embeds_1830['queer']"
   ]
  },
  {
   "cell_type": "code",
   "execution_count": 592,
   "metadata": {},
   "outputs": [
    {
     "data": {
      "text/plain": [
       "array([0., 0., 0., 0., 0., 0., 0., 0., 0., 0., 0., 0., 0., 0., 0., 0., 0.,\n",
       "       0., 0., 0., 0., 0., 0., 0., 0., 0., 0., 0., 0., 0., 0., 0., 0., 0.,\n",
       "       0., 0., 0., 0., 0., 0., 0., 0., 0., 0., 0., 0., 0., 0., 0., 0., 0.,\n",
       "       0., 0., 0., 0., 0., 0., 0., 0., 0., 0., 0., 0., 0., 0., 0., 0., 0.,\n",
       "       0., 0., 0., 0., 0., 0., 0., 0., 0., 0., 0., 0., 0., 0., 0., 0., 0.,\n",
       "       0., 0., 0., 0., 0., 0., 0., 0., 0., 0., 0., 0., 0., 0., 0., 0., 0.,\n",
       "       0., 0., 0., 0., 0., 0., 0., 0., 0., 0., 0., 0., 0., 0., 0., 0., 0.,\n",
       "       0., 0., 0., 0., 0., 0., 0., 0., 0., 0., 0., 0., 0., 0., 0., 0., 0.,\n",
       "       0., 0., 0., 0., 0., 0., 0., 0., 0., 0., 0., 0., 0., 0., 0., 0., 0.,\n",
       "       0., 0., 0., 0., 0., 0., 0., 0., 0., 0., 0., 0., 0., 0., 0., 0., 0.,\n",
       "       0., 0., 0., 0., 0., 0., 0., 0., 0., 0., 0., 0., 0., 0., 0., 0., 0.,\n",
       "       0., 0., 0., 0., 0., 0., 0., 0., 0., 0., 0., 0., 0., 0., 0., 0., 0.,\n",
       "       0., 0., 0., 0., 0., 0., 0., 0., 0., 0., 0., 0., 0., 0., 0., 0., 0.,\n",
       "       0., 0., 0., 0., 0., 0., 0., 0., 0., 0., 0., 0., 0., 0., 0., 0., 0.,\n",
       "       0., 0., 0., 0., 0., 0., 0., 0., 0., 0., 0., 0., 0., 0., 0., 0., 0.,\n",
       "       0., 0., 0., 0., 0., 0., 0., 0., 0., 0., 0., 0., 0., 0., 0., 0., 0.,\n",
       "       0., 0., 0., 0., 0., 0., 0., 0., 0., 0., 0., 0., 0., 0., 0., 0., 0.,\n",
       "       0., 0., 0., 0., 0., 0., 0., 0., 0., 0., 0.])"
      ]
     },
     "execution_count": 592,
     "metadata": {},
     "output_type": "execute_result"
    }
   ],
   "source": [
    "vec_queer_1830 "
   ]
  },
  {
   "cell_type": "markdown",
   "metadata": {},
   "source": [
    "### Word Embeddings (1840s)"
   ]
  },
  {
   "cell_type": "code",
   "execution_count": 574,
   "metadata": {},
   "outputs": [],
   "source": [
    "hist_embeds_1840 = dict()\n",
    "\n",
    "hist_vocab_1840 = pickle.load(open('C:\\\\Users\\\\Heejoung Shin\\\\Documents\\\\Heejoung Files\\\\UIUC MSLIS\\\\IS417-Data Science in the Humanities\\\\Research Paper\\\\Data\\\\eng-fiction-all_sgns\\\\sgns\\\\1840-vocab.pkl', 'rb'))\n",
    "hist_vectors_1840 = np.load('C:\\\\Users\\\\Heejoung Shin\\\\Documents\\\\Heejoung Files\\\\UIUC MSLIS\\\\IS417-Data Science in the Humanities\\\\Research Paper\\\\Data\\\\eng-fiction-all_sgns\\\\sgns\\\\1840-w.npy')\n",
    "\n",
    "\n",
    "for i in range(len(hist_vocab_1840)):\n",
    "    hist_embeds_1840[hist_vocab_1840[i]] = hist_vectors_1840[i]"
   ]
  },
  {
   "cell_type": "code",
   "execution_count": 576,
   "metadata": {},
   "outputs": [],
   "source": [
    "vec_queer_1840 = hist_embeds_1840['queer']"
   ]
  },
  {
   "cell_type": "code",
   "execution_count": 584,
   "metadata": {},
   "outputs": [
    {
     "data": {
      "text/plain": [
       "array([0., 0., 0., 0., 0., 0., 0., 0., 0., 0., 0., 0., 0., 0., 0., 0., 0.,\n",
       "       0., 0., 0., 0., 0., 0., 0., 0., 0., 0., 0., 0., 0., 0., 0., 0., 0.,\n",
       "       0., 0., 0., 0., 0., 0., 0., 0., 0., 0., 0., 0., 0., 0., 0., 0., 0.,\n",
       "       0., 0., 0., 0., 0., 0., 0., 0., 0., 0., 0., 0., 0., 0., 0., 0., 0.,\n",
       "       0., 0., 0., 0., 0., 0., 0., 0., 0., 0., 0., 0., 0., 0., 0., 0., 0.,\n",
       "       0., 0., 0., 0., 0., 0., 0., 0., 0., 0., 0., 0., 0., 0., 0., 0., 0.,\n",
       "       0., 0., 0., 0., 0., 0., 0., 0., 0., 0., 0., 0., 0., 0., 0., 0., 0.,\n",
       "       0., 0., 0., 0., 0., 0., 0., 0., 0., 0., 0., 0., 0., 0., 0., 0., 0.,\n",
       "       0., 0., 0., 0., 0., 0., 0., 0., 0., 0., 0., 0., 0., 0., 0., 0., 0.,\n",
       "       0., 0., 0., 0., 0., 0., 0., 0., 0., 0., 0., 0., 0., 0., 0., 0., 0.,\n",
       "       0., 0., 0., 0., 0., 0., 0., 0., 0., 0., 0., 0., 0., 0., 0., 0., 0.,\n",
       "       0., 0., 0., 0., 0., 0., 0., 0., 0., 0., 0., 0., 0., 0., 0., 0., 0.,\n",
       "       0., 0., 0., 0., 0., 0., 0., 0., 0., 0., 0., 0., 0., 0., 0., 0., 0.,\n",
       "       0., 0., 0., 0., 0., 0., 0., 0., 0., 0., 0., 0., 0., 0., 0., 0., 0.,\n",
       "       0., 0., 0., 0., 0., 0., 0., 0., 0., 0., 0., 0., 0., 0., 0., 0., 0.,\n",
       "       0., 0., 0., 0., 0., 0., 0., 0., 0., 0., 0., 0., 0., 0., 0., 0., 0.,\n",
       "       0., 0., 0., 0., 0., 0., 0., 0., 0., 0., 0., 0., 0., 0., 0., 0., 0.,\n",
       "       0., 0., 0., 0., 0., 0., 0., 0., 0., 0., 0.])"
      ]
     },
     "execution_count": 584,
     "metadata": {},
     "output_type": "execute_result"
    }
   ],
   "source": [
    "vec_queer_1840"
   ]
  },
  {
   "cell_type": "code",
   "execution_count": null,
   "metadata": {},
   "outputs": [],
   "source": []
  },
  {
   "cell_type": "markdown",
   "metadata": {},
   "source": [
    "### Word Embeddings (1850s)"
   ]
  },
  {
   "cell_type": "code",
   "execution_count": 557,
   "metadata": {},
   "outputs": [],
   "source": [
    "hist_embeds_1850 = dict()\n",
    "\n",
    "hist_vocab_1850 = pickle.load(open('C:\\\\Users\\\\Heejoung Shin\\\\Documents\\\\Heejoung Files\\\\UIUC MSLIS\\\\IS417-Data Science in the Humanities\\\\Research Paper\\\\Data\\\\eng-fiction-all_sgns\\\\sgns\\\\1850-vocab.pkl', 'rb'))\n",
    "hist_vectors_1850 = np.load('C:\\\\Users\\\\Heejoung Shin\\\\Documents\\\\Heejoung Files\\\\UIUC MSLIS\\\\IS417-Data Science in the Humanities\\\\Research Paper\\\\Data\\\\eng-fiction-all_sgns\\\\sgns\\\\1850-w.npy')\n",
    "\n",
    "\n",
    "for i in range(len(hist_vocab_1850)):\n",
    "    hist_embeds_1850[hist_vocab_1850[i]] = hist_vectors_1850[i]"
   ]
  },
  {
   "cell_type": "code",
   "execution_count": 558,
   "metadata": {},
   "outputs": [],
   "source": [
    "vec_queer_1850 = hist_embeds_1850['queer']"
   ]
  },
  {
   "cell_type": "code",
   "execution_count": 559,
   "metadata": {},
   "outputs": [],
   "source": [
    "vectordict_1850 = dict()\n",
    "for v in hist_vocab_1850:\n",
    "    vectordict_1850[v] = hist_embeds_1850[v]"
   ]
  },
  {
   "cell_type": "code",
   "execution_count": 560,
   "metadata": {},
   "outputs": [],
   "source": [
    "vectordf_1850 = pd.DataFrame.from_dict(vectordict_1850, orient = 'index')\n",
    "vectordf_1850[\"sum\"] = vectordf_1850.sum(axis=1)\n",
    "valuezero_1850 = vectordf_1850['sum'].isin([0.0])\n",
    "vectordf_1850[~valuezero_1850]\n",
    "vectordf_no_zeros_1850 = vectordf_1850[~valuezero_1850]"
   ]
  },
  {
   "cell_type": "code",
   "execution_count": 561,
   "metadata": {},
   "outputs": [],
   "source": [
    "del vectordf_no_zeros_1850['sum']"
   ]
  },
  {
   "cell_type": "code",
   "execution_count": 562,
   "metadata": {},
   "outputs": [],
   "source": [
    "def vocab2pca(hist_vocab_1850):\n",
    "    \n",
    "    vectordict_1850 = dict()\n",
    "    for v in hist_vocab_1850:\n",
    "        vectordict_1850[v] = hist_embeds_1850[v]\n",
    "        \n",
    "    vectordf_1850 = pd.DataFrame.from_dict(vectordict_1850, orient = 'index')\n",
    "    vectordf_1850[\"sum\"] = vectordf_1850.sum(axis=1)\n",
    "    valuezero_1850 = vectordf_1850['sum'].isin([0.0])\n",
    "    vectordf_no_zeros_1850 = vectordf_1850[~valuezero_1850]\n",
    "    del vectordf_no_zeros_1850['sum']\n",
    "    \n",
    "    vectorlengths_1850 = np.linalg.norm(vectordf_no_zeros_1850, ord = 2, axis = 1)   # normalize vector lengths\n",
    "    vectordf_no_zeros_1850 = vectordf_no_zeros_1850.divide(vectorlengths_1850, axis = 'rows')      # for PCA\n",
    "    hist_vocab_no_zeros_1850 = list(vectordf_no_zeros_1850.index.values) # for index\n",
    "    \n",
    "    pca = PCA(n_components = 2)       \n",
    "    components_1850 = pca.fit_transform(vectordf_no_zeros_1850)                      # perform PCA\n",
    "    plotframe_1850 = pd.DataFrame({'x': components_1850[ : , 0], 'y': components_1850[ : , 1]}, index = hist_vocab_no_zeros_1850)\n",
    "    \n",
    "    return plotframe_1850"
   ]
  },
  {
   "cell_type": "code",
   "execution_count": 565,
   "metadata": {},
   "outputs": [
    {
     "data": {
      "text/html": [
       "<div>\n",
       "<style scoped>\n",
       "    .dataframe tbody tr th:only-of-type {\n",
       "        vertical-align: middle;\n",
       "    }\n",
       "\n",
       "    .dataframe tbody tr th {\n",
       "        vertical-align: top;\n",
       "    }\n",
       "\n",
       "    .dataframe thead th {\n",
       "        text-align: right;\n",
       "    }\n",
       "</style>\n",
       "<table border=\"1\" class=\"dataframe\">\n",
       "  <thead>\n",
       "    <tr style=\"text-align: right;\">\n",
       "      <th></th>\n",
       "      <th>queer</th>\n",
       "    </tr>\n",
       "  </thead>\n",
       "  <tbody>\n",
       "    <tr>\n",
       "      <th>x</th>\n",
       "      <td>-0.025114</td>\n",
       "    </tr>\n",
       "    <tr>\n",
       "      <th>y</th>\n",
       "      <td>0.057229</td>\n",
       "    </tr>\n",
       "  </tbody>\n",
       "</table>\n",
       "</div>"
      ],
      "text/plain": [
       "      queer\n",
       "x -0.025114\n",
       "y  0.057229"
      ]
     },
     "execution_count": 565,
     "metadata": {},
     "output_type": "execute_result"
    }
   ],
   "source": [
    "plotframe_1850 = vocab2pca(hist_vocab_1850)\n",
    "transposed_1850 = plotframe_1850.transpose()\n",
    "transposed_1850[['queer']]"
   ]
  },
  {
   "cell_type": "code",
   "execution_count": 566,
   "metadata": {},
   "outputs": [],
   "source": [
    "queer_x_1850 = transposed_1850.iloc[0]['queer']\n",
    "queer_y_1850 = transposed_1850.iloc[1]['queer']"
   ]
  },
  {
   "cell_type": "code",
   "execution_count": 567,
   "metadata": {},
   "outputs": [],
   "source": [
    "\n",
    "plotframe_1850[\"distance_from_queer\"] = (((plotframe_1850.x-queer_x_1850)**2+(plotframe_1850.y-queer_y_1850)**2)**0.5)\n",
    "pd.set_option('display.max_rows', None)\n",
    "distance_sorted_1850 = plotframe_1850.sort_values([\"distance_from_queer\"], ascending=True)\n",
    "distance_sorted_1850.head(100)\n",
    "pd.set_option('display.max_rows', None)\n",
    "list(distance_sorted_1850.index)[0:100]\n",
    "queersimilar_1850 = list(distance_sorted_1850.index)[0:100]"
   ]
  },
  {
   "cell_type": "code",
   "execution_count": 568,
   "metadata": {},
   "outputs": [],
   "source": [
    "with open('C:\\\\Users\\\\Heejoung Shin\\\\Documents\\\\Heejoung Files\\\\UIUC MSLIS\\\\IS417-Data Science in the Humanities\\\\Research Paper\\\\Data\\\\liunegative.txt', encoding = 'utf-8') as f:\n",
    "    negative_words = [x.strip() for x in f.readlines()]\n",
    "    \n",
    "with open('C:\\\\Users\\\\Heejoung Shin\\\\Documents\\\\Heejoung Files\\\\UIUC MSLIS\\\\IS417-Data Science in the Humanities\\\\Research Paper\\\\Data\\\\liupositive.txt', encoding = 'utf-8') as f:\n",
    "    positive_words = [x.strip() for x in f.readlines()]"
   ]
  },
  {
   "cell_type": "code",
   "execution_count": 570,
   "metadata": {},
   "outputs": [],
   "source": [
    "negativelist_1850 = [w for w in queersimilar_1850 if w in negative_words]\n",
    "positivelist_1850 = [w for w in queersimilar_1850 if w in positive_words]"
   ]
  },
  {
   "cell_type": "code",
   "execution_count": 571,
   "metadata": {},
   "outputs": [],
   "source": [
    "negative_df_1850  = vectordf_no_zeros_1850[vectordf_no_zeros_1850.index.isin(negativelist_1850)]\n",
    "positive_df_1850  = vectordf_no_zeros_1850[vectordf_no_zeros_1850.index.isin(positivelist_1850)]"
   ]
  },
  {
   "cell_type": "code",
   "execution_count": 572,
   "metadata": {},
   "outputs": [
    {
     "name": "stdout",
     "output_type": "stream",
     "text": [
      "['fair', 'succeeded', 'safely']\n",
      "['despair', 'anger', 'agony', 'bitter', 'exhausted', 'indignation', 'perish', 'queer']\n"
     ]
    }
   ],
   "source": [
    "positive_list_1850 = positive_df_1850.index.values.tolist() # save index values (the words) from positive_df into a list,\n",
    "                                                # because get_vector uses list (not dataframe, not dict) as input\n",
    "print(positive_list_1850)\n",
    "negative_list_1850 = negative_df_1850.index.values.tolist() # save index values (the words) from negative_df into a list\n",
    "print(negative_list_1850)"
   ]
  },
  {
   "cell_type": "code",
   "execution_count": 573,
   "metadata": {},
   "outputs": [
    {
     "name": "stdout",
     "output_type": "stream",
     "text": [
      "-0.4603573062353934\n"
     ]
    }
   ],
   "source": [
    "def get_vector(wordlist): \n",
    "    vectors_1850 = [] # start with empty list\n",
    "    \n",
    "    for ex in wordlist:    # for each word in a wordlist\n",
    "        vec = vectordict_1850[ex]    # get its vector\n",
    "        vectorlength_1850 = np.linalg.norm(vec, ord = 2)     # normalize length\n",
    "        vectors_1850.append(vec / vectorlength_1850)              # and save it in the list\n",
    "        \n",
    "    thesum_1850 = np.sum(vectors_1850, axis = 0)                  # then add all the vectors\n",
    "    vectorlength_1850 = np.linalg.norm(thesum_1850, ord = 2)      # normalize length again\n",
    "    \n",
    "    return thesum_1850 / vectorlength_1850\n",
    "\n",
    "\n",
    "pos_vector_1850 = get_vector(positive_list_1850)\n",
    "neg_vector_1850 = get_vector(negative_list_1850)\n",
    "\n",
    "# vec_queer = model.wv['queer'] # vec_queer is calculated above\n",
    "    \n",
    "pos_dist_1850 = cosine(vec_queer_1850, pos_vector_1850)\n",
    "neg_dist_1850 = cosine(vec_queer_1850, neg_vector_1850)\n",
    "\n",
    "    \n",
    "net_positive_queer_1850 = neg_dist_1850 - pos_dist_1850\n",
    "    \n",
    "print(net_positive_queer_1850)"
   ]
  },
  {
   "cell_type": "code",
   "execution_count": null,
   "metadata": {},
   "outputs": [],
   "source": []
  },
  {
   "cell_type": "markdown",
   "metadata": {},
   "source": [
    "### Word Embeddings (1860s)"
   ]
  },
  {
   "cell_type": "code",
   "execution_count": 515,
   "metadata": {},
   "outputs": [],
   "source": [
    "hist_embeds_1860 = dict()\n",
    "\n",
    "hist_vocab_1860 = pickle.load(open('C:\\\\Users\\\\Heejoung Shin\\\\Documents\\\\Heejoung Files\\\\UIUC MSLIS\\\\IS417-Data Science in the Humanities\\\\Research Paper\\\\Data\\\\eng-fiction-all_sgns\\\\sgns\\\\1860-vocab.pkl', 'rb'))\n",
    "hist_vectors_1860 = np.load('C:\\\\Users\\\\Heejoung Shin\\\\Documents\\\\Heejoung Files\\\\UIUC MSLIS\\\\IS417-Data Science in the Humanities\\\\Research Paper\\\\Data\\\\eng-fiction-all_sgns\\\\sgns\\\\1860-w.npy')\n",
    "\n",
    "\n",
    "for i in range(len(hist_vocab_1860)):\n",
    "    hist_embeds_1860[hist_vocab_1860[i]] = hist_vectors_1860[i]"
   ]
  },
  {
   "cell_type": "code",
   "execution_count": 516,
   "metadata": {},
   "outputs": [],
   "source": [
    "vec_queer_1860 = hist_embeds_1860['queer']"
   ]
  },
  {
   "cell_type": "code",
   "execution_count": 517,
   "metadata": {},
   "outputs": [],
   "source": [
    "vectordict_1860 = dict()\n",
    "for v in hist_vocab_1860:\n",
    "    vectordict_1860[v] = hist_embeds_1860[v]"
   ]
  },
  {
   "cell_type": "code",
   "execution_count": 518,
   "metadata": {},
   "outputs": [],
   "source": [
    "vectordf_1860 = pd.DataFrame.from_dict(vectordict_1860, orient = 'index')\n",
    "vectordf_1860[\"sum\"] = vectordf_1860.sum(axis=1)\n",
    "valuezero_1860 = vectordf_1860['sum'].isin([0.0])\n",
    "vectordf_1860[~valuezero_1860]\n",
    "vectordf_no_zeros_1860 = vectordf_1860[~valuezero_1860]"
   ]
  },
  {
   "cell_type": "code",
   "execution_count": 519,
   "metadata": {},
   "outputs": [],
   "source": [
    "del vectordf_no_zeros_1860['sum']"
   ]
  },
  {
   "cell_type": "code",
   "execution_count": 520,
   "metadata": {},
   "outputs": [],
   "source": [
    "def vocab2pca(hist_vocab_1860):\n",
    "    \n",
    "    vectordict_1860 = dict()\n",
    "    for v in hist_vocab_1860:\n",
    "        vectordict_1860[v] = hist_embeds_1860[v]\n",
    "        \n",
    "    vectordf_1860 = pd.DataFrame.from_dict(vectordict_1860, orient = 'index')\n",
    "    vectordf_1860[\"sum\"] = vectordf_1860.sum(axis=1)\n",
    "    valuezero_1860 = vectordf_1860['sum'].isin([0.0])\n",
    "    vectordf_no_zeros_1860 = vectordf_1860[~valuezero_1860]\n",
    "    del vectordf_no_zeros_1860['sum']\n",
    "    \n",
    "    vectorlengths_1860 = np.linalg.norm(vectordf_no_zeros_1860, ord = 2, axis = 1)   # normalize vector lengths\n",
    "    vectordf_no_zeros_1860 = vectordf_no_zeros_1860.divide(vectorlengths_1860, axis = 'rows')      # for PCA\n",
    "    hist_vocab_no_zeros_1860 = list(vectordf_no_zeros_1860.index.values) # for index\n",
    "    \n",
    "    pca = PCA(n_components = 2)       \n",
    "    components_1860 = pca.fit_transform(vectordf_no_zeros_1860)                      # perform PCA\n",
    "    plotframe_1860 = pd.DataFrame({'x': components_1860[ : , 0], 'y': components_1860[ : , 1]}, index = hist_vocab_no_zeros_1860)\n",
    "    \n",
    "    return plotframe_1860"
   ]
  },
  {
   "cell_type": "code",
   "execution_count": 521,
   "metadata": {},
   "outputs": [
    {
     "data": {
      "text/html": [
       "<div>\n",
       "<style scoped>\n",
       "    .dataframe tbody tr th:only-of-type {\n",
       "        vertical-align: middle;\n",
       "    }\n",
       "\n",
       "    .dataframe tbody tr th {\n",
       "        vertical-align: top;\n",
       "    }\n",
       "\n",
       "    .dataframe thead th {\n",
       "        text-align: right;\n",
       "    }\n",
       "</style>\n",
       "<table border=\"1\" class=\"dataframe\">\n",
       "  <thead>\n",
       "    <tr style=\"text-align: right;\">\n",
       "      <th></th>\n",
       "      <th>queer</th>\n",
       "    </tr>\n",
       "  </thead>\n",
       "  <tbody>\n",
       "    <tr>\n",
       "      <th>x</th>\n",
       "      <td>0.163671</td>\n",
       "    </tr>\n",
       "    <tr>\n",
       "      <th>y</th>\n",
       "      <td>-0.043138</td>\n",
       "    </tr>\n",
       "  </tbody>\n",
       "</table>\n",
       "</div>"
      ],
      "text/plain": [
       "      queer\n",
       "x  0.163671\n",
       "y -0.043138"
      ]
     },
     "execution_count": 521,
     "metadata": {},
     "output_type": "execute_result"
    }
   ],
   "source": [
    "plotframe_1860 = vocab2pca(hist_vocab_1860)\n",
    "transposed_1860 = plotframe_1860.transpose()\n",
    "transposed_1860[['queer']]"
   ]
  },
  {
   "cell_type": "code",
   "execution_count": 522,
   "metadata": {},
   "outputs": [],
   "source": [
    "queer_x_1860 = transposed_1860.iloc[0]['queer']\n",
    "queer_y_1860 = transposed_1860.iloc[1]['queer']"
   ]
  },
  {
   "cell_type": "code",
   "execution_count": 523,
   "metadata": {},
   "outputs": [],
   "source": [
    "\n",
    "plotframe_1860[\"distance_from_queer\"] = (((plotframe_1860.x-queer_x_1860)**2+(plotframe_1860.y-queer_y_1860)**2)**0.5)\n",
    "pd.set_option('display.max_rows', None)\n",
    "distance_sorted_1860 = plotframe_1860.sort_values([\"distance_from_queer\"], ascending=True)\n",
    "distance_sorted_1860.head(100)\n",
    "pd.set_option('display.max_rows', None)\n",
    "list(distance_sorted_1860.index)[0:100]\n",
    "queersimilar_1860 = list(distance_sorted_1860.index)[0:100]"
   ]
  },
  {
   "cell_type": "code",
   "execution_count": 524,
   "metadata": {},
   "outputs": [],
   "source": [
    "with open('C:\\\\Users\\\\Heejoung Shin\\\\Documents\\\\Heejoung Files\\\\UIUC MSLIS\\\\IS417-Data Science in the Humanities\\\\Research Paper\\\\Data\\\\liunegative.txt', encoding = 'utf-8') as f:\n",
    "    negative_words = [x.strip() for x in f.readlines()]\n",
    "    \n",
    "with open('C:\\\\Users\\\\Heejoung Shin\\\\Documents\\\\Heejoung Files\\\\UIUC MSLIS\\\\IS417-Data Science in the Humanities\\\\Research Paper\\\\Data\\\\liupositive.txt', encoding = 'utf-8') as f:\n",
    "    positive_words = [x.strip() for x in f.readlines()]"
   ]
  },
  {
   "cell_type": "code",
   "execution_count": 526,
   "metadata": {},
   "outputs": [],
   "source": [
    "negativelist_1860 = [w for w in queersimilar_1860 if w in negative_words]\n",
    "positivelist_1860 = [w for w in queersimilar_1860 if w in positive_words]"
   ]
  },
  {
   "cell_type": "code",
   "execution_count": 527,
   "metadata": {},
   "outputs": [],
   "source": [
    "negative_df_1860  = vectordf_no_zeros_1860[vectordf_no_zeros_1860.index.isin(negativelist_1860)]\n",
    "positive_df_1860  = vectordf_no_zeros_1860[vectordf_no_zeros_1860.index.isin(positivelist_1860)]"
   ]
  },
  {
   "cell_type": "code",
   "execution_count": 528,
   "metadata": {},
   "outputs": [
    {
     "name": "stdout",
     "output_type": "stream",
     "text": [
      "['fresh', 'steady', 'smart']\n",
      "['prison', 'rage', 'lonely', 'queer', 'hell']\n"
     ]
    }
   ],
   "source": [
    "positive_list_1860 = positive_df_1860.index.values.tolist() # save index values (the words) from positive_df into a list,\n",
    "                                                # because get_vector uses list (not dataframe, not dict) as input\n",
    "print(positive_list_1860)\n",
    "negative_list_1860 = negative_df_1860.index.values.tolist() # save index values (the words) from negative_df into a list\n",
    "print(negative_list_1860)"
   ]
  },
  {
   "cell_type": "code",
   "execution_count": 529,
   "metadata": {},
   "outputs": [
    {
     "name": "stdout",
     "output_type": "stream",
     "text": [
      "-0.07281647113300116\n"
     ]
    }
   ],
   "source": [
    "def get_vector(wordlist): \n",
    "    vectors_1860 = [] # start with empty list\n",
    "    \n",
    "    for ex in wordlist:    # for each word in a wordlist\n",
    "        vec = vectordict_1860[ex]    # get its vector\n",
    "        vectorlength_1860 = np.linalg.norm(vec, ord = 2)     # normalize length\n",
    "        vectors_1860.append(vec / vectorlength_1860)              # and save it in the list\n",
    "        \n",
    "    thesum_1860 = np.sum(vectors_1860, axis = 0)                  # then add all the vectors\n",
    "    vectorlength_1860 = np.linalg.norm(thesum_1860, ord = 2)      # normalize length again\n",
    "    \n",
    "    return thesum_1860 / vectorlength_1860\n",
    "\n",
    "\n",
    "pos_vector_1860 = get_vector(positive_list_1860)\n",
    "neg_vector_1860 = get_vector(negative_list_1860)\n",
    "\n",
    "# vec_queer = model.wv['queer'] # vec_queer is calculated above\n",
    "    \n",
    "pos_dist_1860 = cosine(vec_queer_1860, pos_vector_1860)\n",
    "neg_dist_1860 = cosine(vec_queer_1860, neg_vector_1860)\n",
    "\n",
    "    \n",
    "net_positive_queer_1860 = neg_dist_1860 - pos_dist_1860\n",
    "    \n",
    "print(net_positive_queer_1860)"
   ]
  },
  {
   "cell_type": "code",
   "execution_count": null,
   "metadata": {},
   "outputs": [],
   "source": []
  },
  {
   "cell_type": "markdown",
   "metadata": {},
   "source": [
    "### Word Embeddings (1870s)"
   ]
  },
  {
   "cell_type": "code",
   "execution_count": 500,
   "metadata": {},
   "outputs": [],
   "source": [
    "hist_embeds_1870 = dict()\n",
    "\n",
    "hist_vocab_1870 = pickle.load(open('C:\\\\Users\\\\Heejoung Shin\\\\Documents\\\\Heejoung Files\\\\UIUC MSLIS\\\\IS417-Data Science in the Humanities\\\\Research Paper\\\\Data\\\\eng-fiction-all_sgns\\\\sgns\\\\1870-vocab.pkl', 'rb'))\n",
    "hist_vectors_1870 = np.load('C:\\\\Users\\\\Heejoung Shin\\\\Documents\\\\Heejoung Files\\\\UIUC MSLIS\\\\IS417-Data Science in the Humanities\\\\Research Paper\\\\Data\\\\eng-fiction-all_sgns\\\\sgns\\\\1870-w.npy')\n",
    "\n",
    "\n",
    "for i in range(len(hist_vocab_1870)):\n",
    "    hist_embeds_1870[hist_vocab_1870[i]] = hist_vectors_1870[i]"
   ]
  },
  {
   "cell_type": "code",
   "execution_count": 501,
   "metadata": {},
   "outputs": [],
   "source": [
    "vec_queer_1870 = hist_embeds_1870['queer']"
   ]
  },
  {
   "cell_type": "code",
   "execution_count": 502,
   "metadata": {},
   "outputs": [],
   "source": [
    "vectordict_1870 = dict()\n",
    "for v in hist_vocab_1870:\n",
    "    vectordict_1870[v] = hist_embeds_1870[v]"
   ]
  },
  {
   "cell_type": "code",
   "execution_count": 503,
   "metadata": {},
   "outputs": [],
   "source": [
    "vectordf_1870 = pd.DataFrame.from_dict(vectordict_1870, orient = 'index')\n",
    "vectordf_1870[\"sum\"] = vectordf_1870.sum(axis=1)\n",
    "valuezero_1870 = vectordf_1870['sum'].isin([0.0])\n",
    "vectordf_1870[~valuezero_1870]\n",
    "vectordf_no_zeros_1870 = vectordf_1870[~valuezero_1870]"
   ]
  },
  {
   "cell_type": "code",
   "execution_count": 504,
   "metadata": {},
   "outputs": [],
   "source": [
    "del vectordf_no_zeros_1870['sum']"
   ]
  },
  {
   "cell_type": "code",
   "execution_count": 505,
   "metadata": {},
   "outputs": [],
   "source": [
    "def vocab2pca(hist_vocab_1870):\n",
    "    \n",
    "    vectordict_1870 = dict()\n",
    "    for v in hist_vocab_1870:\n",
    "        vectordict_1870[v] = hist_embeds_1870[v]\n",
    "        \n",
    "    vectordf_1870 = pd.DataFrame.from_dict(vectordict_1870, orient = 'index')\n",
    "    vectordf_1870[\"sum\"] = vectordf_1870.sum(axis=1)\n",
    "    valuezero_1870 = vectordf_1870['sum'].isin([0.0])\n",
    "    vectordf_no_zeros_1870 = vectordf_1870[~valuezero_1870]\n",
    "    del vectordf_no_zeros_1870['sum']\n",
    "    \n",
    "    vectorlengths_1870 = np.linalg.norm(vectordf_no_zeros_1870, ord = 2, axis = 1)   # normalize vector lengths\n",
    "    vectordf_no_zeros_1870 = vectordf_no_zeros_1870.divide(vectorlengths_1870, axis = 'rows')      # for PCA\n",
    "    hist_vocab_no_zeros_1870 = list(vectordf_no_zeros_1870.index.values) # for index\n",
    "    \n",
    "    pca = PCA(n_components = 2)       \n",
    "    components_1870 = pca.fit_transform(vectordf_no_zeros_1870)                      # perform PCA\n",
    "    plotframe_1870 = pd.DataFrame({'x': components_1870[ : , 0], 'y': components_1870[ : , 1]}, index = hist_vocab_no_zeros_1870)\n",
    "    \n",
    "    return plotframe_1870"
   ]
  },
  {
   "cell_type": "code",
   "execution_count": 506,
   "metadata": {},
   "outputs": [
    {
     "data": {
      "text/html": [
       "<div>\n",
       "<style scoped>\n",
       "    .dataframe tbody tr th:only-of-type {\n",
       "        vertical-align: middle;\n",
       "    }\n",
       "\n",
       "    .dataframe tbody tr th {\n",
       "        vertical-align: top;\n",
       "    }\n",
       "\n",
       "    .dataframe thead th {\n",
       "        text-align: right;\n",
       "    }\n",
       "</style>\n",
       "<table border=\"1\" class=\"dataframe\">\n",
       "  <thead>\n",
       "    <tr style=\"text-align: right;\">\n",
       "      <th></th>\n",
       "      <th>queer</th>\n",
       "    </tr>\n",
       "  </thead>\n",
       "  <tbody>\n",
       "    <tr>\n",
       "      <th>x</th>\n",
       "      <td>-0.013053</td>\n",
       "    </tr>\n",
       "    <tr>\n",
       "      <th>y</th>\n",
       "      <td>-0.026740</td>\n",
       "    </tr>\n",
       "  </tbody>\n",
       "</table>\n",
       "</div>"
      ],
      "text/plain": [
       "      queer\n",
       "x -0.013053\n",
       "y -0.026740"
      ]
     },
     "execution_count": 506,
     "metadata": {},
     "output_type": "execute_result"
    }
   ],
   "source": [
    "plotframe_1870 = vocab2pca(hist_vocab_1870)\n",
    "transposed_1870 = plotframe_1870.transpose()\n",
    "transposed_1870[['queer']]"
   ]
  },
  {
   "cell_type": "code",
   "execution_count": 507,
   "metadata": {},
   "outputs": [],
   "source": [
    "queer_x_1870 = transposed_1870.iloc[0]['queer']\n",
    "queer_y_1870 = transposed_1870.iloc[1]['queer']"
   ]
  },
  {
   "cell_type": "code",
   "execution_count": 508,
   "metadata": {},
   "outputs": [],
   "source": [
    "\n",
    "plotframe_1870[\"distance_from_queer\"] = (((plotframe_1870.x-queer_x_1870)**2+(plotframe_1870.y-queer_y_1870)**2)**0.5)\n",
    "pd.set_option('display.max_rows', None)\n",
    "distance_sorted_1870 = plotframe_1870.sort_values([\"distance_from_queer\"], ascending=True)\n",
    "distance_sorted_1870.head(100)\n",
    "pd.set_option('display.max_rows', None)\n",
    "list(distance_sorted_1870.index)[0:100]\n",
    "queersimilar_1870 = list(distance_sorted_1870.index)[0:100]"
   ]
  },
  {
   "cell_type": "code",
   "execution_count": 509,
   "metadata": {},
   "outputs": [],
   "source": [
    "with open('C:\\\\Users\\\\Heejoung Shin\\\\Documents\\\\Heejoung Files\\\\UIUC MSLIS\\\\IS417-Data Science in the Humanities\\\\Research Paper\\\\Data\\\\liunegative.txt', encoding = 'utf-8') as f:\n",
    "    negative_words = [x.strip() for x in f.readlines()]\n",
    "    \n",
    "with open('C:\\\\Users\\\\Heejoung Shin\\\\Documents\\\\Heejoung Files\\\\UIUC MSLIS\\\\IS417-Data Science in the Humanities\\\\Research Paper\\\\Data\\\\liupositive.txt', encoding = 'utf-8') as f:\n",
    "    positive_words = [x.strip() for x in f.readlines()]"
   ]
  },
  {
   "cell_type": "code",
   "execution_count": 510,
   "metadata": {},
   "outputs": [],
   "source": [
    "negativelist_1870 = [w for w in queersimilar_1870 if w in negative_words]\n",
    "positivelist_1870 = [w for w in queersimilar_1870 if w in positive_words]"
   ]
  },
  {
   "cell_type": "code",
   "execution_count": 511,
   "metadata": {},
   "outputs": [],
   "source": [
    "negative_df_1870  = vectordf_no_zeros_1870[vectordf_no_zeros_1870.index.isin(negativelist_1870)]\n",
    "positive_df_1870  = vectordf_no_zeros_1870[vectordf_no_zeros_1870.index.isin(positivelist_1870)]"
   ]
  },
  {
   "cell_type": "code",
   "execution_count": 512,
   "metadata": {},
   "outputs": [
    {
     "name": "stdout",
     "output_type": "stream",
     "text": [
      "['delight', 'passion', 'gentle', 'lovely', 'cheerful']\n",
      "['slow', 'shock', 'agony', 'ugly', 'scorn', 'helpless', 'queer', 'stolen', 'lapse', 'bewildered', 'perish']\n"
     ]
    }
   ],
   "source": [
    "positive_list_1870 = positive_df_1870.index.values.tolist() # save index values (the words) from positive_df into a list,\n",
    "                                                # because get_vector uses list (not dataframe, not dict) as input\n",
    "print(positive_list_1870)\n",
    "negative_list_1870 = negative_df_1870.index.values.tolist() # save index values (the words) from negative_df into a list\n",
    "print(negative_list_1870)"
   ]
  },
  {
   "cell_type": "code",
   "execution_count": 513,
   "metadata": {},
   "outputs": [
    {
     "name": "stdout",
     "output_type": "stream",
     "text": [
      "-0.15109691124396774\n"
     ]
    }
   ],
   "source": [
    "def get_vector(wordlist): \n",
    "    vectors_1870 = [] # start with empty list\n",
    "    \n",
    "    for ex in wordlist:    # for each word in a wordlist\n",
    "        vec = vectordict_1870[ex]    # get its vector\n",
    "        vectorlength_1870 = np.linalg.norm(vec, ord = 2)     # normalize length\n",
    "        vectors_1870.append(vec / vectorlength_1870)              # and save it in the list\n",
    "        \n",
    "    thesum_1870 = np.sum(vectors_1870, axis = 0)                  # then add all the vectors\n",
    "    vectorlength_1870 = np.linalg.norm(thesum_1870, ord = 2)      # normalize length again\n",
    "    \n",
    "    return thesum_1870 / vectorlength_1870\n",
    "\n",
    "\n",
    "pos_vector_1870 = get_vector(positive_list_1870)\n",
    "neg_vector_1870 = get_vector(negative_list_1870)\n",
    "\n",
    "# vec_queer = model.wv['queer'] # vec_queer is calculated above\n",
    "    \n",
    "pos_dist_1870 = cosine(vec_queer_1870, pos_vector_1870)\n",
    "neg_dist_1870 = cosine(vec_queer_1870, neg_vector_1870)\n",
    "\n",
    "    \n",
    "net_positive_queer_1870 = neg_dist_1870 - pos_dist_1870\n",
    "    \n",
    "print(net_positive_queer_1870)"
   ]
  },
  {
   "cell_type": "code",
   "execution_count": null,
   "metadata": {},
   "outputs": [],
   "source": []
  },
  {
   "cell_type": "markdown",
   "metadata": {},
   "source": [
    "### Word Embeddings (1880s)"
   ]
  },
  {
   "cell_type": "code",
   "execution_count": 484,
   "metadata": {},
   "outputs": [],
   "source": [
    "hist_embeds_1880 = dict()\n",
    "\n",
    "hist_vocab_1880 = pickle.load(open('C:\\\\Users\\\\Heejoung Shin\\\\Documents\\\\Heejoung Files\\\\UIUC MSLIS\\\\IS417-Data Science in the Humanities\\\\Research Paper\\\\Data\\\\eng-fiction-all_sgns\\\\sgns\\\\1880-vocab.pkl', 'rb'))\n",
    "hist_vectors_1880 = np.load('C:\\\\Users\\\\Heejoung Shin\\\\Documents\\\\Heejoung Files\\\\UIUC MSLIS\\\\IS417-Data Science in the Humanities\\\\Research Paper\\\\Data\\\\eng-fiction-all_sgns\\\\sgns\\\\1880-w.npy')\n",
    "\n",
    "\n",
    "for i in range(len(hist_vocab_1880)):\n",
    "    hist_embeds_1880[hist_vocab_1880[i]] = hist_vectors_1880[i]"
   ]
  },
  {
   "cell_type": "code",
   "execution_count": 485,
   "metadata": {},
   "outputs": [],
   "source": [
    "vec_queer_1880 = hist_embeds_1880['queer']"
   ]
  },
  {
   "cell_type": "code",
   "execution_count": 486,
   "metadata": {},
   "outputs": [],
   "source": [
    "vectordict_1880 = dict()\n",
    "for v in hist_vocab_1880:\n",
    "    vectordict_1880[v] = hist_embeds_1880[v]"
   ]
  },
  {
   "cell_type": "code",
   "execution_count": 487,
   "metadata": {},
   "outputs": [],
   "source": [
    "vectordf_1880 = pd.DataFrame.from_dict(vectordict_1880, orient = 'index')\n",
    "vectordf_1880[\"sum\"] = vectordf_1880.sum(axis=1)\n",
    "valuezero_1880 = vectordf_1880['sum'].isin([0.0])\n",
    "vectordf_1880[~valuezero_1880]\n",
    "vectordf_no_zeros_1880 = vectordf_1880[~valuezero_1880]"
   ]
  },
  {
   "cell_type": "code",
   "execution_count": 488,
   "metadata": {},
   "outputs": [],
   "source": [
    "del vectordf_no_zeros_1880['sum']"
   ]
  },
  {
   "cell_type": "code",
   "execution_count": 489,
   "metadata": {},
   "outputs": [],
   "source": [
    "def vocab2pca(hist_vocab_1880):\n",
    "    \n",
    "    vectordict_1880 = dict()\n",
    "    for v in hist_vocab_1880:\n",
    "        vectordict_1880[v] = hist_embeds_1880[v]\n",
    "        \n",
    "    vectordf_1880 = pd.DataFrame.from_dict(vectordict_1880, orient = 'index')\n",
    "    vectordf_1880[\"sum\"] = vectordf_1880.sum(axis=1)\n",
    "    valuezero_1880 = vectordf_1880['sum'].isin([0.0])\n",
    "    vectordf_no_zeros_1880 = vectordf_1880[~valuezero_1880]\n",
    "    del vectordf_no_zeros_1880['sum']\n",
    "    \n",
    "    vectorlengths_1880 = np.linalg.norm(vectordf_no_zeros_1880, ord = 2, axis = 1)   # normalize vector lengths\n",
    "    vectordf_no_zeros_1880 = vectordf_no_zeros_1880.divide(vectorlengths_1880, axis = 'rows')      # for PCA\n",
    "    hist_vocab_no_zeros_1880 = list(vectordf_no_zeros_1880.index.values) # for index\n",
    "    \n",
    "    pca = PCA(n_components = 2)       \n",
    "    components_1880 = pca.fit_transform(vectordf_no_zeros_1880)                      # perform PCA\n",
    "    plotframe_1880 = pd.DataFrame({'x': components_1880[ : , 0], 'y': components_1880[ : , 1]}, index = hist_vocab_no_zeros_1880)\n",
    "    \n",
    "    return plotframe_1880"
   ]
  },
  {
   "cell_type": "code",
   "execution_count": 491,
   "metadata": {},
   "outputs": [
    {
     "data": {
      "text/html": [
       "<div>\n",
       "<style scoped>\n",
       "    .dataframe tbody tr th:only-of-type {\n",
       "        vertical-align: middle;\n",
       "    }\n",
       "\n",
       "    .dataframe tbody tr th {\n",
       "        vertical-align: top;\n",
       "    }\n",
       "\n",
       "    .dataframe thead th {\n",
       "        text-align: right;\n",
       "    }\n",
       "</style>\n",
       "<table border=\"1\" class=\"dataframe\">\n",
       "  <thead>\n",
       "    <tr style=\"text-align: right;\">\n",
       "      <th></th>\n",
       "      <th>queer</th>\n",
       "    </tr>\n",
       "  </thead>\n",
       "  <tbody>\n",
       "    <tr>\n",
       "      <th>x</th>\n",
       "      <td>0.089068</td>\n",
       "    </tr>\n",
       "    <tr>\n",
       "      <th>y</th>\n",
       "      <td>0.045503</td>\n",
       "    </tr>\n",
       "  </tbody>\n",
       "</table>\n",
       "</div>"
      ],
      "text/plain": [
       "      queer\n",
       "x  0.089068\n",
       "y  0.045503"
      ]
     },
     "execution_count": 491,
     "metadata": {},
     "output_type": "execute_result"
    }
   ],
   "source": [
    "plotframe_1880 = vocab2pca(hist_vocab_1880)\n",
    "transposed_1880 = plotframe_1880.transpose()\n",
    "transposed_1880[['queer']]"
   ]
  },
  {
   "cell_type": "code",
   "execution_count": 492,
   "metadata": {},
   "outputs": [],
   "source": [
    "queer_x_1880 = transposed_1880.iloc[0]['queer']\n",
    "queer_y_1880 = transposed_1880.iloc[1]['queer']"
   ]
  },
  {
   "cell_type": "code",
   "execution_count": 493,
   "metadata": {},
   "outputs": [],
   "source": [
    "\n",
    "plotframe_1880[\"distance_from_queer\"] = (((plotframe_1880.x-queer_x_1880)**2+(plotframe_1880.y-queer_y_1880)**2)**0.5)\n",
    "pd.set_option('display.max_rows', None)\n",
    "distance_sorted_1880 = plotframe_1880.sort_values([\"distance_from_queer\"], ascending=True)\n",
    "distance_sorted_1880.head(100)\n",
    "pd.set_option('display.max_rows', None)\n",
    "list(distance_sorted_1880.index)[0:100]\n",
    "queersimilar_1880 = list(distance_sorted_1880.index)[0:100]"
   ]
  },
  {
   "cell_type": "code",
   "execution_count": 477,
   "metadata": {},
   "outputs": [],
   "source": [
    "with open('C:\\\\Users\\\\Heejoung Shin\\\\Documents\\\\Heejoung Files\\\\UIUC MSLIS\\\\IS417-Data Science in the Humanities\\\\Research Paper\\\\Data\\\\liunegative.txt', encoding = 'utf-8') as f:\n",
    "    negative_words = [x.strip() for x in f.readlines()]\n",
    "    \n",
    "with open('C:\\\\Users\\\\Heejoung Shin\\\\Documents\\\\Heejoung Files\\\\UIUC MSLIS\\\\IS417-Data Science in the Humanities\\\\Research Paper\\\\Data\\\\liupositive.txt', encoding = 'utf-8') as f:\n",
    "    positive_words = [x.strip() for x in f.readlines()]"
   ]
  },
  {
   "cell_type": "code",
   "execution_count": 494,
   "metadata": {},
   "outputs": [],
   "source": [
    "negativelist_1880 = [w for w in queersimilar_1880 if w in negative_words]\n",
    "positivelist_1880 = [w for w in queersimilar_1880 if w in positive_words]"
   ]
  },
  {
   "cell_type": "code",
   "execution_count": 495,
   "metadata": {},
   "outputs": [],
   "source": [
    "negative_df_1880  = vectordf_no_zeros_1880[vectordf_no_zeros_1880.index.isin(negativelist_1880)]\n",
    "positive_df_1880  = vectordf_no_zeros_1880[vectordf_no_zeros_1880.index.isin(positivelist_1880)]"
   ]
  },
  {
   "cell_type": "code",
   "execution_count": 496,
   "metadata": {},
   "outputs": [
    {
     "name": "stdout",
     "output_type": "stream",
     "text": [
      "['worked', 'saint', 'leads', 'jolly']\n",
      "['wound', 'waste', 'stolen', 'queer', 'struggled', 'dies']\n"
     ]
    }
   ],
   "source": [
    "positive_list_1880 = positive_df_1880.index.values.tolist() # save index values (the words) from positive_df into a list,\n",
    "                                                # because get_vector uses list (not dataframe, not dict) as input\n",
    "print(positive_list_1880)\n",
    "negative_list_1880 = negative_df_1880.index.values.tolist() # save index values (the words) from negative_df into a list\n",
    "print(negative_list_1880)"
   ]
  },
  {
   "cell_type": "code",
   "execution_count": 497,
   "metadata": {},
   "outputs": [
    {
     "name": "stdout",
     "output_type": "stream",
     "text": [
      "-0.1970525110263902\n"
     ]
    }
   ],
   "source": [
    "def get_vector(wordlist): \n",
    "    vectors_1880 = [] # start with empty list\n",
    "    \n",
    "    for ex in wordlist:    # for each word in a wordlist\n",
    "        vec = vectordict_1880[ex]    # get its vector\n",
    "        vectorlength_1880 = np.linalg.norm(vec, ord = 2)     # normalize length\n",
    "        vectors_1880.append(vec / vectorlength_1880)              # and save it in the list\n",
    "        \n",
    "    thesum_1880 = np.sum(vectors_1880, axis = 0)                  # then add all the vectors\n",
    "    vectorlength_1880 = np.linalg.norm(thesum_1880, ord = 2)      # normalize length again\n",
    "    \n",
    "    return thesum_1880 / vectorlength_1880\n",
    "\n",
    "\n",
    "pos_vector_1880 = get_vector(positive_list_1880)\n",
    "neg_vector_1880 = get_vector(negative_list_1880)\n",
    "\n",
    "# vec_queer = model.wv['queer'] # vec_queer is calculated above\n",
    "    \n",
    "pos_dist_1880 = cosine(vec_queer_1880, pos_vector_1880)\n",
    "neg_dist_1880 = cosine(vec_queer_1880, neg_vector_1880)\n",
    "\n",
    "    \n",
    "net_positive_queer_1880 = neg_dist_1880 - pos_dist_1880\n",
    "    \n",
    "print(net_positive_queer_1880)"
   ]
  },
  {
   "cell_type": "code",
   "execution_count": null,
   "metadata": {},
   "outputs": [],
   "source": []
  },
  {
   "cell_type": "markdown",
   "metadata": {},
   "source": [
    "### Word Embeddings (1890s)"
   ]
  },
  {
   "cell_type": "code",
   "execution_count": 466,
   "metadata": {},
   "outputs": [],
   "source": [
    "hist_embeds_1890 = dict()\n",
    "\n",
    "hist_vocab_1890 = pickle.load(open('C:\\\\Users\\\\Heejoung Shin\\\\Documents\\\\Heejoung Files\\\\UIUC MSLIS\\\\IS417-Data Science in the Humanities\\\\Research Paper\\\\Data\\\\eng-fiction-all_sgns\\\\sgns\\\\1890-vocab.pkl', 'rb'))\n",
    "hist_vectors_1890 = np.load('C:\\\\Users\\\\Heejoung Shin\\\\Documents\\\\Heejoung Files\\\\UIUC MSLIS\\\\IS417-Data Science in the Humanities\\\\Research Paper\\\\Data\\\\eng-fiction-all_sgns\\\\sgns\\\\1890-w.npy')\n",
    "\n",
    "\n",
    "for i in range(len(hist_vocab_1890)):\n",
    "    hist_embeds_1890[hist_vocab_1890[i]] = hist_vectors_1890[i]"
   ]
  },
  {
   "cell_type": "code",
   "execution_count": 467,
   "metadata": {},
   "outputs": [],
   "source": [
    "vec_queer_1890 = hist_embeds_1890['queer']"
   ]
  },
  {
   "cell_type": "code",
   "execution_count": 468,
   "metadata": {},
   "outputs": [],
   "source": [
    "vectordict_1890 = dict()\n",
    "for v in hist_vocab_1890:\n",
    "    vectordict_1890[v] = hist_embeds_1890[v]"
   ]
  },
  {
   "cell_type": "code",
   "execution_count": 469,
   "metadata": {},
   "outputs": [],
   "source": [
    "vectordf_1890 = pd.DataFrame.from_dict(vectordict_1890, orient = 'index')\n",
    "vectordf_1890[\"sum\"] = vectordf_1890.sum(axis=1)\n",
    "valuezero_1890 = vectordf_1890['sum'].isin([0.0])\n",
    "vectordf_1890[~valuezero_1890]\n",
    "vectordf_no_zeros_1890 = vectordf_1890[~valuezero_1890]"
   ]
  },
  {
   "cell_type": "code",
   "execution_count": 472,
   "metadata": {},
   "outputs": [],
   "source": [
    "del vectordf_no_zeros_1890['sum']"
   ]
  },
  {
   "cell_type": "code",
   "execution_count": 473,
   "metadata": {},
   "outputs": [],
   "source": [
    "def vocab2pca(hist_vocab_1890):\n",
    "    \n",
    "    vectordict_1890 = dict()\n",
    "    for v in hist_vocab_1890:\n",
    "        vectordict_1890[v] = hist_embeds_1890[v]\n",
    "        \n",
    "    vectordf_1890 = pd.DataFrame.from_dict(vectordict_1890, orient = 'index')\n",
    "    vectordf_1890[\"sum\"] = vectordf_1890.sum(axis=1)\n",
    "    valuezero_1890 = vectordf_1890['sum'].isin([0.0])\n",
    "    vectordf_no_zeros_1890 = vectordf_1890[~valuezero_1890]\n",
    "    del vectordf_no_zeros_1890['sum']\n",
    "    \n",
    "    vectorlengths_1890 = np.linalg.norm(vectordf_no_zeros_1890, ord = 2, axis = 1)   # normalize vector lengths\n",
    "    vectordf_no_zeros_1890 = vectordf_no_zeros_1890.divide(vectorlengths_1890, axis = 'rows')      # for PCA\n",
    "    hist_vocab_no_zeros_1890 = list(vectordf_no_zeros_1890.index.values) # for index\n",
    "    \n",
    "    pca = PCA(n_components = 2)       \n",
    "    components_1890 = pca.fit_transform(vectordf_no_zeros_1890)                      # perform PCA\n",
    "    plotframe_1890 = pd.DataFrame({'x': components_1890[ : , 0], 'y': components_1890[ : , 1]}, index = hist_vocab_no_zeros_1890)\n",
    "    \n",
    "    return plotframe_1890"
   ]
  },
  {
   "cell_type": "code",
   "execution_count": 474,
   "metadata": {},
   "outputs": [
    {
     "data": {
      "text/html": [
       "<div>\n",
       "<style scoped>\n",
       "    .dataframe tbody tr th:only-of-type {\n",
       "        vertical-align: middle;\n",
       "    }\n",
       "\n",
       "    .dataframe tbody tr th {\n",
       "        vertical-align: top;\n",
       "    }\n",
       "\n",
       "    .dataframe thead th {\n",
       "        text-align: right;\n",
       "    }\n",
       "</style>\n",
       "<table border=\"1\" class=\"dataframe\">\n",
       "  <thead>\n",
       "    <tr style=\"text-align: right;\">\n",
       "      <th></th>\n",
       "      <th>queer</th>\n",
       "    </tr>\n",
       "  </thead>\n",
       "  <tbody>\n",
       "    <tr>\n",
       "      <th>x</th>\n",
       "      <td>0.068041</td>\n",
       "    </tr>\n",
       "    <tr>\n",
       "      <th>y</th>\n",
       "      <td>0.025008</td>\n",
       "    </tr>\n",
       "  </tbody>\n",
       "</table>\n",
       "</div>"
      ],
      "text/plain": [
       "      queer\n",
       "x  0.068041\n",
       "y  0.025008"
      ]
     },
     "execution_count": 474,
     "metadata": {},
     "output_type": "execute_result"
    }
   ],
   "source": [
    "plotframe_1890 = vocab2pca(hist_vocab_1890)\n",
    "transposed_1890 = plotframe_1890.transpose()\n",
    "transposed_1890[['queer']]"
   ]
  },
  {
   "cell_type": "code",
   "execution_count": 475,
   "metadata": {},
   "outputs": [],
   "source": [
    "queer_x_1890 = transposed_1890.iloc[0]['queer']\n",
    "queer_y_1890 = transposed_1890.iloc[1]['queer']"
   ]
  },
  {
   "cell_type": "code",
   "execution_count": 476,
   "metadata": {},
   "outputs": [],
   "source": [
    "\n",
    "plotframe_1890[\"distance_from_queer\"] = (((plotframe_1890.x-queer_x_1890)**2+(plotframe_1890.y-queer_y_1890)**2)**0.5)\n",
    "pd.set_option('display.max_rows', None)\n",
    "distance_sorted_1890 = plotframe_1890.sort_values([\"distance_from_queer\"], ascending=True)\n",
    "distance_sorted_1890.head(100)\n",
    "pd.set_option('display.max_rows', None)\n",
    "list(distance_sorted_1890.index)[0:100]\n",
    "queersimilar_1890 = list(distance_sorted_1890.index)[0:100]"
   ]
  },
  {
   "cell_type": "code",
   "execution_count": 477,
   "metadata": {},
   "outputs": [],
   "source": [
    "with open('C:\\\\Users\\\\Heejoung Shin\\\\Documents\\\\Heejoung Files\\\\UIUC MSLIS\\\\IS417-Data Science in the Humanities\\\\Research Paper\\\\Data\\\\liunegative.txt', encoding = 'utf-8') as f:\n",
    "    negative_words = [x.strip() for x in f.readlines()]\n",
    "    \n",
    "with open('C:\\\\Users\\\\Heejoung Shin\\\\Documents\\\\Heejoung Files\\\\UIUC MSLIS\\\\IS417-Data Science in the Humanities\\\\Research Paper\\\\Data\\\\liupositive.txt', encoding = 'utf-8') as f:\n",
    "    positive_words = [x.strip() for x in f.readlines()]"
   ]
  },
  {
   "cell_type": "code",
   "execution_count": 478,
   "metadata": {},
   "outputs": [],
   "source": [
    "negativelist_1890 = [w for w in queersimilar_1890 if w in negative_words]\n",
    "positivelist_1890 = [w for w in queersimilar_1890 if w in positive_words]"
   ]
  },
  {
   "cell_type": "code",
   "execution_count": 479,
   "metadata": {},
   "outputs": [],
   "source": [
    "negative_df_1890  = vectordf_no_zeros_1890[vectordf_no_zeros_1890.index.isin(negativelist_1890)]\n",
    "positive_df_1890  = vectordf_no_zeros_1890[vectordf_no_zeros_1890.index.isin(positivelist_1890)]"
   ]
  },
  {
   "cell_type": "code",
   "execution_count": 480,
   "metadata": {},
   "outputs": [
    {
     "name": "stdout",
     "output_type": "stream",
     "text": [
      "['silent', 'sweet', 'warm', 'mighty', 'leads']\n",
      "['lies', 'waste', 'fever', 'lonely', 'queer', 'cheap', 'slaves', 'punch', 'madman']\n"
     ]
    }
   ],
   "source": [
    "positive_list_1890 = positive_df_1890.index.values.tolist() # save index values (the words) from positive_df into a list,\n",
    "                                                # because get_vector uses list (not dataframe, not dict) as input\n",
    "print(positive_list_1890)\n",
    "negative_list_1890 = negative_df_1890.index.values.tolist() # save index values (the words) from negative_df into a list\n",
    "print(negative_list_1890)"
   ]
  },
  {
   "cell_type": "code",
   "execution_count": 481,
   "metadata": {},
   "outputs": [
    {
     "name": "stdout",
     "output_type": "stream",
     "text": [
      "-0.3919222493629885\n"
     ]
    }
   ],
   "source": [
    "def get_vector(wordlist): \n",
    "    vectors_1890 = [] # start with empty list\n",
    "    \n",
    "    for ex in wordlist:    # for each word in a wordlist\n",
    "        vec = vectordict_1890[ex]    # get its vector\n",
    "        vectorlength_1890 = np.linalg.norm(vec, ord = 2)     # normalize length\n",
    "        vectors_1890.append(vec / vectorlength_1890)              # and save it in the list\n",
    "        \n",
    "    thesum_1890 = np.sum(vectors_1890, axis = 0)                  # then add all the vectors\n",
    "    vectorlength_1890 = np.linalg.norm(thesum_1890, ord = 2)      # normalize length again\n",
    "    \n",
    "    return thesum_1890 / vectorlength_1890\n",
    "\n",
    "\n",
    "pos_vector_1890 = get_vector(positive_list_1890)\n",
    "neg_vector_1890 = get_vector(negative_list_1890)\n",
    "\n",
    "# vec_queer = model.wv['queer'] # vec_queer is calculated above\n",
    "    \n",
    "pos_dist_1890 = cosine(vec_queer_1890, pos_vector_1890)\n",
    "neg_dist_1890 = cosine(vec_queer_1890, neg_vector_1890)\n",
    "\n",
    "    \n",
    "net_positive_queer_1890 = neg_dist_1890 - pos_dist_1890\n",
    "    \n",
    "print(net_positive_queer_1890)"
   ]
  },
  {
   "cell_type": "code",
   "execution_count": null,
   "metadata": {},
   "outputs": [],
   "source": []
  },
  {
   "cell_type": "markdown",
   "metadata": {},
   "source": [
    "### Word Embeddings (1900s)"
   ]
  },
  {
   "cell_type": "code",
   "execution_count": 323,
   "metadata": {},
   "outputs": [],
   "source": [
    "hist_embeds_1900 = dict()\n",
    "\n",
    "hist_vocab_1900 = pickle.load(open('C:\\\\Users\\\\Heejoung Shin\\\\Documents\\\\Heejoung Files\\\\UIUC MSLIS\\\\IS417-Data Science in the Humanities\\\\Research Paper\\\\Data\\\\eng-fiction-all_sgns\\\\sgns\\\\1900-vocab.pkl', 'rb'))\n",
    "hist_vectors_1900 = np.load('C:\\\\Users\\\\Heejoung Shin\\\\Documents\\\\Heejoung Files\\\\UIUC MSLIS\\\\IS417-Data Science in the Humanities\\\\Research Paper\\\\Data\\\\eng-fiction-all_sgns\\\\sgns\\\\1900-w.npy')\n",
    "\n",
    "\n",
    "for i in range(len(hist_vocab_1900)):\n",
    "    hist_embeds_1900[hist_vocab_1900[i]] = hist_vectors_1900[i]"
   ]
  },
  {
   "cell_type": "code",
   "execution_count": 324,
   "metadata": {},
   "outputs": [],
   "source": [
    "vec_queer_1900 = hist_embeds_1900['queer']"
   ]
  },
  {
   "cell_type": "code",
   "execution_count": 325,
   "metadata": {},
   "outputs": [],
   "source": [
    "vectordict_1900 = dict()\n",
    "for v in hist_vocab_1900:\n",
    "    vectordict_1900[v] = hist_embeds_1900[v]"
   ]
  },
  {
   "cell_type": "code",
   "execution_count": 326,
   "metadata": {},
   "outputs": [],
   "source": [
    "vectordf_1900 = pd.DataFrame.from_dict(vectordict_1900, orient = 'index')\n",
    "vectordf_1900[\"sum\"] = vectordf_1900.sum(axis=1)\n",
    "valuezero_1900 = vectordf_1900['sum'].isin([0.0])\n",
    "vectordf_1900[~valuezero_1900]\n",
    "vectordf_no_zeros_1900 = vectordf_1900[~valuezero_1900]"
   ]
  },
  {
   "cell_type": "code",
   "execution_count": 327,
   "metadata": {},
   "outputs": [],
   "source": [
    "del vectordf_no_zeros_1900['sum']"
   ]
  },
  {
   "cell_type": "code",
   "execution_count": 328,
   "metadata": {},
   "outputs": [],
   "source": [
    "def vocab2pca(hist_vocab_1900):\n",
    "    \n",
    "    vectordict_1900 = dict()\n",
    "    for v in hist_vocab_1900:\n",
    "        vectordict_1900[v] = hist_embeds_1900[v]\n",
    "        \n",
    "    vectordf_1900 = pd.DataFrame.from_dict(vectordict_1900, orient = 'index')\n",
    "    vectordf_1900[\"sum\"] = vectordf_1900.sum(axis=1)\n",
    "    valuezero_1900 = vectordf_1900['sum'].isin([0.0])\n",
    "    vectordf_no_zeros_1900 = vectordf_1900[~valuezero_1900]\n",
    "    del vectordf_no_zeros_1900['sum']\n",
    "    \n",
    "    vectorlengths_1900 = np.linalg.norm(vectordf_no_zeros_1900, ord = 2, axis = 1)   # normalize vector lengths\n",
    "    vectordf_no_zeros_1900 = vectordf_no_zeros_1900.divide(vectorlengths_1900, axis = 'rows')      # for PCA\n",
    "    hist_vocab_no_zeros_1900 = list(vectordf_no_zeros_1900.index.values) # for index\n",
    "    \n",
    "    pca = PCA(n_components = 2)       \n",
    "    components_1900 = pca.fit_transform(vectordf_no_zeros_1900)                      # perform PCA\n",
    "    plotframe_1900 = pd.DataFrame({'x': components_1900[ : , 0], 'y': components_1900[ : , 1]}, index = hist_vocab_no_zeros_1900)\n",
    "    \n",
    "    return plotframe_1900"
   ]
  },
  {
   "cell_type": "code",
   "execution_count": 329,
   "metadata": {},
   "outputs": [
    {
     "data": {
      "text/html": [
       "<div>\n",
       "<style scoped>\n",
       "    .dataframe tbody tr th:only-of-type {\n",
       "        vertical-align: middle;\n",
       "    }\n",
       "\n",
       "    .dataframe tbody tr th {\n",
       "        vertical-align: top;\n",
       "    }\n",
       "\n",
       "    .dataframe thead th {\n",
       "        text-align: right;\n",
       "    }\n",
       "</style>\n",
       "<table border=\"1\" class=\"dataframe\">\n",
       "  <thead>\n",
       "    <tr style=\"text-align: right;\">\n",
       "      <th></th>\n",
       "      <th>queer</th>\n",
       "    </tr>\n",
       "  </thead>\n",
       "  <tbody>\n",
       "    <tr>\n",
       "      <th>x</th>\n",
       "      <td>0.026969</td>\n",
       "    </tr>\n",
       "    <tr>\n",
       "      <th>y</th>\n",
       "      <td>-0.024372</td>\n",
       "    </tr>\n",
       "  </tbody>\n",
       "</table>\n",
       "</div>"
      ],
      "text/plain": [
       "      queer\n",
       "x  0.026969\n",
       "y -0.024372"
      ]
     },
     "execution_count": 329,
     "metadata": {},
     "output_type": "execute_result"
    }
   ],
   "source": [
    "plotframe_1900 = vocab2pca(hist_vocab_1900)\n",
    "transposed_1900 = plotframe_1900.transpose()\n",
    "transposed_1900[['queer']]"
   ]
  },
  {
   "cell_type": "code",
   "execution_count": 330,
   "metadata": {},
   "outputs": [],
   "source": [
    "queer_x_1900 = transposed_1900.iloc[0]['queer']\n",
    "queer_y_1900 = transposed_1900.iloc[1]['queer']"
   ]
  },
  {
   "cell_type": "code",
   "execution_count": 331,
   "metadata": {},
   "outputs": [],
   "source": [
    "\n",
    "plotframe_1900[\"distance_from_queer\"] = (((plotframe_1900.x-queer_x_1900)**2+(plotframe_1900.y-queer_y_1900)**2)**0.5)\n",
    "pd.set_option('display.max_rows', None)\n",
    "distance_sorted_1900 = plotframe_1900.sort_values([\"distance_from_queer\"], ascending=True)\n",
    "distance_sorted_1900.head(100)\n",
    "pd.set_option('display.max_rows', None)\n",
    "list(distance_sorted_1900.index)[0:100]\n",
    "queersimilar_1900 = list(distance_sorted_1900.index)[0:100]"
   ]
  },
  {
   "cell_type": "code",
   "execution_count": 332,
   "metadata": {},
   "outputs": [],
   "source": [
    "with open('C:\\\\Users\\\\Heejoung Shin\\\\Documents\\\\Heejoung Files\\\\UIUC MSLIS\\\\IS417-Data Science in the Humanities\\\\Research Paper\\\\Data\\\\liunegative.txt', encoding = 'utf-8') as f:\n",
    "    negative_words = [x.strip() for x in f.readlines()]\n",
    "    \n",
    "with open('C:\\\\Users\\\\Heejoung Shin\\\\Documents\\\\Heejoung Files\\\\UIUC MSLIS\\\\IS417-Data Science in the Humanities\\\\Research Paper\\\\Data\\\\liupositive.txt', encoding = 'utf-8') as f:\n",
    "    positive_words = [x.strip() for x in f.readlines()]"
   ]
  },
  {
   "cell_type": "code",
   "execution_count": 333,
   "metadata": {},
   "outputs": [],
   "source": [
    "negativelist_1900 = [w for w in queersimilar_1900 if w in negative_words]\n",
    "positivelist_1900 = [w for w in queersimilar_1900 if w in positive_words]"
   ]
  },
  {
   "cell_type": "code",
   "execution_count": 334,
   "metadata": {},
   "outputs": [],
   "source": [
    "negative_df_1900  = vectordf_no_zeros_1900[vectordf_no_zeros_1900.index.isin(negativelist_1900)]\n",
    "positive_df_1900  = vectordf_no_zeros_1900[vectordf_no_zeros_1900.index.isin(positivelist_1900)]"
   ]
  },
  {
   "cell_type": "code",
   "execution_count": 335,
   "metadata": {},
   "outputs": [
    {
     "name": "stdout",
     "output_type": "stream",
     "text": [
      "['beautiful', 'lovely', 'nicely']\n",
      "['lies', 'fever', 'queer', 'wounds', 'furious', 'stab', 'scornfully']\n"
     ]
    }
   ],
   "source": [
    "positive_list_1900 = positive_df_1900.index.values.tolist() # save index values (the words) from positive_df into a list,\n",
    "                                                # because get_vector uses list (not dataframe, not dict) as input\n",
    "print(positive_list_1900)\n",
    "negative_list_1900 = negative_df_1900.index.values.tolist() # save index values (the words) from negative_df into a list\n",
    "print(negative_list_1900)"
   ]
  },
  {
   "cell_type": "code",
   "execution_count": 336,
   "metadata": {},
   "outputs": [
    {
     "name": "stdout",
     "output_type": "stream",
     "text": [
      "-0.1985968466523007\n"
     ]
    }
   ],
   "source": [
    "def get_vector(wordlist): \n",
    "    vectors_1900 = [] # start with empty list\n",
    "    \n",
    "    for ex in wordlist:    # for each word in a wordlist\n",
    "        vec = vectordict_1900[ex]    # get its vector\n",
    "        vectorlength_1900 = np.linalg.norm(vec, ord = 2)     # normalize length\n",
    "        vectors_1900.append(vec / vectorlength_1900)              # and save it in the list\n",
    "        \n",
    "    thesum_1900 = np.sum(vectors_1900, axis = 0)                  # then add all the vectors\n",
    "    vectorlength_1900 = np.linalg.norm(thesum_1900, ord = 2)      # normalize length again\n",
    "    \n",
    "    return thesum_1900 / vectorlength_1900\n",
    "\n",
    "\n",
    "pos_vector_1900 = get_vector(positive_list_1900)\n",
    "neg_vector_1900 = get_vector(negative_list_1900)\n",
    "\n",
    "# vec_queer = model.wv['queer'] # vec_queer is calculated above\n",
    "    \n",
    "pos_dist_1900 = cosine(vec_queer_1900, pos_vector_1900)\n",
    "neg_dist_1900 = cosine(vec_queer_1900, neg_vector_1900)\n",
    "\n",
    "    \n",
    "net_positive_queer_1900 = neg_dist_1900 - pos_dist_1900\n",
    "    \n",
    "print(net_positive_queer_1900)"
   ]
  },
  {
   "cell_type": "code",
   "execution_count": null,
   "metadata": {},
   "outputs": [],
   "source": []
  },
  {
   "cell_type": "markdown",
   "metadata": {},
   "source": [
    "### Word Embeddings (1910s)"
   ]
  },
  {
   "cell_type": "code",
   "execution_count": 337,
   "metadata": {},
   "outputs": [],
   "source": [
    "hist_embeds_1910 = dict()\n",
    "\n",
    "hist_vocab_1910 = pickle.load(open('C:\\\\Users\\\\Heejoung Shin\\\\Documents\\\\Heejoung Files\\\\UIUC MSLIS\\\\IS417-Data Science in the Humanities\\\\Research Paper\\\\Data\\\\eng-fiction-all_sgns\\\\sgns\\\\1910-vocab.pkl', 'rb'))\n",
    "hist_vectors_1910 = np.load('C:\\\\Users\\\\Heejoung Shin\\\\Documents\\\\Heejoung Files\\\\UIUC MSLIS\\\\IS417-Data Science in the Humanities\\\\Research Paper\\\\Data\\\\eng-fiction-all_sgns\\\\sgns\\\\1910-w.npy')\n",
    "\n",
    "\n",
    "for i in range(len(hist_vocab_1910)):\n",
    "    hist_embeds_1910[hist_vocab_1910[i]] = hist_vectors_1910[i]"
   ]
  },
  {
   "cell_type": "code",
   "execution_count": 338,
   "metadata": {},
   "outputs": [],
   "source": [
    "vec_queer_1910 = hist_embeds_1910['queer']"
   ]
  },
  {
   "cell_type": "code",
   "execution_count": 339,
   "metadata": {},
   "outputs": [],
   "source": [
    "vectordict_1910 = dict()\n",
    "for v in hist_vocab_1910:\n",
    "    vectordict_1910[v] = hist_embeds_1910[v]"
   ]
  },
  {
   "cell_type": "code",
   "execution_count": 340,
   "metadata": {},
   "outputs": [],
   "source": [
    "vectordf_1910 = pd.DataFrame.from_dict(vectordict_1910, orient = 'index')\n",
    "vectordf_1910[\"sum\"] = vectordf_1910.sum(axis=1)\n",
    "valuezero_1910 = vectordf_1910['sum'].isin([0.0])\n",
    "vectordf_1910[~valuezero_1910]\n",
    "vectordf_no_zeros_1910 = vectordf_1910[~valuezero_1910]"
   ]
  },
  {
   "cell_type": "code",
   "execution_count": 341,
   "metadata": {},
   "outputs": [],
   "source": [
    "del vectordf_no_zeros_1910['sum']"
   ]
  },
  {
   "cell_type": "code",
   "execution_count": 342,
   "metadata": {},
   "outputs": [],
   "source": [
    "def vocab2pca(hist_vocab_1910):\n",
    "    \n",
    "    vectordict_1910 = dict()\n",
    "    for v in hist_vocab_1910:\n",
    "        vectordict_1910[v] = hist_embeds_1910[v]\n",
    "        \n",
    "    vectordf_1910 = pd.DataFrame.from_dict(vectordict_1910, orient = 'index')\n",
    "    vectordf_1910[\"sum\"] = vectordf_1910.sum(axis=1)\n",
    "    valuezero_1910 = vectordf_1910['sum'].isin([0.0])\n",
    "    vectordf_no_zeros_1910 = vectordf_1910[~valuezero_1910]\n",
    "    del vectordf_no_zeros_1910['sum']\n",
    "    \n",
    "    vectorlengths_1910 = np.linalg.norm(vectordf_no_zeros_1910, ord = 2, axis = 1)   # normalize vector lengths\n",
    "    vectordf_no_zeros_1910 = vectordf_no_zeros_1910.divide(vectorlengths_1910, axis = 'rows')      # for PCA\n",
    "    hist_vocab_no_zeros_1910 = list(vectordf_no_zeros_1910.index.values) # for index\n",
    "    \n",
    "    pca = PCA(n_components = 2)       \n",
    "    components_1910 = pca.fit_transform(vectordf_no_zeros_1910)                      # perform PCA\n",
    "    plotframe_1910 = pd.DataFrame({'x': components_1910[ : , 0], 'y': components_1910[ : , 1]}, index = hist_vocab_no_zeros_1910)\n",
    "    \n",
    "    return plotframe_1910"
   ]
  },
  {
   "cell_type": "code",
   "execution_count": 343,
   "metadata": {},
   "outputs": [
    {
     "data": {
      "text/html": [
       "<div>\n",
       "<style scoped>\n",
       "    .dataframe tbody tr th:only-of-type {\n",
       "        vertical-align: middle;\n",
       "    }\n",
       "\n",
       "    .dataframe tbody tr th {\n",
       "        vertical-align: top;\n",
       "    }\n",
       "\n",
       "    .dataframe thead th {\n",
       "        text-align: right;\n",
       "    }\n",
       "</style>\n",
       "<table border=\"1\" class=\"dataframe\">\n",
       "  <thead>\n",
       "    <tr style=\"text-align: right;\">\n",
       "      <th></th>\n",
       "      <th>queer</th>\n",
       "    </tr>\n",
       "  </thead>\n",
       "  <tbody>\n",
       "    <tr>\n",
       "      <th>x</th>\n",
       "      <td>0.044128</td>\n",
       "    </tr>\n",
       "    <tr>\n",
       "      <th>y</th>\n",
       "      <td>0.174721</td>\n",
       "    </tr>\n",
       "  </tbody>\n",
       "</table>\n",
       "</div>"
      ],
      "text/plain": [
       "      queer\n",
       "x  0.044128\n",
       "y  0.174721"
      ]
     },
     "execution_count": 343,
     "metadata": {},
     "output_type": "execute_result"
    }
   ],
   "source": [
    "plotframe_1910 = vocab2pca(hist_vocab_1910)\n",
    "transposed_1910 = plotframe_1910.transpose()\n",
    "transposed_1910[['queer']]"
   ]
  },
  {
   "cell_type": "code",
   "execution_count": 344,
   "metadata": {},
   "outputs": [],
   "source": [
    "queer_x_1910 = transposed_1910.iloc[0]['queer']\n",
    "queer_y_1910 = transposed_1910.iloc[1]['queer']"
   ]
  },
  {
   "cell_type": "code",
   "execution_count": 345,
   "metadata": {},
   "outputs": [],
   "source": [
    "\n",
    "plotframe_1910[\"distance_from_queer\"] = (((plotframe_1910.x-queer_x_1910)**2+(plotframe_1910.y-queer_y_1910)**2)**0.5)\n",
    "pd.set_option('display.max_rows', None)\n",
    "distance_sorted_1910 = plotframe_1910.sort_values([\"distance_from_queer\"], ascending=True)\n",
    "distance_sorted_1910.head(100)\n",
    "pd.set_option('display.max_rows', None)\n",
    "list(distance_sorted_1910.index)[0:100]\n",
    "queersimilar_1910 = list(distance_sorted_1910.index)[0:100]"
   ]
  },
  {
   "cell_type": "code",
   "execution_count": 346,
   "metadata": {},
   "outputs": [],
   "source": [
    "with open('C:\\\\Users\\\\Heejoung Shin\\\\Documents\\\\Heejoung Files\\\\UIUC MSLIS\\\\IS417-Data Science in the Humanities\\\\Research Paper\\\\Data\\\\liunegative.txt', encoding = 'utf-8') as f:\n",
    "    negative_words = [x.strip() for x in f.readlines()]\n",
    "    \n",
    "with open('C:\\\\Users\\\\Heejoung Shin\\\\Documents\\\\Heejoung Files\\\\UIUC MSLIS\\\\IS417-Data Science in the Humanities\\\\Research Paper\\\\Data\\\\liupositive.txt', encoding = 'utf-8') as f:\n",
    "    positive_words = [x.strip() for x in f.readlines()]"
   ]
  },
  {
   "cell_type": "code",
   "execution_count": 347,
   "metadata": {},
   "outputs": [],
   "source": [
    "negativelist_1910 = [w for w in queersimilar_1910 if w in negative_words]\n",
    "positivelist_1910 = [w for w in queersimilar_1910 if w in positive_words]"
   ]
  },
  {
   "cell_type": "code",
   "execution_count": 348,
   "metadata": {},
   "outputs": [],
   "source": [
    "negative_df_1910  = vectordf_no_zeros_1910[vectordf_no_zeros_1910.index.isin(negativelist_1910)]\n",
    "positive_df_1910  = vectordf_no_zeros_1910[vectordf_no_zeros_1910.index.isin(positivelist_1910)]"
   ]
  },
  {
   "cell_type": "code",
   "execution_count": 349,
   "metadata": {},
   "outputs": [
    {
     "name": "stdout",
     "output_type": "stream",
     "text": [
      "['amazement', 'smart', 'pleasantly', 'passionately', 'patiently', 'quicker', 'sweetly', 'respectfully']\n",
      "['break', 'anger', 'dying', 'drunk', 'queer', 'agony', 'mess', 'steal', 'dismay', 'bewildered', 'ache', 'sue', 'emphatically']\n"
     ]
    }
   ],
   "source": [
    "positive_list_1910=positive_df_1910.index.values.tolist() # save index values (the words) from positive_df into a list,\n",
    "                                                # because get_vector uses list (not dataframe, not dict) as input\n",
    "print(positive_list_1910)\n",
    "negative_list_1910=negative_df_1910.index.values.tolist() # save index values (the words) from negative_df into a list\n",
    "print(negative_list_1910)"
   ]
  },
  {
   "cell_type": "code",
   "execution_count": 350,
   "metadata": {},
   "outputs": [
    {
     "name": "stdout",
     "output_type": "stream",
     "text": [
      "-0.2861370412750823\n"
     ]
    }
   ],
   "source": [
    "def get_vector(wordlist): \n",
    "    vectors_1910 = [] # start with empty list\n",
    "    \n",
    "    for ex in wordlist:    # for each word in a wordlist\n",
    "        vec = vectordict_1910[ex]    # get its vector\n",
    "        vectorlength_1910 = np.linalg.norm(vec, ord = 2)     # normalize length\n",
    "        vectors_1910.append(vec / vectorlength_1910)              # and save it in the list\n",
    "        \n",
    "    thesum_1910 = np.sum(vectors_1910, axis = 0)                  # then add all the vectors\n",
    "    vectorlength_1910 = np.linalg.norm(thesum_1910, ord = 2)      # normalize length again\n",
    "    \n",
    "    return thesum_1910 / vectorlength_1910\n",
    "\n",
    "\n",
    "pos_vector_1910 = get_vector(positive_list_1910)\n",
    "neg_vector_1910 = get_vector(negative_list_1910)\n",
    "\n",
    "# vec_queer = model.wv['queer'] # vec_queer is calculated above\n",
    "    \n",
    "pos_dist_1910 = cosine(vec_queer_1910, pos_vector_1910)\n",
    "neg_dist_1910 = cosine(vec_queer_1910, neg_vector_1910)\n",
    "\n",
    "    \n",
    "net_positive_queer_1910 = neg_dist_1910 - pos_dist_1910\n",
    "    \n",
    "print(net_positive_queer_1910)"
   ]
  },
  {
   "cell_type": "code",
   "execution_count": null,
   "metadata": {},
   "outputs": [],
   "source": []
  },
  {
   "cell_type": "markdown",
   "metadata": {},
   "source": [
    "### Word Embeddings (1920s)"
   ]
  },
  {
   "cell_type": "code",
   "execution_count": 351,
   "metadata": {},
   "outputs": [],
   "source": [
    "hist_embeds_1920 = dict()\n",
    "\n",
    "hist_vocab_1920 = pickle.load(open('C:\\\\Users\\\\Heejoung Shin\\\\Documents\\\\Heejoung Files\\\\UIUC MSLIS\\\\IS417-Data Science in the Humanities\\\\Research Paper\\\\Data\\\\eng-fiction-all_sgns\\\\sgns\\\\1920-vocab.pkl', 'rb'))\n",
    "hist_vectors_1920 = np.load('C:\\\\Users\\\\Heejoung Shin\\\\Documents\\\\Heejoung Files\\\\UIUC MSLIS\\\\IS417-Data Science in the Humanities\\\\Research Paper\\\\Data\\\\eng-fiction-all_sgns\\\\sgns\\\\1920-w.npy')\n",
    "\n",
    "\n",
    "for i in range(len(hist_vocab_1920)):\n",
    "    hist_embeds_1920[hist_vocab_1920[i]] = hist_vectors_1920[i]"
   ]
  },
  {
   "cell_type": "code",
   "execution_count": 352,
   "metadata": {},
   "outputs": [],
   "source": [
    "vec_queer_1920 = hist_embeds_1920['queer']"
   ]
  },
  {
   "cell_type": "code",
   "execution_count": 353,
   "metadata": {},
   "outputs": [],
   "source": [
    "vectordict_1920 = dict()\n",
    "for v in hist_vocab_1920:\n",
    "    vectordict_1920[v] = hist_embeds_1920[v]"
   ]
  },
  {
   "cell_type": "code",
   "execution_count": 354,
   "metadata": {},
   "outputs": [],
   "source": [
    "vectordf_1920 = pd.DataFrame.from_dict(vectordict_1920, orient = 'index')\n",
    "vectordf_1920[\"sum\"] = vectordf_1920.sum(axis=1)\n",
    "valuezero_1920 = vectordf_1920['sum'].isin([0.0])\n",
    "vectordf_1920[~valuezero_1920]\n",
    "vectordf_no_zeros_1920 = vectordf_1920[~valuezero_1920]"
   ]
  },
  {
   "cell_type": "code",
   "execution_count": 355,
   "metadata": {},
   "outputs": [],
   "source": [
    "del vectordf_no_zeros_1920['sum']"
   ]
  },
  {
   "cell_type": "code",
   "execution_count": 356,
   "metadata": {},
   "outputs": [],
   "source": [
    "def vocab2pca(hist_vocab_1920):\n",
    "    \n",
    "    vectordict_1920 = dict()\n",
    "    for v in hist_vocab_1920:\n",
    "        vectordict_1920[v] = hist_embeds_1920[v]\n",
    "        \n",
    "    vectordf_1920 = pd.DataFrame.from_dict(vectordict_1920, orient = 'index')\n",
    "    vectordf_1920[\"sum\"] = vectordf_1920.sum(axis=1)\n",
    "    valuezero_1920 = vectordf_1920['sum'].isin([0.0])\n",
    "    vectordf_no_zeros_1920 = vectordf_1920[~valuezero_1920]\n",
    "    del vectordf_no_zeros_1920['sum']\n",
    "    \n",
    "    vectorlengths_1920 = np.linalg.norm(vectordf_no_zeros_1920, ord = 2, axis = 1)   # normalize vector lengths\n",
    "    vectordf_no_zeros_1920 = vectordf_no_zeros_1920.divide(vectorlengths_1920, axis = 'rows')      # for PCA\n",
    "    hist_vocab_no_zeros_1920 = list(vectordf_no_zeros_1920.index.values) # for index\n",
    "    \n",
    "    pca = PCA(n_components = 2)       \n",
    "    components_1920 = pca.fit_transform(vectordf_no_zeros_1920)                      # perform PCA\n",
    "    plotframe_1920 = pd.DataFrame({'x': components_1920[ : , 0], 'y': components_1920[ : , 1]}, index = hist_vocab_no_zeros_1920)\n",
    "    \n",
    "    return plotframe_1920"
   ]
  },
  {
   "cell_type": "code",
   "execution_count": 357,
   "metadata": {},
   "outputs": [
    {
     "data": {
      "text/html": [
       "<div>\n",
       "<style scoped>\n",
       "    .dataframe tbody tr th:only-of-type {\n",
       "        vertical-align: middle;\n",
       "    }\n",
       "\n",
       "    .dataframe tbody tr th {\n",
       "        vertical-align: top;\n",
       "    }\n",
       "\n",
       "    .dataframe thead th {\n",
       "        text-align: right;\n",
       "    }\n",
       "</style>\n",
       "<table border=\"1\" class=\"dataframe\">\n",
       "  <thead>\n",
       "    <tr style=\"text-align: right;\">\n",
       "      <th></th>\n",
       "      <th>queer</th>\n",
       "    </tr>\n",
       "  </thead>\n",
       "  <tbody>\n",
       "    <tr>\n",
       "      <th>x</th>\n",
       "      <td>0.028866</td>\n",
       "    </tr>\n",
       "    <tr>\n",
       "      <th>y</th>\n",
       "      <td>-0.039556</td>\n",
       "    </tr>\n",
       "  </tbody>\n",
       "</table>\n",
       "</div>"
      ],
      "text/plain": [
       "      queer\n",
       "x  0.028866\n",
       "y -0.039556"
      ]
     },
     "execution_count": 357,
     "metadata": {},
     "output_type": "execute_result"
    }
   ],
   "source": [
    "plotframe_1920 = vocab2pca(hist_vocab_1920)\n",
    "transposed_1920 = plotframe_1920.transpose()\n",
    "transposed_1920[['queer']]"
   ]
  },
  {
   "cell_type": "code",
   "execution_count": 358,
   "metadata": {},
   "outputs": [],
   "source": [
    "queer_x_1920 = transposed_1920.iloc[0]['queer']\n",
    "queer_y_1920 = transposed_1920.iloc[1]['queer']"
   ]
  },
  {
   "cell_type": "code",
   "execution_count": 359,
   "metadata": {},
   "outputs": [],
   "source": [
    "\n",
    "plotframe_1920[\"distance_from_queer\"] = (((plotframe_1920.x-queer_x_1920)**2+(plotframe_1920.y-queer_y_1920)**2)**0.5)\n",
    "pd.set_option('display.max_rows', None)\n",
    "distance_sorted_1920 = plotframe_1920.sort_values([\"distance_from_queer\"], ascending=True)\n",
    "distance_sorted_1920.head(100)\n",
    "pd.set_option('display.max_rows', None)\n",
    "list(distance_sorted_1920.index)[0:100]\n",
    "queersimilar_1920 = list(distance_sorted_1920.index)[0:100]"
   ]
  },
  {
   "cell_type": "code",
   "execution_count": 360,
   "metadata": {},
   "outputs": [],
   "source": [
    "with open('C:\\\\Users\\\\Heejoung Shin\\\\Documents\\\\Heejoung Files\\\\UIUC MSLIS\\\\IS417-Data Science in the Humanities\\\\Research Paper\\\\Data\\\\liunegative.txt', encoding = 'utf-8') as f:\n",
    "    negative_words = [x.strip() for x in f.readlines()]\n",
    "    \n",
    "with open('C:\\\\Users\\\\Heejoung Shin\\\\Documents\\\\Heejoung Files\\\\UIUC MSLIS\\\\IS417-Data Science in the Humanities\\\\Research Paper\\\\Data\\\\liupositive.txt', encoding = 'utf-8') as f:\n",
    "    positive_words = [x.strip() for x in f.readlines()]"
   ]
  },
  {
   "cell_type": "code",
   "execution_count": 361,
   "metadata": {},
   "outputs": [],
   "source": [
    "negativelist_1920 = [w for w in queersimilar_1920 if w in negative_words]\n",
    "positivelist_1920 = [w for w in queersimilar_1920 if w in positive_words]"
   ]
  },
  {
   "cell_type": "code",
   "execution_count": 362,
   "metadata": {},
   "outputs": [],
   "source": [
    "negative_df_1920  = vectordf_no_zeros_1920[vectordf_no_zeros_1920.index.isin(negativelist_1920)]\n",
    "positive_df_1920  = vectordf_no_zeros_1920[vectordf_no_zeros_1920.index.isin(positivelist_1920)]"
   ]
  },
  {
   "cell_type": "code",
   "execution_count": 363,
   "metadata": {},
   "outputs": [
    {
     "name": "stdout",
     "output_type": "stream",
     "text": [
      "['quiet', 'sweet', 'treasure', 'leads', 'favorite', 'stunned', 'sweetly']\n",
      "['blind', 'waste', 'queer', 'fever', 'burden', 'exhausted', 'dumb', 'helpless', 'fright', 'ache', 'drunken', 'drowning', 'oddly', 'stab']\n"
     ]
    }
   ],
   "source": [
    "positive_list_1920 = positive_df_1920.index.values.tolist() # save index values (the words) from positive_df into a list,\n",
    "                                                # because get_vector uses list (not dataframe, not dict) as input\n",
    "print(positive_list_1920)\n",
    "negative_list_1920 = negative_df_1920.index.values.tolist() # save index values (the words) from negative_df into a list\n",
    "print(negative_list_1920)"
   ]
  },
  {
   "cell_type": "code",
   "execution_count": 364,
   "metadata": {},
   "outputs": [
    {
     "name": "stdout",
     "output_type": "stream",
     "text": [
      "-0.20661738641908522\n"
     ]
    }
   ],
   "source": [
    "def get_vector(wordlist): \n",
    "    vectors_1920 = [] # start with empty list\n",
    "    \n",
    "    for ex in wordlist:    # for each word in a wordlist\n",
    "        vec = vectordict_1920[ex]    # get its vector\n",
    "        vectorlength_1920 = np.linalg.norm(vec, ord = 2)     # normalize length\n",
    "        vectors_1920.append(vec / vectorlength_1920)              # and save it in the list\n",
    "        \n",
    "    thesum_1920 = np.sum(vectors_1920, axis = 0)                  # then add all the vectors\n",
    "    vectorlength_1920 = np.linalg.norm(thesum_1920, ord = 2)      # normalize length again\n",
    "    \n",
    "    return thesum_1920 / vectorlength_1920\n",
    "\n",
    "\n",
    "pos_vector_1920 = get_vector(positive_list_1920)\n",
    "neg_vector_1920 = get_vector(negative_list_1920)\n",
    "\n",
    "# vec_queer = model.wv['queer'] # vec_queer is calculated above\n",
    "    \n",
    "pos_dist_1920 = cosine(vec_queer_1920, pos_vector_1920)\n",
    "neg_dist_1920 = cosine(vec_queer_1920, neg_vector_1920)\n",
    "\n",
    "    \n",
    "net_positive_queer_1920 = neg_dist_1920 - pos_dist_1920\n",
    "    \n",
    "print(net_positive_queer_1920)"
   ]
  },
  {
   "cell_type": "code",
   "execution_count": null,
   "metadata": {},
   "outputs": [],
   "source": []
  },
  {
   "cell_type": "markdown",
   "metadata": {},
   "source": [
    "### Word Embeddings (1930s)"
   ]
  },
  {
   "cell_type": "code",
   "execution_count": 365,
   "metadata": {},
   "outputs": [],
   "source": [
    "hist_embeds_1930 = dict()\n",
    "\n",
    "hist_vocab_1930 = pickle.load(open('C:\\\\Users\\\\Heejoung Shin\\\\Documents\\\\Heejoung Files\\\\UIUC MSLIS\\\\IS417-Data Science in the Humanities\\\\Research Paper\\\\Data\\\\eng-fiction-all_sgns\\\\sgns\\\\1930-vocab.pkl', 'rb'))\n",
    "hist_vectors_1930 = np.load('C:\\\\Users\\\\Heejoung Shin\\\\Documents\\\\Heejoung Files\\\\UIUC MSLIS\\\\IS417-Data Science in the Humanities\\\\Research Paper\\\\Data\\\\eng-fiction-all_sgns\\\\sgns\\\\1930-w.npy')\n",
    "\n",
    "\n",
    "for i in range(len(hist_vocab_1930)):\n",
    "    hist_embeds_1930[hist_vocab_1930[i]] = hist_vectors_1930[i]"
   ]
  },
  {
   "cell_type": "code",
   "execution_count": 366,
   "metadata": {},
   "outputs": [],
   "source": [
    "vec_queer_1930 = hist_embeds_1930['queer']"
   ]
  },
  {
   "cell_type": "code",
   "execution_count": 367,
   "metadata": {},
   "outputs": [],
   "source": [
    "vectordict_1930 = dict()\n",
    "for v in hist_vocab_1930:\n",
    "    vectordict_1930[v] = hist_embeds_1930[v]"
   ]
  },
  {
   "cell_type": "code",
   "execution_count": 368,
   "metadata": {},
   "outputs": [],
   "source": [
    "vectordf_1930 = pd.DataFrame.from_dict(vectordict_1930, orient = 'index')\n",
    "vectordf_1930[\"sum\"] = vectordf_1930.sum(axis=1)\n",
    "valuezero_1930 = vectordf_1930['sum'].isin([0.0])\n",
    "vectordf_1930[~valuezero_1930]\n",
    "vectordf_no_zeros_1930 = vectordf_1930[~valuezero_1930]"
   ]
  },
  {
   "cell_type": "code",
   "execution_count": 369,
   "metadata": {},
   "outputs": [],
   "source": [
    "del vectordf_no_zeros_1930['sum']"
   ]
  },
  {
   "cell_type": "code",
   "execution_count": 370,
   "metadata": {},
   "outputs": [],
   "source": [
    "def vocab2pca(hist_vocab_1930):\n",
    "    \n",
    "    vectordict_1930 = dict()\n",
    "    for v in hist_vocab_1930:\n",
    "        vectordict_1930[v] = hist_embeds_1930[v]\n",
    "        \n",
    "    vectordf_1930 = pd.DataFrame.from_dict(vectordict_1930, orient = 'index')\n",
    "    vectordf_1930[\"sum\"] = vectordf_1930.sum(axis=1)\n",
    "    valuezero_1930 = vectordf_1930['sum'].isin([0.0])\n",
    "    vectordf_no_zeros_1930 = vectordf_1930[~valuezero_1930]\n",
    "    del vectordf_no_zeros_1930['sum']\n",
    "    \n",
    "    vectorlengths_1930 = np.linalg.norm(vectordf_no_zeros_1930, ord = 2, axis = 1)   # normalize vector lengths\n",
    "    vectordf_no_zeros_1930 = vectordf_no_zeros_1930.divide(vectorlengths_1930, axis = 'rows')      # for PCA\n",
    "    hist_vocab_no_zeros_1930 = list(vectordf_no_zeros_1930.index.values) # for index\n",
    "    \n",
    "    pca = PCA(n_components = 2)       \n",
    "    components_1930 = pca.fit_transform(vectordf_no_zeros_1930)                      # perform PCA\n",
    "    plotframe_1930 = pd.DataFrame({'x': components_1930[ : , 0], 'y': components_1930[ : , 1]}, index = hist_vocab_no_zeros_1930)\n",
    "    \n",
    "    return plotframe_1930"
   ]
  },
  {
   "cell_type": "code",
   "execution_count": 371,
   "metadata": {},
   "outputs": [
    {
     "data": {
      "text/html": [
       "<div>\n",
       "<style scoped>\n",
       "    .dataframe tbody tr th:only-of-type {\n",
       "        vertical-align: middle;\n",
       "    }\n",
       "\n",
       "    .dataframe tbody tr th {\n",
       "        vertical-align: top;\n",
       "    }\n",
       "\n",
       "    .dataframe thead th {\n",
       "        text-align: right;\n",
       "    }\n",
       "</style>\n",
       "<table border=\"1\" class=\"dataframe\">\n",
       "  <thead>\n",
       "    <tr style=\"text-align: right;\">\n",
       "      <th></th>\n",
       "      <th>queer</th>\n",
       "    </tr>\n",
       "  </thead>\n",
       "  <tbody>\n",
       "    <tr>\n",
       "      <th>x</th>\n",
       "      <td>0.032025</td>\n",
       "    </tr>\n",
       "    <tr>\n",
       "      <th>y</th>\n",
       "      <td>0.024968</td>\n",
       "    </tr>\n",
       "  </tbody>\n",
       "</table>\n",
       "</div>"
      ],
      "text/plain": [
       "      queer\n",
       "x  0.032025\n",
       "y  0.024968"
      ]
     },
     "execution_count": 371,
     "metadata": {},
     "output_type": "execute_result"
    }
   ],
   "source": [
    "plotframe_1930 = vocab2pca(hist_vocab_1930)\n",
    "transposed_1930 = plotframe_1930.transpose()\n",
    "transposed_1930[['queer']]"
   ]
  },
  {
   "cell_type": "code",
   "execution_count": 372,
   "metadata": {},
   "outputs": [],
   "source": [
    "queer_x_1930 = transposed_1930.iloc[0]['queer']\n",
    "queer_y_1930 = transposed_1930.iloc[1]['queer']"
   ]
  },
  {
   "cell_type": "code",
   "execution_count": 373,
   "metadata": {},
   "outputs": [],
   "source": [
    "\n",
    "plotframe_1930[\"distance_from_queer\"] = (((plotframe_1930.x-queer_x_1930)**2+(plotframe_1930.y-queer_y_1930)**2)**0.5)\n",
    "pd.set_option('display.max_rows', None)\n",
    "distance_sorted_1930 = plotframe_1930.sort_values([\"distance_from_queer\"], ascending=True)\n",
    "distance_sorted_1930.head(100)\n",
    "pd.set_option('display.max_rows', None)\n",
    "list(distance_sorted_1930.index)[0:100]\n",
    "queersimilar_1930 = list(distance_sorted_1930.index)[0:100]"
   ]
  },
  {
   "cell_type": "code",
   "execution_count": 375,
   "metadata": {},
   "outputs": [],
   "source": [
    "with open('C:\\\\Users\\\\Heejoung Shin\\\\Documents\\\\Heejoung Files\\\\UIUC MSLIS\\\\IS417-Data Science in the Humanities\\\\Research Paper\\\\Data\\\\liunegative.txt', encoding = 'utf-8') as f:\n",
    "    negative_words = [x.strip() for x in f.readlines()]\n",
    "    \n",
    "with open('C:\\\\Users\\\\Heejoung Shin\\\\Documents\\\\Heejoung Files\\\\UIUC MSLIS\\\\IS417-Data Science in the Humanities\\\\Research Paper\\\\Data\\\\liupositive.txt', encoding = 'utf-8') as f:\n",
    "    positive_words = [x.strip() for x in f.readlines()]"
   ]
  },
  {
   "cell_type": "code",
   "execution_count": 376,
   "metadata": {},
   "outputs": [],
   "source": [
    "negativelist_1930 = [w for w in queersimilar_1930 if w in negative_words]\n",
    "positivelist_1930 = [w for w in queersimilar_1930 if w in positive_words]"
   ]
  },
  {
   "cell_type": "code",
   "execution_count": 378,
   "metadata": {},
   "outputs": [],
   "source": [
    "negative_df_1930  = vectordf_no_zeros_1930[vectordf_no_zeros_1930.index.isin(negativelist_1930)]\n",
    "positive_df_1930  = vectordf_no_zeros_1930[vectordf_no_zeros_1930.index.isin(positivelist_1930)]"
   ]
  },
  {
   "cell_type": "code",
   "execution_count": 379,
   "metadata": {},
   "outputs": [
    {
     "name": "stdout",
     "output_type": "stream",
     "text": [
      "['clear', 'quiet', 'lead', 'pleasantly', 'stunned']\n",
      "['waste', 'queer', 'weary', 'cheap', 'cursed', 'mock', 'unexpectedly', 'sly', 'crush', 'burns', 'rot']\n"
     ]
    }
   ],
   "source": [
    "positive_list_1930=positive_df_1930.index.values.tolist() # save index values (the words) from positive_df into a list,\n",
    "                                                # because get_vector uses list (not dataframe, not dict) as input\n",
    "print(positive_list_1930)\n",
    "negative_list_1930=negative_df_1930.index.values.tolist() # save index values (the words) from negative_df into a list\n",
    "print(negative_list_1930)"
   ]
  },
  {
   "cell_type": "code",
   "execution_count": 380,
   "metadata": {},
   "outputs": [
    {
     "name": "stdout",
     "output_type": "stream",
     "text": [
      "-0.405334859182119\n"
     ]
    }
   ],
   "source": [
    "def get_vector(wordlist): \n",
    "    vectors_1930 = [] # start with empty list\n",
    "    \n",
    "    for ex in wordlist:    # for each word in a wordlist\n",
    "        vec = vectordict_1930[ex]    # get its vector\n",
    "        vectorlength_1930 = np.linalg.norm(vec, ord = 2)     # normalize length\n",
    "        vectors_1930.append(vec / vectorlength_1930)              # and save it in the list\n",
    "        \n",
    "    thesum_1930 = np.sum(vectors_1930, axis = 0)                  # then add all the vectors\n",
    "    vectorlength_1930 = np.linalg.norm(thesum_1930, ord = 2)      # normalize length again\n",
    "    \n",
    "    return thesum_1930 / vectorlength_1930\n",
    "\n",
    "\n",
    "pos_vector_1930 = get_vector(positive_list_1930)\n",
    "neg_vector_1930 = get_vector(negative_list_1930)\n",
    "\n",
    "# vec_queer = model.wv['queer'] # vec_queer is calculated above\n",
    "    \n",
    "pos_dist_1930 = cosine(vec_queer_1930, pos_vector_1930)\n",
    "neg_dist_1930 = cosine(vec_queer_1930, neg_vector_1930)\n",
    "\n",
    "    \n",
    "net_positive_queer_1930 = neg_dist_1930 - pos_dist_1930\n",
    "    \n",
    "print(net_positive_queer_1930)"
   ]
  },
  {
   "cell_type": "code",
   "execution_count": null,
   "metadata": {},
   "outputs": [],
   "source": []
  },
  {
   "cell_type": "markdown",
   "metadata": {},
   "source": [
    "### Word Embeddings (1940s)"
   ]
  },
  {
   "cell_type": "code",
   "execution_count": null,
   "metadata": {},
   "outputs": [],
   "source": []
  },
  {
   "cell_type": "code",
   "execution_count": 381,
   "metadata": {},
   "outputs": [],
   "source": [
    "hist_embeds_1940 = dict()\n",
    "\n",
    "hist_vocab_1940 = pickle.load(open('C:\\\\Users\\\\Heejoung Shin\\\\Documents\\\\Heejoung Files\\\\UIUC MSLIS\\\\IS417-Data Science in the Humanities\\\\Research Paper\\\\Data\\\\eng-fiction-all_sgns\\\\sgns\\\\1940-vocab.pkl', 'rb'))\n",
    "hist_vectors_1940 = np.load('C:\\\\Users\\\\Heejoung Shin\\\\Documents\\\\Heejoung Files\\\\UIUC MSLIS\\\\IS417-Data Science in the Humanities\\\\Research Paper\\\\Data\\\\eng-fiction-all_sgns\\\\sgns\\\\1940-w.npy')\n",
    "\n",
    "\n",
    "for i in range(len(hist_vocab_1940)):\n",
    "    hist_embeds_1940[hist_vocab_1940[i]] = hist_vectors_1940[i]"
   ]
  },
  {
   "cell_type": "code",
   "execution_count": 382,
   "metadata": {},
   "outputs": [],
   "source": [
    "vec_queer_1940 = hist_embeds_1940['queer']"
   ]
  },
  {
   "cell_type": "code",
   "execution_count": 383,
   "metadata": {},
   "outputs": [],
   "source": [
    "vectordict_1940 = dict()\n",
    "for v in hist_vocab_1940:\n",
    "    vectordict_1940[v] = hist_embeds_1940[v]"
   ]
  },
  {
   "cell_type": "code",
   "execution_count": 384,
   "metadata": {},
   "outputs": [],
   "source": [
    "vectordf_1940 = pd.DataFrame.from_dict(vectordict_1940, orient = 'index')\n",
    "vectordf_1940[\"sum\"] = vectordf_1940.sum(axis=1)\n",
    "valuezero_1940 = vectordf_1940['sum'].isin([0.0])\n",
    "vectordf_1940[~valuezero_1940]\n",
    "vectordf_no_zeros_1940 = vectordf_1940[~valuezero_1940]"
   ]
  },
  {
   "cell_type": "code",
   "execution_count": 385,
   "metadata": {},
   "outputs": [],
   "source": [
    "del vectordf_no_zeros_1940['sum']"
   ]
  },
  {
   "cell_type": "code",
   "execution_count": 386,
   "metadata": {},
   "outputs": [],
   "source": [
    "def vocab2pca(hist_vocab_1940):\n",
    "    \n",
    "    vectordict_1940 = dict()\n",
    "    for v in hist_vocab_1940:\n",
    "        vectordict_1940[v] = hist_embeds_1940[v]\n",
    "        \n",
    "    vectordf_1940 = pd.DataFrame.from_dict(vectordict_1940, orient = 'index')\n",
    "    vectordf_1940[\"sum\"] = vectordf_1940.sum(axis=1)\n",
    "    valuezero_1940 = vectordf_1940['sum'].isin([0.0])\n",
    "    vectordf_no_zeros_1940 = vectordf_1940[~valuezero_1940]\n",
    "    del vectordf_no_zeros_1940['sum']\n",
    "    \n",
    "    vectorlengths_1940 = np.linalg.norm(vectordf_no_zeros_1940, ord = 2, axis = 1)   # normalize vector lengths\n",
    "    vectordf_no_zeros_1940 = vectordf_no_zeros_1940.divide(vectorlengths_1940, axis = 'rows')      # for PCA\n",
    "    hist_vocab_no_zeros_1940 = list(vectordf_no_zeros_1940.index.values) # for index\n",
    "    \n",
    "    pca = PCA(n_components = 2)       \n",
    "    components_1940 = pca.fit_transform(vectordf_no_zeros_1940)                      # perform PCA\n",
    "    plotframe_1940 = pd.DataFrame({'x': components_1940[ : , 0], 'y': components_1940[ : , 1]}, index = hist_vocab_no_zeros_1940)\n",
    "    \n",
    "    return plotframe_1940"
   ]
  },
  {
   "cell_type": "code",
   "execution_count": 387,
   "metadata": {},
   "outputs": [
    {
     "data": {
      "text/html": [
       "<div>\n",
       "<style scoped>\n",
       "    .dataframe tbody tr th:only-of-type {\n",
       "        vertical-align: middle;\n",
       "    }\n",
       "\n",
       "    .dataframe tbody tr th {\n",
       "        vertical-align: top;\n",
       "    }\n",
       "\n",
       "    .dataframe thead th {\n",
       "        text-align: right;\n",
       "    }\n",
       "</style>\n",
       "<table border=\"1\" class=\"dataframe\">\n",
       "  <thead>\n",
       "    <tr style=\"text-align: right;\">\n",
       "      <th></th>\n",
       "      <th>queer</th>\n",
       "    </tr>\n",
       "  </thead>\n",
       "  <tbody>\n",
       "    <tr>\n",
       "      <th>x</th>\n",
       "      <td>0.008755</td>\n",
       "    </tr>\n",
       "    <tr>\n",
       "      <th>y</th>\n",
       "      <td>0.018017</td>\n",
       "    </tr>\n",
       "  </tbody>\n",
       "</table>\n",
       "</div>"
      ],
      "text/plain": [
       "      queer\n",
       "x  0.008755\n",
       "y  0.018017"
      ]
     },
     "execution_count": 387,
     "metadata": {},
     "output_type": "execute_result"
    }
   ],
   "source": [
    "plotframe_1940 = vocab2pca(hist_vocab_1940)\n",
    "transposed_1940 = plotframe_1940.transpose()\n",
    "transposed_1940[['queer']]"
   ]
  },
  {
   "cell_type": "code",
   "execution_count": 388,
   "metadata": {},
   "outputs": [],
   "source": [
    "queer_x_1940 = transposed_1940.iloc[0]['queer']\n",
    "queer_y_1940 = transposed_1940.iloc[1]['queer']"
   ]
  },
  {
   "cell_type": "code",
   "execution_count": 389,
   "metadata": {},
   "outputs": [],
   "source": [
    "\n",
    "plotframe_1940[\"distance_from_queer\"] = (((plotframe_1940.x-queer_x_1940)**2+(plotframe_1940.y-queer_y_1940)**2)**0.5)\n",
    "pd.set_option('display.max_rows', None)\n",
    "distance_sorted_1940 = plotframe_1940.sort_values([\"distance_from_queer\"], ascending=True)\n",
    "distance_sorted_1940.head(100)\n",
    "pd.set_option('display.max_rows', None)\n",
    "list(distance_sorted_1940.index)[0:100]\n",
    "queersimilar_1940 = list(distance_sorted_1940.index)[0:100]"
   ]
  },
  {
   "cell_type": "code",
   "execution_count": 390,
   "metadata": {},
   "outputs": [],
   "source": [
    "with open('C:\\\\Users\\\\Heejoung Shin\\\\Documents\\\\Heejoung Files\\\\UIUC MSLIS\\\\IS417-Data Science in the Humanities\\\\Research Paper\\\\Data\\\\liunegative.txt', encoding = 'utf-8') as f:\n",
    "    negative_words = [x.strip() for x in f.readlines()]\n",
    "    \n",
    "with open('C:\\\\Users\\\\Heejoung Shin\\\\Documents\\\\Heejoung Files\\\\UIUC MSLIS\\\\IS417-Data Science in the Humanities\\\\Research Paper\\\\Data\\\\liupositive.txt', encoding = 'utf-8') as f:\n",
    "    positive_words = [x.strip() for x in f.readlines()]"
   ]
  },
  {
   "cell_type": "code",
   "execution_count": 391,
   "metadata": {},
   "outputs": [],
   "source": [
    "negativelist_1940 = [w for w in queersimilar_1990 if w in negative_words]\n",
    "positivelist_1940 = [w for w in queersimilar_1990 if w in positive_words]"
   ]
  },
  {
   "cell_type": "code",
   "execution_count": 392,
   "metadata": {},
   "outputs": [],
   "source": [
    "negative_df_1940  = vectordf_no_zeros_1940[vectordf_no_zeros_1940.index.isin(negativelist_1940)]\n",
    "positive_df_1940  = vectordf_no_zeros_1940[vectordf_no_zeros_1940.index.isin(positivelist_1940)]"
   ]
  },
  {
   "cell_type": "code",
   "execution_count": 393,
   "metadata": {},
   "outputs": [
    {
     "name": "stdout",
     "output_type": "stream",
     "text": [
      "['cheer', 'warmly', 'passionately', 'terrific', 'quicker', 'triumphantly']\n",
      "['queer', 'sadly', 'gravely', 'awkward', 'curse', 'coldly', 'pinch', 'abrupt', 'lame']\n"
     ]
    }
   ],
   "source": [
    "positive_list_1940=positive_df_1940.index.values.tolist() # save index values (the words) from positive_df into a list,\n",
    "                                                # because get_vector uses list (not dataframe, not dict) as input\n",
    "print(positive_list_1940)\n",
    "negative_list_1940=negative_df_1940.index.values.tolist() # save index values (the words) from negative_df into a list\n",
    "print(negative_list_1940)"
   ]
  },
  {
   "cell_type": "code",
   "execution_count": 394,
   "metadata": {},
   "outputs": [
    {
     "name": "stdout",
     "output_type": "stream",
     "text": [
      "-0.33851549431590167\n"
     ]
    }
   ],
   "source": [
    "def get_vector(wordlist): \n",
    "    vectors_1940 = [] # start with empty list\n",
    "    \n",
    "    for ex in wordlist:    # for each word in a wordlist\n",
    "        vec = vectordict_1940[ex]    # get its vector\n",
    "        vectorlength_1940 = np.linalg.norm(vec, ord = 2)     # normalize length\n",
    "        vectors_1940.append(vec / vectorlength_1940)              # and save it in the list\n",
    "        \n",
    "    thesum_1940 = np.sum(vectors_1940, axis = 0)                  # then add all the vectors\n",
    "    vectorlength_1940 = np.linalg.norm(thesum_1940, ord = 2)      # normalize length again\n",
    "    \n",
    "    return thesum_1940 / vectorlength_1940\n",
    "\n",
    "\n",
    "pos_vector_1940 = get_vector(positive_list_1940)\n",
    "neg_vector_1940 = get_vector(negative_list_1940)\n",
    "\n",
    "# vec_queer = model.wv['queer'] # vec_queer is calculated above\n",
    "    \n",
    "pos_dist_1940 = cosine(vec_queer_1940, pos_vector_1940)\n",
    "neg_dist_1940 = cosine(vec_queer_1940, neg_vector_1940)\n",
    "\n",
    "    \n",
    "net_positive_queer_1940 = neg_dist_1940 - pos_dist_1940\n",
    "    \n",
    "print(net_positive_queer_1940)"
   ]
  },
  {
   "cell_type": "markdown",
   "metadata": {},
   "source": [
    "### Word Embeddings (1950s)"
   ]
  },
  {
   "cell_type": "code",
   "execution_count": 395,
   "metadata": {},
   "outputs": [],
   "source": [
    "hist_embeds_1950 = dict()\n",
    "\n",
    "hist_vocab_1950 = pickle.load(open('C:\\\\Users\\\\Heejoung Shin\\\\Documents\\\\Heejoung Files\\\\UIUC MSLIS\\\\IS417-Data Science in the Humanities\\\\Research Paper\\\\Data\\\\eng-fiction-all_sgns\\\\sgns\\\\1950-vocab.pkl', 'rb'))\n",
    "hist_vectors_1950 = np.load('C:\\\\Users\\\\Heejoung Shin\\\\Documents\\\\Heejoung Files\\\\UIUC MSLIS\\\\IS417-Data Science in the Humanities\\\\Research Paper\\\\Data\\\\eng-fiction-all_sgns\\\\sgns\\\\1950-w.npy')\n",
    "\n",
    "\n",
    "for i in range(len(hist_vocab_1950)):\n",
    "    hist_embeds_1950[hist_vocab_1950[i]] = hist_vectors_1950[i]"
   ]
  },
  {
   "cell_type": "code",
   "execution_count": 396,
   "metadata": {},
   "outputs": [],
   "source": [
    "vec_queer_1950 = hist_embeds_1950['queer']"
   ]
  },
  {
   "cell_type": "code",
   "execution_count": 397,
   "metadata": {},
   "outputs": [],
   "source": [
    "vectordict_1950 = dict()\n",
    "for v in hist_vocab_1950:\n",
    "    vectordict_1950[v] = hist_embeds_1950[v]"
   ]
  },
  {
   "cell_type": "code",
   "execution_count": 398,
   "metadata": {},
   "outputs": [],
   "source": [
    "vectordf_1950 = pd.DataFrame.from_dict(vectordict_1950, orient = 'index')\n",
    "vectordf_1950[\"sum\"] = vectordf_1950.sum(axis=1)\n",
    "valuezero_1950 = vectordf_1950['sum'].isin([0.0])\n",
    "vectordf_1950[~valuezero_1950]\n",
    "vectordf_no_zeros_1950 = vectordf_1950[~valuezero_1950]"
   ]
  },
  {
   "cell_type": "code",
   "execution_count": 399,
   "metadata": {},
   "outputs": [],
   "source": [
    "del vectordf_no_zeros_1950['sum']"
   ]
  },
  {
   "cell_type": "code",
   "execution_count": 400,
   "metadata": {},
   "outputs": [],
   "source": [
    "def vocab2pca(hist_vocab_1950):\n",
    "    \n",
    "    vectordict_1950 = dict()\n",
    "    for v in hist_vocab_1950:\n",
    "        vectordict_1950[v] = hist_embeds_1950[v]\n",
    "        \n",
    "    vectordf_1950 = pd.DataFrame.from_dict(vectordict_1950, orient = 'index')\n",
    "    vectordf_1950[\"sum\"] = vectordf_1950.sum(axis=1)\n",
    "    valuezero_1950 = vectordf_1950['sum'].isin([0.0])\n",
    "    vectordf_no_zeros_1950 = vectordf_1950[~valuezero_1950]\n",
    "    del vectordf_no_zeros_1950['sum']\n",
    "    \n",
    "    vectorlengths_1950 = np.linalg.norm(vectordf_no_zeros_1950, ord = 2, axis = 1)   # normalize vector lengths\n",
    "    vectordf_no_zeros_1950 = vectordf_no_zeros_1950.divide(vectorlengths_1950, axis = 'rows')      # for PCA\n",
    "    hist_vocab_no_zeros_1950 = list(vectordf_no_zeros_1950.index.values) # for index\n",
    "    \n",
    "    pca = PCA(n_components = 2)       \n",
    "    components_1950 = pca.fit_transform(vectordf_no_zeros_1950)                      # perform PCA\n",
    "    plotframe_1950 = pd.DataFrame({'x': components_1950[ : , 0], 'y': components_1950[ : , 1]}, index = hist_vocab_no_zeros_1950)\n",
    "    \n",
    "    return plotframe_1950"
   ]
  },
  {
   "cell_type": "code",
   "execution_count": 401,
   "metadata": {},
   "outputs": [
    {
     "data": {
      "text/html": [
       "<div>\n",
       "<style scoped>\n",
       "    .dataframe tbody tr th:only-of-type {\n",
       "        vertical-align: middle;\n",
       "    }\n",
       "\n",
       "    .dataframe tbody tr th {\n",
       "        vertical-align: top;\n",
       "    }\n",
       "\n",
       "    .dataframe thead th {\n",
       "        text-align: right;\n",
       "    }\n",
       "</style>\n",
       "<table border=\"1\" class=\"dataframe\">\n",
       "  <thead>\n",
       "    <tr style=\"text-align: right;\">\n",
       "      <th></th>\n",
       "      <th>queer</th>\n",
       "    </tr>\n",
       "  </thead>\n",
       "  <tbody>\n",
       "    <tr>\n",
       "      <th>x</th>\n",
       "      <td>0.011038</td>\n",
       "    </tr>\n",
       "    <tr>\n",
       "      <th>y</th>\n",
       "      <td>-0.113365</td>\n",
       "    </tr>\n",
       "  </tbody>\n",
       "</table>\n",
       "</div>"
      ],
      "text/plain": [
       "      queer\n",
       "x  0.011038\n",
       "y -0.113365"
      ]
     },
     "execution_count": 401,
     "metadata": {},
     "output_type": "execute_result"
    }
   ],
   "source": [
    "plotframe_1950 = vocab2pca(hist_vocab_1950)\n",
    "transposed_1950 = plotframe_1950.transpose()\n",
    "transposed_1950[['queer']]"
   ]
  },
  {
   "cell_type": "code",
   "execution_count": 402,
   "metadata": {},
   "outputs": [],
   "source": [
    "queer_x_1950 = transposed_1950.iloc[0]['queer']\n",
    "queer_y_1950 = transposed_1950.iloc[1]['queer']"
   ]
  },
  {
   "cell_type": "code",
   "execution_count": 403,
   "metadata": {},
   "outputs": [],
   "source": [
    "\n",
    "plotframe_1950[\"distance_from_queer\"] = (((plotframe_1950.x-queer_x_1950)**2+(plotframe_1950.y-queer_y_1950)**2)**0.5)\n",
    "pd.set_option('display.max_rows', None)\n",
    "distance_sorted_1950 = plotframe_1950.sort_values([\"distance_from_queer\"], ascending=True)\n",
    "distance_sorted_1950.head(100)\n",
    "pd.set_option('display.max_rows', None)\n",
    "list(distance_sorted_1950.index)[0:100]\n",
    "queersimilar_1950 = list(distance_sorted_1950.index)[0:100]"
   ]
  },
  {
   "cell_type": "code",
   "execution_count": 404,
   "metadata": {},
   "outputs": [],
   "source": [
    "with open('C:\\\\Users\\\\Heejoung Shin\\\\Documents\\\\Heejoung Files\\\\UIUC MSLIS\\\\IS417-Data Science in the Humanities\\\\Research Paper\\\\Data\\\\liunegative.txt', encoding = 'utf-8') as f:\n",
    "    negative_words = [x.strip() for x in f.readlines()]\n",
    "    \n",
    "with open('C:\\\\Users\\\\Heejoung Shin\\\\Documents\\\\Heejoung Files\\\\UIUC MSLIS\\\\IS417-Data Science in the Humanities\\\\Research Paper\\\\Data\\\\liupositive.txt', encoding = 'utf-8') as f:\n",
    "    positive_words = [x.strip() for x in f.readlines()]"
   ]
  },
  {
   "cell_type": "code",
   "execution_count": 405,
   "metadata": {},
   "outputs": [],
   "source": [
    "negativelist_1950 = [w for w in queersimilar_1950 if w in negative_words]\n",
    "positivelist_1950 = [w for w in queersimilar_1950 if w in positive_words]"
   ]
  },
  {
   "cell_type": "code",
   "execution_count": 406,
   "metadata": {},
   "outputs": [],
   "source": [
    "negative_df_1950  = vectordf_no_zeros_1950[vectordf_no_zeros_1950.index.isin(negativelist_1950)]\n",
    "positive_df_1950  = vectordf_no_zeros_1950[vectordf_no_zeros_1950.index.isin(positivelist_1950)]"
   ]
  },
  {
   "cell_type": "code",
   "execution_count": 407,
   "metadata": {},
   "outputs": [
    {
     "name": "stdout",
     "output_type": "stream",
     "text": [
      "['smile', 'striking', 'magic', 'magnificent', 'tenderly', 'peaceful', 'stunned', 'brighter', 'sweetly', 'refreshed']\n",
      "['bore', 'queer', 'exhausted', 'ugly', 'panic', 'foul', 'wounds', 'sly', 'crush', 'oddly', 'lull', 'fiend', 'contemptuously', 'boring', 'damaged', 'lowly']\n"
     ]
    }
   ],
   "source": [
    "positive_list_1950 = positive_df_1950.index.values.tolist() # save index values (the words) from positive_df into a list,\n",
    "                                                # because get_vector uses list (not dataframe, not dict) as input\n",
    "print(positive_list_1950)\n",
    "negative_list_1950=negative_df_1950.index.values.tolist() # save index values (the words) from negative_df into a list\n",
    "print(negative_list_1950)"
   ]
  },
  {
   "cell_type": "code",
   "execution_count": 408,
   "metadata": {},
   "outputs": [
    {
     "name": "stdout",
     "output_type": "stream",
     "text": [
      "-0.2753769552387656\n"
     ]
    }
   ],
   "source": [
    "def get_vector(wordlist): \n",
    "    vectors_1950 = [] # start with empty list\n",
    "    \n",
    "    for ex in wordlist:    # for each word in a wordlist\n",
    "        vec = vectordict_1950[ex]    # get its vector\n",
    "        vectorlength_1950 = np.linalg.norm(vec, ord = 2)     # normalize length\n",
    "        vectors_1950.append(vec / vectorlength_1950)              # and save it in the list\n",
    "        \n",
    "    thesum_1950 = np.sum(vectors_1950, axis = 0)                  # then add all the vectors\n",
    "    vectorlength_1950 = np.linalg.norm(thesum_1950, ord = 2)      # normalize length again\n",
    "    \n",
    "    return thesum_1950 / vectorlength_1950\n",
    "\n",
    "\n",
    "pos_vector_1950 = get_vector(positive_list_1950)\n",
    "neg_vector_1950 = get_vector(negative_list_1950)\n",
    "\n",
    "# vec_queer = model.wv['queer'] # vec_queer is calculated above\n",
    "    \n",
    "pos_dist_1950 = cosine(vec_queer_1950, pos_vector_1950)\n",
    "neg_dist_1950 = cosine(vec_queer_1950, neg_vector_1950)\n",
    "\n",
    "    \n",
    "net_positive_queer_1950 = neg_dist_1950 - pos_dist_1950\n",
    "    \n",
    "print(net_positive_queer_1950)"
   ]
  },
  {
   "cell_type": "code",
   "execution_count": null,
   "metadata": {},
   "outputs": [],
   "source": []
  },
  {
   "cell_type": "markdown",
   "metadata": {},
   "source": [
    "### Word Embeddings (1960s)"
   ]
  },
  {
   "cell_type": "code",
   "execution_count": 409,
   "metadata": {},
   "outputs": [],
   "source": [
    "hist_embeds_1960 = dict()\n",
    "\n",
    "hist_vocab_1960 = pickle.load(open('C:\\\\Users\\\\Heejoung Shin\\\\Documents\\\\Heejoung Files\\\\UIUC MSLIS\\\\IS417-Data Science in the Humanities\\\\Research Paper\\\\Data\\\\eng-fiction-all_sgns\\\\sgns\\\\1960-vocab.pkl', 'rb'))\n",
    "hist_vectors_1960 = np.load('C:\\\\Users\\\\Heejoung Shin\\\\Documents\\\\Heejoung Files\\\\UIUC MSLIS\\\\IS417-Data Science in the Humanities\\\\Research Paper\\\\Data\\\\eng-fiction-all_sgns\\\\sgns\\\\1960-w.npy')\n",
    "\n",
    "\n",
    "for i in range(len(hist_vocab_1960)):\n",
    "    hist_embeds_1960[hist_vocab_1960[i]] = hist_vectors_1960[i]"
   ]
  },
  {
   "cell_type": "code",
   "execution_count": 410,
   "metadata": {},
   "outputs": [],
   "source": [
    "vec_queer_1960 = hist_embeds_1960['queer']"
   ]
  },
  {
   "cell_type": "code",
   "execution_count": 411,
   "metadata": {},
   "outputs": [],
   "source": [
    "vectordict_1960 = dict()\n",
    "for v in hist_vocab_1960:\n",
    "    vectordict_1960[v] = hist_embeds_1960[v]"
   ]
  },
  {
   "cell_type": "code",
   "execution_count": 412,
   "metadata": {},
   "outputs": [],
   "source": [
    "vectordf_1960 = pd.DataFrame.from_dict(vectordict_1960, orient = 'index')\n",
    "vectordf_1960[\"sum\"] = vectordf_1960.sum(axis=1)\n",
    "valuezero_1960 = vectordf_1960['sum'].isin([0.0])\n",
    "vectordf_1960[~valuezero_1960]\n",
    "vectordf_no_zeros_1960 = vectordf_1960[~valuezero_1960]"
   ]
  },
  {
   "cell_type": "code",
   "execution_count": 413,
   "metadata": {},
   "outputs": [],
   "source": [
    "del vectordf_no_zeros_1960['sum']"
   ]
  },
  {
   "cell_type": "code",
   "execution_count": 414,
   "metadata": {},
   "outputs": [],
   "source": [
    "def vocab2pca(hist_vocab_1960):\n",
    "    \n",
    "    vectordict_1960 = dict()\n",
    "    for v in hist_vocab_1960:\n",
    "        vectordict_1960[v] = hist_embeds_1960[v]\n",
    "        \n",
    "    vectordf_1960 = pd.DataFrame.from_dict(vectordict_1960, orient = 'index')\n",
    "    vectordf_1960[\"sum\"] = vectordf_1960.sum(axis=1)\n",
    "    valuezero_1960 = vectordf_1960['sum'].isin([0.0])\n",
    "    vectordf_no_zeros_1960 = vectordf_1960[~valuezero_1960]\n",
    "    del vectordf_no_zeros_1960['sum']\n",
    "    \n",
    "    vectorlengths_1960 = np.linalg.norm(vectordf_no_zeros_1960, ord = 2, axis = 1)   # normalize vector lengths\n",
    "    vectordf_no_zeros_1960 = vectordf_no_zeros_1960.divide(vectorlengths_1960, axis = 'rows')      # for PCA\n",
    "    hist_vocab_no_zeros_1960 = list(vectordf_no_zeros_1960.index.values) # for index\n",
    "    \n",
    "    pca = PCA(n_components = 2)       \n",
    "    components_1960 = pca.fit_transform(vectordf_no_zeros_1960)                      # perform PCA\n",
    "    plotframe_1960 = pd.DataFrame({'x': components_1960[ : , 0], 'y': components_1960[ : , 1]}, index = hist_vocab_no_zeros_1960)\n",
    "    \n",
    "    return plotframe_1960"
   ]
  },
  {
   "cell_type": "code",
   "execution_count": 415,
   "metadata": {},
   "outputs": [
    {
     "data": {
      "text/html": [
       "<div>\n",
       "<style scoped>\n",
       "    .dataframe tbody tr th:only-of-type {\n",
       "        vertical-align: middle;\n",
       "    }\n",
       "\n",
       "    .dataframe tbody tr th {\n",
       "        vertical-align: top;\n",
       "    }\n",
       "\n",
       "    .dataframe thead th {\n",
       "        text-align: right;\n",
       "    }\n",
       "</style>\n",
       "<table border=\"1\" class=\"dataframe\">\n",
       "  <thead>\n",
       "    <tr style=\"text-align: right;\">\n",
       "      <th></th>\n",
       "      <th>queer</th>\n",
       "    </tr>\n",
       "  </thead>\n",
       "  <tbody>\n",
       "    <tr>\n",
       "      <th>x</th>\n",
       "      <td>0.01630</td>\n",
       "    </tr>\n",
       "    <tr>\n",
       "      <th>y</th>\n",
       "      <td>-0.14482</td>\n",
       "    </tr>\n",
       "  </tbody>\n",
       "</table>\n",
       "</div>"
      ],
      "text/plain": [
       "     queer\n",
       "x  0.01630\n",
       "y -0.14482"
      ]
     },
     "execution_count": 415,
     "metadata": {},
     "output_type": "execute_result"
    }
   ],
   "source": [
    "plotframe_1960 = vocab2pca(hist_vocab_1960)\n",
    "transposed_1960 = plotframe_1960.transpose()\n",
    "transposed_1960[['queer']]"
   ]
  },
  {
   "cell_type": "code",
   "execution_count": 416,
   "metadata": {},
   "outputs": [],
   "source": [
    "queer_x_1960 = transposed_1960.iloc[0]['queer']\n",
    "queer_y_1960 = transposed_1960.iloc[1]['queer']"
   ]
  },
  {
   "cell_type": "code",
   "execution_count": 417,
   "metadata": {},
   "outputs": [],
   "source": [
    "\n",
    "plotframe_1960[\"distance_from_queer\"] = (((plotframe_1960.x-queer_x_1960)**2+(plotframe_1960.y-queer_y_1960)**2)**0.5)\n",
    "pd.set_option('display.max_rows', None)\n",
    "distance_sorted_1960 = plotframe_1960.sort_values([\"distance_from_queer\"], ascending=True)\n",
    "distance_sorted_1960.head(100)\n",
    "pd.set_option('display.max_rows', None)\n",
    "list(distance_sorted_1960.index)[0:100]\n",
    "queersimilar_1960 = list(distance_sorted_1960.index)[0:100]"
   ]
  },
  {
   "cell_type": "code",
   "execution_count": 418,
   "metadata": {},
   "outputs": [],
   "source": [
    "with open('C:\\\\Users\\\\Heejoung Shin\\\\Documents\\\\Heejoung Files\\\\UIUC MSLIS\\\\IS417-Data Science in the Humanities\\\\Research Paper\\\\Data\\\\liunegative.txt', encoding = 'utf-8') as f:\n",
    "    negative_words = [x.strip() for x in f.readlines()]\n",
    "    \n",
    "with open('C:\\\\Users\\\\Heejoung Shin\\\\Documents\\\\Heejoung Files\\\\UIUC MSLIS\\\\IS417-Data Science in the Humanities\\\\Research Paper\\\\Data\\\\liupositive.txt', encoding = 'utf-8') as f:\n",
    "    positive_words = [x.strip() for x in f.readlines()]"
   ]
  },
  {
   "cell_type": "code",
   "execution_count": 419,
   "metadata": {},
   "outputs": [],
   "source": [
    "negativelist_1960 = [w for w in queersimilar_1960 if w in negative_words]\n",
    "positivelist_1960 = [w for w in queersimilar_1960 if w in positive_words]"
   ]
  },
  {
   "cell_type": "code",
   "execution_count": 420,
   "metadata": {},
   "outputs": [],
   "source": [
    "negative_df_1960  = vectordf_no_zeros_1960[vectordf_no_zeros_1960.index.isin(negativelist_1960)]\n",
    "positive_df_1960  = vectordf_no_zeros_1960[vectordf_no_zeros_1960.index.isin(positivelist_1960)]"
   ]
  },
  {
   "cell_type": "code",
   "execution_count": 421,
   "metadata": {},
   "outputs": [
    {
     "name": "stdout",
     "output_type": "stream",
     "text": [
      "['smiles', 'graceful', 'tenderly', 'fantastic', 'delicious', 'majestic', 'sweetly', 'comely', 'agility', 'joyfully']\n",
      "['cry', 'bore', 'weary', 'queer', 'sore', 'dismal', 'desperately', 'dreary', 'foul', 'coldly', 'nightmare', 'shrug', 'mock', 'fiend', 'commotion', 'uproar', 'crush', 'demon', 'lurking', 'drowning', 'chatter', 'monotonous', 'unfamiliar', 'choke', 'brood', 'boring', 'opponent', 'deformed', 'snare', 'mocked']\n"
     ]
    }
   ],
   "source": [
    "positive_list_1960 = positive_df_1960.index.values.tolist() # save index values (the words) from positive_df into a list,\n",
    "                                                # because get_vector uses list (not dataframe, not dict) as input\n",
    "print(positive_list_1960)\n",
    "negative_list_1960 = negative_df_1960.index.values.tolist() # save index values (the words) from negative_df into a list\n",
    "print(negative_list_1960)"
   ]
  },
  {
   "cell_type": "code",
   "execution_count": 422,
   "metadata": {},
   "outputs": [
    {
     "name": "stdout",
     "output_type": "stream",
     "text": [
      "-0.21694947808635445\n"
     ]
    }
   ],
   "source": [
    "def get_vector(wordlist): \n",
    "    vectors_1960 = [] # start with empty list\n",
    "    \n",
    "    for ex in wordlist:    # for each word in a wordlist\n",
    "        vec = vectordict_1960[ex]    # get its vector\n",
    "        vectorlength_1960 = np.linalg.norm(vec, ord = 2)     # normalize length\n",
    "        vectors_1960.append(vec / vectorlength_1960)              # and save it in the list\n",
    "        \n",
    "    thesum_1960 = np.sum(vectors_1960, axis = 0)                  # then add all the vectors\n",
    "    vectorlength_1960 = np.linalg.norm(thesum_1960, ord = 2)      # normalize length again\n",
    "    \n",
    "    return thesum_1960 / vectorlength_1960\n",
    "\n",
    "\n",
    "pos_vector_1960 = get_vector(positive_list_1960)\n",
    "neg_vector_1960 = get_vector(negative_list_1960)\n",
    "\n",
    "# vec_queer = model.wv['queer'] # vec_queer is calculated above\n",
    "    \n",
    "pos_dist_1960 = cosine(vec_queer_1960, pos_vector_1960)\n",
    "neg_dist_1960 = cosine(vec_queer_1960, neg_vector_1960)\n",
    "\n",
    "    \n",
    "net_positive_queer_1960 = neg_dist_1960 - pos_dist_1960\n",
    "    \n",
    "print(net_positive_queer_1960)"
   ]
  },
  {
   "cell_type": "code",
   "execution_count": null,
   "metadata": {},
   "outputs": [],
   "source": []
  },
  {
   "cell_type": "markdown",
   "metadata": {},
   "source": [
    "### Word Embeddings (1970s)"
   ]
  },
  {
   "cell_type": "code",
   "execution_count": 423,
   "metadata": {},
   "outputs": [],
   "source": [
    "hist_embeds_1970 = dict()\n",
    "\n",
    "hist_vocab_1970 = pickle.load(open('C:\\\\Users\\\\Heejoung Shin\\\\Documents\\\\Heejoung Files\\\\UIUC MSLIS\\\\IS417-Data Science in the Humanities\\\\Research Paper\\\\Data\\\\eng-fiction-all_sgns\\\\sgns\\\\1970-vocab.pkl', 'rb'))\n",
    "hist_vectors_1970 = np.load('C:\\\\Users\\\\Heejoung Shin\\\\Documents\\\\Heejoung Files\\\\UIUC MSLIS\\\\IS417-Data Science in the Humanities\\\\Research Paper\\\\Data\\\\eng-fiction-all_sgns\\\\sgns\\\\1970-w.npy')\n",
    "\n",
    "\n",
    "for i in range(len(hist_vocab_1970)):\n",
    "    hist_embeds_1970[hist_vocab_1970[i]] = hist_vectors_1970[i]"
   ]
  },
  {
   "cell_type": "code",
   "execution_count": 424,
   "metadata": {},
   "outputs": [],
   "source": [
    "vec_queer_1970 = hist_embeds_1970['queer']"
   ]
  },
  {
   "cell_type": "code",
   "execution_count": 425,
   "metadata": {},
   "outputs": [],
   "source": [
    "vectordict_1970 = dict()\n",
    "for v in hist_vocab_1970:\n",
    "    vectordict_1970[v] = hist_embeds_1970[v]"
   ]
  },
  {
   "cell_type": "code",
   "execution_count": 426,
   "metadata": {},
   "outputs": [],
   "source": [
    "vectordf_1970 = pd.DataFrame.from_dict(vectordict_1970, orient = 'index')\n",
    "vectordf_1970[\"sum\"] = vectordf_1970.sum(axis=1)\n",
    "valuezero_1970 = vectordf_1970['sum'].isin([0.0])\n",
    "vectordf_1970[~valuezero_1970]\n",
    "vectordf_no_zeros_1970 = vectordf_1970[~valuezero_1970]"
   ]
  },
  {
   "cell_type": "code",
   "execution_count": 427,
   "metadata": {},
   "outputs": [],
   "source": [
    "del vectordf_no_zeros_1970['sum']"
   ]
  },
  {
   "cell_type": "code",
   "execution_count": 428,
   "metadata": {},
   "outputs": [],
   "source": [
    "def vocab2pca(hist_vocab_1970):\n",
    "    \n",
    "    vectordict_1970 = dict()\n",
    "    for v in hist_vocab_1970:\n",
    "        vectordict_1970[v] = hist_embeds_1970[v]\n",
    "        \n",
    "    vectordf_1970 = pd.DataFrame.from_dict(vectordict_1970, orient = 'index')\n",
    "    vectordf_1970[\"sum\"] = vectordf_1970.sum(axis=1)\n",
    "    valuezero_1970 = vectordf_1970['sum'].isin([0.0])\n",
    "    vectordf_no_zeros_1970 = vectordf_1970[~valuezero_1970]\n",
    "    del vectordf_no_zeros_1970['sum']\n",
    "    \n",
    "    vectorlengths_1970 = np.linalg.norm(vectordf_no_zeros_1970, ord = 2, axis = 1)   # normalize vector lengths\n",
    "    vectordf_no_zeros_1970 = vectordf_no_zeros_1970.divide(vectorlengths_1970, axis = 'rows')      # for PCA\n",
    "    hist_vocab_no_zeros_1970 = list(vectordf_no_zeros_1970.index.values) # for index\n",
    "    \n",
    "    pca = PCA(n_components = 2)       \n",
    "    components_1970 = pca.fit_transform(vectordf_no_zeros_1970)                      # perform PCA\n",
    "    plotframe_1970 = pd.DataFrame({'x': components_1970[ : , 0], 'y': components_1970[ : , 1]}, index = hist_vocab_no_zeros_1970)\n",
    "    \n",
    "    return plotframe_1970"
   ]
  },
  {
   "cell_type": "code",
   "execution_count": 429,
   "metadata": {},
   "outputs": [
    {
     "data": {
      "text/html": [
       "<div>\n",
       "<style scoped>\n",
       "    .dataframe tbody tr th:only-of-type {\n",
       "        vertical-align: middle;\n",
       "    }\n",
       "\n",
       "    .dataframe tbody tr th {\n",
       "        vertical-align: top;\n",
       "    }\n",
       "\n",
       "    .dataframe thead th {\n",
       "        text-align: right;\n",
       "    }\n",
       "</style>\n",
       "<table border=\"1\" class=\"dataframe\">\n",
       "  <thead>\n",
       "    <tr style=\"text-align: right;\">\n",
       "      <th></th>\n",
       "      <th>queer</th>\n",
       "    </tr>\n",
       "  </thead>\n",
       "  <tbody>\n",
       "    <tr>\n",
       "      <th>x</th>\n",
       "      <td>0.031927</td>\n",
       "    </tr>\n",
       "    <tr>\n",
       "      <th>y</th>\n",
       "      <td>-0.140288</td>\n",
       "    </tr>\n",
       "  </tbody>\n",
       "</table>\n",
       "</div>"
      ],
      "text/plain": [
       "      queer\n",
       "x  0.031927\n",
       "y -0.140288"
      ]
     },
     "execution_count": 429,
     "metadata": {},
     "output_type": "execute_result"
    }
   ],
   "source": [
    "plotframe_1970 = vocab2pca(hist_vocab_1970)\n",
    "transposed_1970 = plotframe_1970.transpose()\n",
    "transposed_1970[['queer']]"
   ]
  },
  {
   "cell_type": "code",
   "execution_count": 430,
   "metadata": {},
   "outputs": [],
   "source": [
    "queer_x_1970 = transposed_1970.iloc[0]['queer']\n",
    "queer_y_1970 = transposed_1970.iloc[1]['queer']"
   ]
  },
  {
   "cell_type": "code",
   "execution_count": 431,
   "metadata": {},
   "outputs": [],
   "source": [
    "\n",
    "plotframe_1970[\"distance_from_queer\"] = (((plotframe_1970.x-queer_x_1970)**2+(plotframe_1970.y-queer_y_1970)**2)**0.5)\n",
    "pd.set_option('display.max_rows', None)\n",
    "distance_sorted_1970 = plotframe_1970.sort_values([\"distance_from_queer\"], ascending=True)\n",
    "distance_sorted_1970.head(100)\n",
    "pd.set_option('display.max_rows', None)\n",
    "list(distance_sorted_1970.index)[0:100]\n",
    "queersimilar_1970 = list(distance_sorted_1970.index)[0:100]"
   ]
  },
  {
   "cell_type": "code",
   "execution_count": 432,
   "metadata": {},
   "outputs": [],
   "source": [
    "with open('C:\\\\Users\\\\Heejoung Shin\\\\Documents\\\\Heejoung Files\\\\UIUC MSLIS\\\\IS417-Data Science in the Humanities\\\\Research Paper\\\\Data\\\\liunegative.txt', encoding = 'utf-8') as f:\n",
    "    negative_words = [x.strip() for x in f.readlines()]\n",
    "    \n",
    "with open('C:\\\\Users\\\\Heejoung Shin\\\\Documents\\\\Heejoung Files\\\\UIUC MSLIS\\\\IS417-Data Science in the Humanities\\\\Research Paper\\\\Data\\\\liupositive.txt', encoding = 'utf-8') as f:\n",
    "    positive_words = [x.strip() for x in f.readlines()]"
   ]
  },
  {
   "cell_type": "code",
   "execution_count": 433,
   "metadata": {},
   "outputs": [],
   "source": [
    "negativelist_1970 = [w for w in queersimilar_1970 if w in negative_words]\n",
    "positivelist_1970 = [w for w in queersimilar_1970 if w in positive_words]"
   ]
  },
  {
   "cell_type": "code",
   "execution_count": 434,
   "metadata": {},
   "outputs": [],
   "source": [
    "negative_df_1970  = vectordf_no_zeros_1970[vectordf_no_zeros_1970.index.isin(negativelist_1970)]\n",
    "positive_df_1970  = vectordf_no_zeros_1970[vectordf_no_zeros_1970.index.isin(positivelist_1970)]"
   ]
  },
  {
   "cell_type": "code",
   "execution_count": 435,
   "metadata": {},
   "outputs": [
    {
     "name": "stdout",
     "output_type": "stream",
     "text": [
      "['striking', 'eagerly', 'shine', 'tenderly', 'stately', 'orderly', 'sweetly', 'everlasting', 'intricate', 'cheery', 'agility']\n",
      "['shake', 'lonely', 'queer', 'sore', 'wounds', 'foul', 'depression', 'commotion', 'uproar', 'drowning', 'crush', 'sour', 'mysteriously', 'hysteria', 'gruff', 'indignantly', 'waning', 'maniac', 'scornfully', 'snare']\n"
     ]
    }
   ],
   "source": [
    "positive_list_1970=positive_df_1970.index.values.tolist() # save index values (the words) from positive_df into a list,\n",
    "                                                # because get_vector uses list (not dataframe, not dict) as input\n",
    "print(positive_list_1970)\n",
    "negative_list_1970= negative_df_1970.index.values.tolist() # save index values (the words) from negative_df into a list\n",
    "print(negative_list_1970)"
   ]
  },
  {
   "cell_type": "code",
   "execution_count": 436,
   "metadata": {},
   "outputs": [
    {
     "name": "stdout",
     "output_type": "stream",
     "text": [
      "-0.19003084138205717\n"
     ]
    }
   ],
   "source": [
    "def get_vector(wordlist): \n",
    "    vectors_1970 = [] # start with empty list\n",
    "    \n",
    "    for ex in wordlist:    # for each word in a wordlist\n",
    "        vec = vectordict_1970[ex]    # get its vector\n",
    "        vectorlength_1970 = np.linalg.norm(vec, ord = 2)     # normalize length\n",
    "        vectors_1970.append(vec / vectorlength_1970)              # and save it in the list\n",
    "        \n",
    "    thesum_1970 = np.sum(vectors_1970, axis = 0)                  # then add all the vectors\n",
    "    vectorlength_1970 = np.linalg.norm(thesum_1970, ord = 2)      # normalize length again\n",
    "    \n",
    "    return thesum_1970 / vectorlength_1970\n",
    "\n",
    "\n",
    "pos_vector_1970 = get_vector(positive_list_1970)\n",
    "neg_vector_1970 = get_vector(negative_list_1970)\n",
    "\n",
    "# vec_queer = model.wv['queer'] # vec_queer is calculated above\n",
    "    \n",
    "pos_dist_1970 = cosine(vec_queer_1970, pos_vector_1970)\n",
    "neg_dist_1970 = cosine(vec_queer_1970, neg_vector_1970)\n",
    "\n",
    "    \n",
    "net_positive_queer_1970 = neg_dist_1970 - pos_dist_1970\n",
    "    \n",
    "print(net_positive_queer_1970)"
   ]
  },
  {
   "cell_type": "code",
   "execution_count": null,
   "metadata": {},
   "outputs": [],
   "source": []
  },
  {
   "cell_type": "markdown",
   "metadata": {},
   "source": [
    "### Word Embeddings (1980s)"
   ]
  },
  {
   "cell_type": "code",
   "execution_count": null,
   "metadata": {},
   "outputs": [],
   "source": []
  },
  {
   "cell_type": "code",
   "execution_count": 437,
   "metadata": {},
   "outputs": [],
   "source": [
    "hist_embeds_1980 = dict()\n",
    "\n",
    "hist_vocab_1980 = pickle.load(open('C:\\\\Users\\\\Heejoung Shin\\\\Documents\\\\Heejoung Files\\\\UIUC MSLIS\\\\IS417-Data Science in the Humanities\\\\Research Paper\\\\Data\\\\eng-fiction-all_sgns\\\\sgns\\\\1980-vocab.pkl', 'rb'))\n",
    "hist_vectors_1980 = np.load('C:\\\\Users\\\\Heejoung Shin\\\\Documents\\\\Heejoung Files\\\\UIUC MSLIS\\\\IS417-Data Science in the Humanities\\\\Research Paper\\\\Data\\\\eng-fiction-all_sgns\\\\sgns\\\\1980-w.npy')\n",
    "\n",
    "\n",
    "for i in range(len(hist_vocab_1980)):\n",
    "    hist_embeds_1980[hist_vocab_1980[i]] = hist_vectors_1980[i]"
   ]
  },
  {
   "cell_type": "code",
   "execution_count": 438,
   "metadata": {},
   "outputs": [],
   "source": [
    "vec_queer_1980 = hist_embeds_1980['queer']"
   ]
  },
  {
   "cell_type": "code",
   "execution_count": 439,
   "metadata": {},
   "outputs": [],
   "source": [
    "vectordict_1980 = dict()\n",
    "for v in hist_vocab_1980:\n",
    "    vectordict_1980[v] = hist_embeds_1980[v]"
   ]
  },
  {
   "cell_type": "code",
   "execution_count": 440,
   "metadata": {},
   "outputs": [],
   "source": [
    "vectordf_1980 = pd.DataFrame.from_dict(vectordict_1980, orient = 'index')\n",
    "vectordf_1980[\"sum\"] = vectordf_1980.sum(axis=1)\n",
    "valuezero_1980 = vectordf_1980['sum'].isin([0.0])\n",
    "vectordf_1980[~valuezero_1980]\n",
    "vectordf_no_zeros_1980 = vectordf_1980[~valuezero_1980]"
   ]
  },
  {
   "cell_type": "code",
   "execution_count": 441,
   "metadata": {},
   "outputs": [],
   "source": [
    "del vectordf_no_zeros_1980['sum']"
   ]
  },
  {
   "cell_type": "code",
   "execution_count": 442,
   "metadata": {},
   "outputs": [],
   "source": [
    "def vocab2pca(hist_vocab_1980):\n",
    "    \n",
    "    vectordict_1980 = dict()\n",
    "    for v in hist_vocab_1980:\n",
    "        vectordict_1980[v] = hist_embeds_1980[v]\n",
    "        \n",
    "    vectordf_1980 = pd.DataFrame.from_dict(vectordict_1980, orient = 'index')\n",
    "    vectordf_1980[\"sum\"] = vectordf_1980.sum(axis=1)\n",
    "    valuezero_1980 = vectordf_1980['sum'].isin([0.0])\n",
    "    vectordf_no_zeros_1980 = vectordf_1980[~valuezero_1980]\n",
    "    del vectordf_no_zeros_1980['sum']\n",
    "    \n",
    "    vectorlengths_1980 = np.linalg.norm(vectordf_no_zeros_1980, ord = 2, axis = 1)   # normalize vector lengths\n",
    "    vectordf_no_zeros_1980 = vectordf_no_zeros_1980.divide(vectorlengths_1980, axis = 'rows')      # for PCA\n",
    "    hist_vocab_no_zeros_1980 = list(vectordf_no_zeros_1980.index.values) # for index\n",
    "    \n",
    "    pca = PCA(n_components = 2)       \n",
    "    components_1980 = pca.fit_transform(vectordf_no_zeros_1980)                      # perform PCA\n",
    "    plotframe_1980 = pd.DataFrame({'x': components_1980[ : , 0], 'y': components_1980[ : , 1]}, index = hist_vocab_no_zeros_1980)\n",
    "    \n",
    "    return plotframe_1980"
   ]
  },
  {
   "cell_type": "code",
   "execution_count": 443,
   "metadata": {},
   "outputs": [
    {
     "data": {
      "text/html": [
       "<div>\n",
       "<style scoped>\n",
       "    .dataframe tbody tr th:only-of-type {\n",
       "        vertical-align: middle;\n",
       "    }\n",
       "\n",
       "    .dataframe tbody tr th {\n",
       "        vertical-align: top;\n",
       "    }\n",
       "\n",
       "    .dataframe thead th {\n",
       "        text-align: right;\n",
       "    }\n",
       "</style>\n",
       "<table border=\"1\" class=\"dataframe\">\n",
       "  <thead>\n",
       "    <tr style=\"text-align: right;\">\n",
       "      <th></th>\n",
       "      <th>queer</th>\n",
       "    </tr>\n",
       "  </thead>\n",
       "  <tbody>\n",
       "    <tr>\n",
       "      <th>x</th>\n",
       "      <td>-0.042804</td>\n",
       "    </tr>\n",
       "    <tr>\n",
       "      <th>y</th>\n",
       "      <td>-0.163765</td>\n",
       "    </tr>\n",
       "  </tbody>\n",
       "</table>\n",
       "</div>"
      ],
      "text/plain": [
       "      queer\n",
       "x -0.042804\n",
       "y -0.163765"
      ]
     },
     "execution_count": 443,
     "metadata": {},
     "output_type": "execute_result"
    }
   ],
   "source": [
    "plotframe_1980 = vocab2pca(hist_vocab_1980)\n",
    "transposed_1980 = plotframe_1980.transpose()\n",
    "transposed_1980[['queer']]"
   ]
  },
  {
   "cell_type": "code",
   "execution_count": 444,
   "metadata": {},
   "outputs": [],
   "source": [
    "queer_x_1980 = transposed_1980.iloc[0]['queer']\n",
    "queer_y_1980 = transposed_1980.iloc[1]['queer']"
   ]
  },
  {
   "cell_type": "code",
   "execution_count": 445,
   "metadata": {},
   "outputs": [],
   "source": [
    "plotframe_1990[\"distance_from_queer\"] = (((plotframe_1980.x-queer_x_1980)**2+(plotframe_1980.y-queer_y_1980)**2)**0.5)\n",
    "pd.set_option('display.max_rows', None)\n",
    "distance_sorted_1980 = plotframe_1990.sort_values([\"distance_from_queer\"], ascending=True)\n",
    "distance_sorted_1980.head(100)\n",
    "pd.set_option('display.max_rows', None)\n",
    "list(distance_sorted_1980.index)[0:100]\n",
    "queersimilar_1980 = list(distance_sorted_1980.index)[0:100]"
   ]
  },
  {
   "cell_type": "code",
   "execution_count": 446,
   "metadata": {},
   "outputs": [],
   "source": [
    "with open('C:\\\\Users\\\\Heejoung Shin\\\\Documents\\\\Heejoung Files\\\\UIUC MSLIS\\\\IS417-Data Science in the Humanities\\\\Research Paper\\\\Data\\\\liunegative.txt', encoding = 'utf-8') as f:\n",
    "    negative_words = [x.strip() for x in f.readlines()]\n",
    "    \n",
    "with open('C:\\\\Users\\\\Heejoung Shin\\\\Documents\\\\Heejoung Files\\\\UIUC MSLIS\\\\IS417-Data Science in the Humanities\\\\Research Paper\\\\Data\\\\liupositive.txt', encoding = 'utf-8') as f:\n",
    "    positive_words = [x.strip() for x in f.readlines()]"
   ]
  },
  {
   "cell_type": "code",
   "execution_count": 447,
   "metadata": {},
   "outputs": [],
   "source": [
    "negativelist_1980 = [w for w in queersimilar_1980 if w in negative_words]\n",
    "positivelist_1980 = [w for w in queersimilar_1980 if w in positive_words]"
   ]
  },
  {
   "cell_type": "code",
   "execution_count": 448,
   "metadata": {},
   "outputs": [],
   "source": [
    "negative_df_1980  = vectordf_no_zeros_1980[vectordf_no_zeros_1980.index.isin(negativelist_1980)]\n",
    "positive_df_1980  = vectordf_no_zeros_1980[vectordf_no_zeros_1980.index.isin(positivelist_1980)]"
   ]
  },
  {
   "cell_type": "code",
   "execution_count": 449,
   "metadata": {},
   "outputs": [
    {
     "name": "stdout",
     "output_type": "stream",
     "text": [
      "['strong', 'excitement', 'instantly', 'brilliant', 'striking', 'ecstasy', 'refreshed', 'jovial', 'tickle', 'blithe']\n",
      "['weak', 'confusion', 'strain', 'queer', 'harsh', 'haste', 'foul', 'oddly', 'depressed', 'lurking', 'isolated', 'frantic', 'hopelessly', 'involuntarily', 'impending', 'hysterical', 'giddy', 'aghast', 'infernal', 'mysteriously', 'opponent', 'enraged', 'unobserved', 'askance', 'drought', 'narrower', 'trample', 'mirage', 'fateful', 'guiltily']\n"
     ]
    }
   ],
   "source": [
    "positive_list_1980=positive_df_1980.index.values.tolist() # save index values (the words) from positive_df into a list,\n",
    "                                                # because get_vector uses list (not dataframe, not dict) as input\n",
    "print(positive_list_1980)\n",
    "negative_list_1980=negative_df_1980.index.values.tolist() # save index values (the words) from negative_df into a list\n",
    "print(negative_list_1980)"
   ]
  },
  {
   "cell_type": "code",
   "execution_count": 450,
   "metadata": {},
   "outputs": [
    {
     "name": "stdout",
     "output_type": "stream",
     "text": [
      "-0.09638493868861475\n"
     ]
    }
   ],
   "source": [
    "def get_vector(wordlist): \n",
    "    vectors_1980 = [] # start with empty list\n",
    "    \n",
    "    for ex in wordlist:    # for each word in a wordlist\n",
    "        vec = vectordict_1980[ex]    # get its vector\n",
    "        vectorlength_1980 = np.linalg.norm(vec, ord = 2)     # normalize length\n",
    "        vectors_1980.append(vec / vectorlength_1980)              # and save it in the list\n",
    "        \n",
    "    thesum_1980 = np.sum(vectors_1980, axis = 0)                  # then add all the vectors\n",
    "    vectorlength_1980 = np.linalg.norm(thesum_1980, ord = 2)      # normalize length again\n",
    "    \n",
    "    return thesum_1980 / vectorlength_1980\n",
    "\n",
    "\n",
    "pos_vector_1980 = get_vector(positive_list_1980)\n",
    "neg_vector_1980 = get_vector(negative_list_1980)\n",
    "\n",
    "# vec_queer = model.wv['queer'] # vec_queer is calculated above\n",
    "    \n",
    "pos_dist_1980 = cosine(vec_queer_1980, pos_vector_1980)\n",
    "neg_dist_1980 = cosine(vec_queer_1980, neg_vector_1980)\n",
    "\n",
    "    \n",
    "net_positive_queer_1980 = neg_dist_1980 - pos_dist_1980\n",
    "    \n",
    "print(net_positive_queer_1980)"
   ]
  },
  {
   "cell_type": "code",
   "execution_count": null,
   "metadata": {},
   "outputs": [],
   "source": []
  },
  {
   "cell_type": "markdown",
   "metadata": {},
   "source": [
    "### Word Embeddings (1990s)"
   ]
  },
  {
   "cell_type": "code",
   "execution_count": 451,
   "metadata": {},
   "outputs": [],
   "source": [
    "hist_embeds_1990 = dict()\n",
    "\n",
    "hist_vocab_1990 = pickle.load(open('C:\\\\Users\\\\Heejoung Shin\\\\Documents\\\\Heejoung Files\\\\UIUC MSLIS\\\\IS417-Data Science in the Humanities\\\\Research Paper\\\\Data\\\\eng-fiction-all_sgns\\\\sgns\\\\1990-vocab.pkl', 'rb'))\n",
    "hist_vectors_1990 = np.load('C:\\\\Users\\\\Heejoung Shin\\\\Documents\\\\Heejoung Files\\\\UIUC MSLIS\\\\IS417-Data Science in the Humanities\\\\Research Paper\\\\Data\\\\eng-fiction-all_sgns\\\\sgns\\\\1990-w.npy')\n",
    "\n",
    "\n",
    "for i in range(len(hist_vocab_1990)):\n",
    "    hist_embeds_1990[hist_vocab_1990[i]] = hist_vectors_1990[i]"
   ]
  },
  {
   "cell_type": "code",
   "execution_count": 452,
   "metadata": {},
   "outputs": [],
   "source": [
    "vec_queer_1990 = hist_embeds_1990['queer']"
   ]
  },
  {
   "cell_type": "code",
   "execution_count": 453,
   "metadata": {},
   "outputs": [],
   "source": [
    "vectordict_1990 = dict()\n",
    "for v in hist_vocab_1990:\n",
    "    vectordict_1990[v] = hist_embeds_1990[v]"
   ]
  },
  {
   "cell_type": "code",
   "execution_count": 454,
   "metadata": {},
   "outputs": [],
   "source": [
    "vectordf_1990 = pd.DataFrame.from_dict(vectordict_1990, orient = 'index')\n",
    "vectordf_1990[\"sum\"] = vectordf_1990.sum(axis=1)\n",
    "valuezero_1990 = vectordf_1990['sum'].isin([0.0])\n",
    "vectordf_1990[~valuezero_1990]\n",
    "vectordf_no_zeros_1990 = vectordf_1990[~valuezero_1990]"
   ]
  },
  {
   "cell_type": "code",
   "execution_count": 455,
   "metadata": {},
   "outputs": [],
   "source": [
    "del vectordf_no_zeros_1990['sum']"
   ]
  },
  {
   "cell_type": "code",
   "execution_count": 456,
   "metadata": {},
   "outputs": [],
   "source": [
    "def vocab2pca(hist_vocab_1990):\n",
    "    \n",
    "    vectordict_1990 = dict()\n",
    "    for v in hist_vocab_1990:\n",
    "        vectordict_1990[v] = hist_embeds_1990[v]\n",
    "        \n",
    "    vectordf_1990 = pd.DataFrame.from_dict(vectordict_1990, orient = 'index')\n",
    "    vectordf_1990[\"sum\"] = vectordf_1990.sum(axis=1)\n",
    "    valuezero_1990 = vectordf_1990['sum'].isin([0.0])\n",
    "    vectordf_no_zeros_1990 = vectordf_1990[~valuezero_1990]\n",
    "    del vectordf_no_zeros_1990['sum']\n",
    "    \n",
    "    vectorlengths_1990 = np.linalg.norm(vectordf_no_zeros_1990, ord = 2, axis = 1)   # normalize vector lengths\n",
    "    vectordf_no_zeros_1990 = vectordf_no_zeros_1990.divide(vectorlengths_1990, axis = 'rows')      # for PCA\n",
    "    hist_vocab_no_zeros_1990 = list(vectordf_no_zeros_1990.index.values) # for index\n",
    "    \n",
    "    pca = PCA(n_components = 2)       \n",
    "    components_1990 = pca.fit_transform(vectordf_no_zeros_1990)                      # perform PCA\n",
    "    plotframe_1990 = pd.DataFrame({'x': components_1990[ : , 0], 'y': components_1990[ : , 1]}, index = hist_vocab_no_zeros_1990)\n",
    "    \n",
    "    return plotframe_1990"
   ]
  },
  {
   "cell_type": "code",
   "execution_count": 457,
   "metadata": {},
   "outputs": [
    {
     "data": {
      "text/html": [
       "<div>\n",
       "<style scoped>\n",
       "    .dataframe tbody tr th:only-of-type {\n",
       "        vertical-align: middle;\n",
       "    }\n",
       "\n",
       "    .dataframe tbody tr th {\n",
       "        vertical-align: top;\n",
       "    }\n",
       "\n",
       "    .dataframe thead th {\n",
       "        text-align: right;\n",
       "    }\n",
       "</style>\n",
       "<table border=\"1\" class=\"dataframe\">\n",
       "  <thead>\n",
       "    <tr style=\"text-align: right;\">\n",
       "      <th></th>\n",
       "      <th>queer</th>\n",
       "    </tr>\n",
       "  </thead>\n",
       "  <tbody>\n",
       "    <tr>\n",
       "      <th>x</th>\n",
       "      <td>-0.020595</td>\n",
       "    </tr>\n",
       "    <tr>\n",
       "      <th>y</th>\n",
       "      <td>-0.061811</td>\n",
       "    </tr>\n",
       "  </tbody>\n",
       "</table>\n",
       "</div>"
      ],
      "text/plain": [
       "      queer\n",
       "x -0.020595\n",
       "y -0.061811"
      ]
     },
     "execution_count": 457,
     "metadata": {},
     "output_type": "execute_result"
    }
   ],
   "source": [
    "plotframe_1990 = vocab2pca(hist_vocab_1990)\n",
    "transposed_1990 = plotframe_1990.transpose()\n",
    "transposed_1990[['queer']]"
   ]
  },
  {
   "cell_type": "code",
   "execution_count": 458,
   "metadata": {},
   "outputs": [],
   "source": [
    "queer_x_1990 = transposed_1990.iloc[0]['queer']\n",
    "queer_y_1990 = transposed_1990.iloc[1]['queer']"
   ]
  },
  {
   "cell_type": "code",
   "execution_count": 459,
   "metadata": {},
   "outputs": [],
   "source": [
    "\n",
    "plotframe_1990[\"distance_from_queer\"] = (((plotframe_1990.x-queer_x_1990)**2+(plotframe_1990.y-queer_y_1990)**2)**0.5)\n",
    "pd.set_option('display.max_rows', None)\n",
    "distance_sorted_1990 = plotframe_1990.sort_values([\"distance_from_queer\"], ascending=True)\n",
    "distance_sorted_1990.head(100)\n",
    "pd.set_option('display.max_rows', None)\n",
    "list(distance_sorted_1990.index)[0:100]\n",
    "queersimilar_1990 = list(distance_sorted_1990.index)[0:100]"
   ]
  },
  {
   "cell_type": "code",
   "execution_count": 460,
   "metadata": {},
   "outputs": [],
   "source": [
    "with open('C:\\\\Users\\\\Heejoung Shin\\\\Documents\\\\Heejoung Files\\\\UIUC MSLIS\\\\IS417-Data Science in the Humanities\\\\Research Paper\\\\Data\\\\liunegative.txt', encoding = 'utf-8') as f:\n",
    "    negative_words = [x.strip() for x in f.readlines()]\n",
    "    \n",
    "with open('C:\\\\Users\\\\Heejoung Shin\\\\Documents\\\\Heejoung Files\\\\UIUC MSLIS\\\\IS417-Data Science in the Humanities\\\\Research Paper\\\\Data\\\\liupositive.txt', encoding = 'utf-8') as f:\n",
    "    positive_words = [x.strip() for x in f.readlines()]"
   ]
  },
  {
   "cell_type": "code",
   "execution_count": 461,
   "metadata": {},
   "outputs": [],
   "source": [
    "negativelist_1990 = [w for w in queersimilar_1990 if w in negative_words]\n",
    "positivelist_1990 = [w for w in queersimilar_1990 if w in positive_words]"
   ]
  },
  {
   "cell_type": "code",
   "execution_count": 462,
   "metadata": {},
   "outputs": [],
   "source": [
    "negative_df_1990  = vectordf_no_zeros_1990[vectordf_no_zeros_1990.index.isin(negativelist_1990)]\n",
    "positive_df_1990  = vectordf_no_zeros_1990[vectordf_no_zeros_1990.index.isin(positivelist_1990)]"
   ]
  },
  {
   "cell_type": "code",
   "execution_count": 463,
   "metadata": {},
   "outputs": [
    {
     "name": "stdout",
     "output_type": "stream",
     "text": [
      "['cheer', 'warmly', 'terrific', 'passionately', 'quicker', 'triumphantly', 'quieter', 'stunning']\n",
      "['sadly', 'awkward', 'queer', 'curse', 'coldly', 'gravely', 'abrupt', 'wary', 'pinch', 'lame', 'unnoticed', 'gruff', 'slower', 'errant', 'cripple', 'forged', 'mirage', 'fateful', 'fussy', 'sardonically', 'pillory']\n"
     ]
    }
   ],
   "source": [
    "positive_list_1990=positive_df_1990.index.values.tolist() # save index values (the words) from positive_df into a list,\n",
    "                                                # because get_vector uses list (not dataframe, not dict) as input\n",
    "print(positive_list_1990)\n",
    "negative_list_1990=negative_df_1990.index.values.tolist() # save index values (the words) from negative_df into a list\n",
    "print(negative_list_1990)"
   ]
  },
  {
   "cell_type": "code",
   "execution_count": 464,
   "metadata": {},
   "outputs": [
    {
     "name": "stdout",
     "output_type": "stream",
     "text": [
      "-0.2506673331544481\n"
     ]
    }
   ],
   "source": [
    "def get_vector(wordlist): \n",
    "    vectors_1990 = [] # start with empty list\n",
    "    \n",
    "    for ex in wordlist:    # for each word in a wordlist\n",
    "        vec = vectordict_1990[ex]    # get its vector\n",
    "        vectorlength_1990 = np.linalg.norm(vec, ord = 2)     # normalize length\n",
    "        vectors_1990.append(vec / vectorlength_1990)              # and save it in the list\n",
    "        \n",
    "    thesum_1990 = np.sum(vectors_1990, axis = 0)                  # then add all the vectors\n",
    "    vectorlength_1990 = np.linalg.norm(thesum_1990, ord = 2)      # normalize length again\n",
    "    \n",
    "    return thesum_1990 / vectorlength_1990\n",
    "\n",
    "\n",
    "pos_vector_1990 = get_vector(positive_list_1990)\n",
    "neg_vector_1990 = get_vector(negative_list_1990)\n",
    "\n",
    "# vec_queer = model.wv['queer'] # vec_queer is calculated above\n",
    "    \n",
    "pos_dist_1990 = cosine(vec_queer_1990, pos_vector_1990)\n",
    "neg_dist_1990 = cosine(vec_queer_1990, neg_vector_1990)\n",
    "\n",
    "    \n",
    "net_positive_queer_1990 = neg_dist_1990 - pos_dist_1990\n",
    "    \n",
    "print(net_positive_queer_1990)"
   ]
  },
  {
   "cell_type": "code",
   "execution_count": null,
   "metadata": {},
   "outputs": [],
   "source": []
  },
  {
   "cell_type": "code",
   "execution_count": null,
   "metadata": {},
   "outputs": [],
   "source": []
  },
  {
   "cell_type": "markdown",
   "metadata": {},
   "source": [
    "### Visualization"
   ]
  },
  {
   "cell_type": "code",
   "execution_count": 632,
   "metadata": {},
   "outputs": [
    {
     "data": {
      "image/png": "[encoded data removed]",
      "text/plain": [
       "<Figure size 936x252 with 1 Axes>"
      ]
     },
     "metadata": {
      "needs_background": "light"
     },
     "output_type": "display_data"
    }
   ],
   "source": [
    "import matplotlib.pyplot as plt\n",
    "   \n",
    "decade = ['1850s', '1860s', '1870s', '1880s', '1890s', '1900s', '1910s', '1920s', '1930s', '1940s', '1950s', '1960s', '1970s', '1980s', '1990s']\n",
    "net_positivity = [-0.460357306235393,-0.072816471, -0.151096911, -0.197052511, -0.391922249, -0.21433233, -0.286137041\n",
    ", -0.206617386, -0.405334859, -0.338515494, -0.271758236, -0.216949478, -0.190030841, -0.096384939, -0.250667333]\n",
    "  \n",
    "plt.figure(figsize = (13, 3.5))\n",
    "plt.plot(decade, net_positivity, marker='o')\n",
    "plt.title(\"Associations around Queer from the 1850s to the 1990s in English Fiction\")\n",
    "plt.xlabel('Decade')\n",
    "plt.ylabel('Net Positivity')\n",
    "plt.grid(True)\n",
    "fig = plt.gcf()\n",
    "fig.savefig(\"netpositivity_histwords.png\", dpi = 100)\n",
    "plt.show()"
   ]
  },
  {
   "cell_type": "code",
   "execution_count": null,
   "metadata": {},
   "outputs": [],
   "source": []
  }
 ],
 "metadata": {
  "kernelspec": {
   "display_name": "Python 3",
   "language": "python",
   "name": "python3"
  },
  "language_info": {
   "codemirror_mode": {
    "name": "ipython",
    "version": 3
   },
   "file_extension": ".py",
   "mimetype": "text/x-python",
   "name": "python",
   "nbconvert_exporter": "python",
   "pygments_lexer": "ipython3",
   "version": "3.8.5"
  }
 },
 "nbformat": 4,
 "nbformat_minor": 4
}
